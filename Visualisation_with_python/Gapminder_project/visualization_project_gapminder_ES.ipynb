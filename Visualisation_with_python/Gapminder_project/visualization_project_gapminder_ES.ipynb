{
 "cells": [
  {
   "cell_type": "markdown",
   "id": "1e79124d",
   "metadata": {},
   "source": [
    "# 1. Project: Visual Data Analysis"
   ]
  },
  {
   "cell_type": "markdown",
   "id": "68f66219",
   "metadata": {},
   "source": [
    "This is an exercise on the reproduction of Hans Rosling’s famous animation. It takes several pandas, matplotlib and seaborn skills in order to apply them to an epic data visualization / storytelling task.\n",
    "\n",
    "Here’s the rough idea:\n",
    "\n",
    "1. Read in data from multiple sources:\n",
    "\n",
    "     **worldwide fertility rate data**\n",
    "\n",
    "     **worldwide life expectancy data**\n",
    "\n",
    "     **worldwide population data**\n",
    "      \n",
    "\n",
    "2. Merge all the data into a single DataFrame.\n",
    "\n",
    "3. Generate a scatterplot for a single year.\n",
    "\n",
    "4. Combine images of scatterplots of all years to make an animation / gif.\n"
   ]
  },
  {
   "cell_type": "code",
   "execution_count": 1,
   "id": "c223deb9",
   "metadata": {},
   "outputs": [],
   "source": [
    "import pandas as pd\n",
    "import numpy as pn"
   ]
  },
  {
   "cell_type": "markdown",
   "id": "a92abd9e",
   "metadata": {},
   "source": [
    "# Load the datasets"
   ]
  },
  {
   "cell_type": "markdown",
   "id": "87c3e3a0",
   "metadata": {},
   "source": [
    "Load the file data/gapminder_total_fertility.csv into pandas."
   ]
  },
  {
   "cell_type": "code",
   "execution_count": 2,
   "id": "aec1971f",
   "metadata": {},
   "outputs": [],
   "source": [
    "fert = pd.read_csv(\"gapminder_total_fertility.csv\", index_col = 0)"
   ]
  },
  {
   "cell_type": "markdown",
   "id": "3136e8a6",
   "metadata": {},
   "source": [
    "Inspect the 5 first rows of the dataframe and its shape."
   ]
  },
  {
   "cell_type": "code",
   "execution_count": 3,
   "id": "018a8282",
   "metadata": {},
   "outputs": [
    {
     "name": "stdout",
     "output_type": "stream",
     "text": [
      "                       1800  1801  1802  1803  1804  1805  1806  1807  1808  \\\n",
      "Total fertility rate                                                          \n",
      "Abkhazia                NaN   NaN   NaN   NaN   NaN   NaN   NaN   NaN   NaN   \n",
      "Afghanistan            7.00  7.00  7.00  7.00  7.00  7.00  7.00  7.00  7.00   \n",
      "Akrotiri and Dhekelia   NaN   NaN   NaN   NaN   NaN   NaN   NaN   NaN   NaN   \n",
      "Albania                4.60  4.60  4.60  4.60  4.60  4.60  4.60  4.60  4.60   \n",
      "Algeria                6.99  6.99  6.99  6.99  6.99  6.99  6.99  6.99  6.99   \n",
      "\n",
      "                       1809  ...  2006  2007  2008  2009  2010  2011  2012  \\\n",
      "Total fertility rate         ...                                             \n",
      "Abkhazia                NaN  ...   NaN   NaN   NaN   NaN   NaN   NaN   NaN   \n",
      "Afghanistan            7.00  ...  6.70  6.46  6.20  5.93  5.66  5.40  5.14   \n",
      "Akrotiri and Dhekelia   NaN  ...   NaN   NaN   NaN   NaN   NaN   NaN   NaN   \n",
      "Albania                4.60  ...  1.85  1.80  1.76  1.74  1.74  1.75  1.76   \n",
      "Algeria                6.99  ...  2.58  2.66  2.73  2.78  2.82  2.83  2.82   \n",
      "\n",
      "                       2013  2014  2015  \n",
      "Total fertility rate                     \n",
      "Abkhazia                NaN   NaN   NaN  \n",
      "Afghanistan            4.90  4.68  4.47  \n",
      "Akrotiri and Dhekelia   NaN   NaN   NaN  \n",
      "Albania                1.77  1.78  1.78  \n",
      "Algeria                2.80  2.76  2.71  \n",
      "\n",
      "[5 rows x 216 columns]\n"
     ]
    }
   ],
   "source": [
    "print(fert.head())"
   ]
  },
  {
   "cell_type": "code",
   "execution_count": 4,
   "id": "f20d3600",
   "metadata": {},
   "outputs": [
    {
     "name": "stdout",
     "output_type": "stream",
     "text": [
      "(260, 216)\n"
     ]
    }
   ],
   "source": [
    "print(fert.shape)"
   ]
  },
  {
   "cell_type": "markdown",
   "id": "04ebc9b0",
   "metadata": {},
   "source": [
    "Proceed in the same way with the file data/gapminder_lifeexpectancy.xlsx.\n",
    "Save it in a DataFrame with the name life. \n"
   ]
  },
  {
   "cell_type": "code",
   "execution_count": 5,
   "id": "e0c2fd98",
   "metadata": {},
   "outputs": [],
   "source": [
    "life = pd.read_excel(\"gapminder_lifeexpectancy.xlsx\", index_col = 0)\n"
   ]
  },
  {
   "cell_type": "markdown",
   "id": "779897e3",
   "metadata": {},
   "source": [
    "Inspect the 5 first rows of the dataframe and its shape."
   ]
  },
  {
   "cell_type": "code",
   "execution_count": 6,
   "id": "af8c2eb3",
   "metadata": {},
   "outputs": [
    {
     "name": "stdout",
     "output_type": "stream",
     "text": [
      "                        1800   1801   1802   1803   1804   1805   1806   1807  \\\n",
      "Life expectancy                                                                 \n",
      "Abkhazia                 NaN    NaN    NaN    NaN    NaN    NaN    NaN    NaN   \n",
      "Afghanistan            28.21  28.20  28.19  28.18  28.17  28.16  28.15  28.14   \n",
      "Akrotiri and Dhekelia    NaN    NaN    NaN    NaN    NaN    NaN    NaN    NaN   \n",
      "Albania                35.40  35.40  35.40  35.40  35.40  35.40  35.40  35.40   \n",
      "Algeria                28.82  28.82  28.82  28.82  28.82  28.82  28.82  28.82   \n",
      "\n",
      "                        1808   1809  ...  2007  2008  2009  2010  2011  2012  \\\n",
      "Life expectancy                      ...                                       \n",
      "Abkhazia                 NaN    NaN  ...   NaN   NaN   NaN   NaN   NaN   NaN   \n",
      "Afghanistan            28.13  28.12  ...  52.4  52.8  53.3  53.6  54.0  54.4   \n",
      "Akrotiri and Dhekelia    NaN    NaN  ...   NaN   NaN   NaN   NaN   NaN   NaN   \n",
      "Albania                35.40  35.40  ...  76.6  76.8  77.0  77.2  77.4  77.5   \n",
      "Algeria                28.82  28.82  ...  75.3  75.5  75.7  76.0  76.1  76.2   \n",
      "\n",
      "                       2013  2014  2015   2016  \n",
      "Life expectancy                                 \n",
      "Abkhazia                NaN   NaN   NaN    NaN  \n",
      "Afghanistan            54.8  54.9  53.8  52.72  \n",
      "Akrotiri and Dhekelia   NaN   NaN   NaN    NaN  \n",
      "Albania                77.7  77.9  78.0  78.10  \n",
      "Algeria                76.3  76.3  76.4  76.50  \n",
      "\n",
      "[5 rows x 217 columns]\n"
     ]
    }
   ],
   "source": [
    "print(life.head())"
   ]
  },
  {
   "cell_type": "code",
   "execution_count": 7,
   "id": "db6a2f19",
   "metadata": {
    "scrolled": false
   },
   "outputs": [
    {
     "name": "stdout",
     "output_type": "stream",
     "text": [
      "(260, 217)\n"
     ]
    }
   ],
   "source": [
    "print(life.shape)"
   ]
  },
  {
   "cell_type": "markdown",
   "id": "4a5eb1cd",
   "metadata": {},
   "source": [
    "# Inspect and adjust the columns of tables"
   ]
  },
  {
   "cell_type": "markdown",
   "id": "2c1c1479",
   "metadata": {},
   "source": [
    "Take a look at the columns of both tables."
   ]
  },
  {
   "cell_type": "code",
   "execution_count": 8,
   "id": "4d574038",
   "metadata": {},
   "outputs": [
    {
     "name": "stdout",
     "output_type": "stream",
     "text": [
      "Index(['1800', '1801', '1802', '1803', '1804', '1805', '1806', '1807', '1808',\n",
      "       '1809',\n",
      "       ...\n",
      "       '2006', '2007', '2008', '2009', '2010', '2011', '2012', '2013', '2014',\n",
      "       '2015'],\n",
      "      dtype='object', length=216)\n"
     ]
    }
   ],
   "source": [
    "print(fert.columns)"
   ]
  },
  {
   "cell_type": "code",
   "execution_count": 9,
   "id": "cbe6ed68",
   "metadata": {},
   "outputs": [
    {
     "name": "stdout",
     "output_type": "stream",
     "text": [
      "Int64Index([1800, 1801, 1802, 1803, 1804, 1805, 1806, 1807, 1808, 1809,\n",
      "            ...\n",
      "            2007, 2008, 2009, 2010, 2011, 2012, 2013, 2014, 2015, 2016],\n",
      "           dtype='int64', length=217)\n"
     ]
    }
   ],
   "source": [
    "print(life.columns)"
   ]
  },
  {
   "cell_type": "markdown",
   "id": "43217e09",
   "metadata": {},
   "source": [
    "One table has columns as strings, the other has integer numbers. To merge the tables, we need to convert both into the same format."
   ]
  },
  {
   "cell_type": "code",
   "execution_count": 10,
   "id": "4235ae6b",
   "metadata": {},
   "outputs": [],
   "source": [
    "fert.columns = fert.columns.astype(int)"
   ]
  },
  {
   "cell_type": "markdown",
   "id": "fd51be9d",
   "metadata": {},
   "source": [
    "Check with fert.columns whether the transformation was successful."
   ]
  },
  {
   "cell_type": "code",
   "execution_count": 11,
   "id": "576ce8dd",
   "metadata": {},
   "outputs": [
    {
     "data": {
      "text/plain": [
       "Int64Index([1800, 1801, 1802, 1803, 1804, 1805, 1806, 1807, 1808, 1809,\n",
       "            ...\n",
       "            2006, 2007, 2008, 2009, 2010, 2011, 2012, 2013, 2014, 2015],\n",
       "           dtype='int64', length=216)"
      ]
     },
     "execution_count": 11,
     "metadata": {},
     "output_type": "execute_result"
    }
   ],
   "source": [
    "fert.columns"
   ]
  },
  {
   "cell_type": "code",
   "execution_count": 12,
   "id": "1c07d702",
   "metadata": {},
   "outputs": [
    {
     "data": {
      "text/plain": [
       "Int64Index([1800, 1801, 1802, 1803, 1804, 1805, 1806, 1807, 1808, 1809,\n",
       "            ...\n",
       "            2007, 2008, 2009, 2010, 2011, 2012, 2013, 2014, 2015, 2016],\n",
       "           dtype='int64', length=217)"
      ]
     },
     "execution_count": 12,
     "metadata": {},
     "output_type": "execute_result"
    }
   ],
   "source": [
    "life.columns"
   ]
  },
  {
   "cell_type": "markdown",
   "id": "9edb2faf",
   "metadata": {},
   "source": [
    "# Inspect and adjust the rows of fert table"
   ]
  },
  {
   "cell_type": "markdown",
   "id": "6b78427f",
   "metadata": {},
   "source": [
    "Now, let’s check the row index of the table."
   ]
  },
  {
   "cell_type": "code",
   "execution_count": 13,
   "id": "8327650e",
   "metadata": {},
   "outputs": [
    {
     "data": {
      "text/plain": [
       "Index(['Abkhazia', 'Afghanistan', 'Akrotiri and Dhekelia', 'Albania',\n",
       "       'Algeria', 'American Samoa', 'Andorra', 'Angola', 'Anguilla',\n",
       "       'Antigua and Barbuda',\n",
       "       ...\n",
       "       'Vietnam', 'Virgin Islands (U.S.)', 'North Yemen (former)',\n",
       "       'South Yemen (former)', 'Yemen', 'Yugoslavia', 'Zambia', 'Zimbabwe',\n",
       "       'Åland', 'Åland'],\n",
       "      dtype='object', name='Total fertility rate', length=260)"
      ]
     },
     "execution_count": 13,
     "metadata": {},
     "output_type": "execute_result"
    }
   ],
   "source": [
    "fert.index"
   ]
  },
  {
   "cell_type": "markdown",
   "id": "a305488f",
   "metadata": {},
   "source": [
    "The name of the index should be called Country."
   ]
  },
  {
   "cell_type": "code",
   "execution_count": 14,
   "id": "c5b30bb2",
   "metadata": {},
   "outputs": [],
   "source": [
    "fert.index.name = \"Country\""
   ]
  },
  {
   "cell_type": "code",
   "execution_count": 15,
   "id": "efcd87cc",
   "metadata": {},
   "outputs": [
    {
     "data": {
      "text/plain": [
       "Index(['Abkhazia', 'Afghanistan', 'Akrotiri and Dhekelia', 'Albania',\n",
       "       'Algeria', 'American Samoa', 'Andorra', 'Angola', 'Anguilla',\n",
       "       'Antigua and Barbuda',\n",
       "       ...\n",
       "       'Vietnam', 'Virgin Islands (U.S.)', 'North Yemen (former)',\n",
       "       'South Yemen (former)', 'Yemen', 'Yugoslavia', 'Zambia', 'Zimbabwe',\n",
       "       'Åland', 'Åland'],\n",
       "      dtype='object', name='Country', length=260)"
      ]
     },
     "execution_count": 15,
     "metadata": {},
     "output_type": "execute_result"
    }
   ],
   "source": [
    "fert.index"
   ]
  },
  {
   "cell_type": "markdown",
   "id": "e1ffd49f",
   "metadata": {},
   "source": [
    "# Convert fert table into long format"
   ]
  },
  {
   "cell_type": "markdown",
   "id": "2d846c0d",
   "metadata": {},
   "source": [
    "Now convert the table into long format. First, we have to move the row index into a column."
   ]
  },
  {
   "cell_type": "code",
   "execution_count": 16,
   "id": "8ad5e2d6",
   "metadata": {},
   "outputs": [],
   "source": [
    "fert = fert.reset_index()"
   ]
  },
  {
   "cell_type": "markdown",
   "id": "a5ff0864",
   "metadata": {},
   "source": [
    "Second, we use the convenient melt function for the conversion."
   ]
  },
  {
   "cell_type": "code",
   "execution_count": 17,
   "id": "bc834ccd",
   "metadata": {},
   "outputs": [],
   "source": [
    "fert = fert.melt(id_vars = \"Country\", var_name = \"year\", value_name = \"fertility_rate\")"
   ]
  },
  {
   "cell_type": "code",
   "execution_count": 18,
   "id": "e04f5b2c",
   "metadata": {},
   "outputs": [
    {
     "data": {
      "text/html": [
       "<div>\n",
       "<style scoped>\n",
       "    .dataframe tbody tr th:only-of-type {\n",
       "        vertical-align: middle;\n",
       "    }\n",
       "\n",
       "    .dataframe tbody tr th {\n",
       "        vertical-align: top;\n",
       "    }\n",
       "\n",
       "    .dataframe thead th {\n",
       "        text-align: right;\n",
       "    }\n",
       "</style>\n",
       "<table border=\"1\" class=\"dataframe\">\n",
       "  <thead>\n",
       "    <tr style=\"text-align: right;\">\n",
       "      <th></th>\n",
       "      <th>Country</th>\n",
       "      <th>year</th>\n",
       "      <th>fertility_rate</th>\n",
       "    </tr>\n",
       "  </thead>\n",
       "  <tbody>\n",
       "    <tr>\n",
       "      <th>0</th>\n",
       "      <td>Abkhazia</td>\n",
       "      <td>1800</td>\n",
       "      <td>NaN</td>\n",
       "    </tr>\n",
       "    <tr>\n",
       "      <th>1</th>\n",
       "      <td>Afghanistan</td>\n",
       "      <td>1800</td>\n",
       "      <td>7.00</td>\n",
       "    </tr>\n",
       "    <tr>\n",
       "      <th>2</th>\n",
       "      <td>Akrotiri and Dhekelia</td>\n",
       "      <td>1800</td>\n",
       "      <td>NaN</td>\n",
       "    </tr>\n",
       "    <tr>\n",
       "      <th>3</th>\n",
       "      <td>Albania</td>\n",
       "      <td>1800</td>\n",
       "      <td>4.60</td>\n",
       "    </tr>\n",
       "    <tr>\n",
       "      <th>4</th>\n",
       "      <td>Algeria</td>\n",
       "      <td>1800</td>\n",
       "      <td>6.99</td>\n",
       "    </tr>\n",
       "    <tr>\n",
       "      <th>...</th>\n",
       "      <td>...</td>\n",
       "      <td>...</td>\n",
       "      <td>...</td>\n",
       "    </tr>\n",
       "    <tr>\n",
       "      <th>56155</th>\n",
       "      <td>Yugoslavia</td>\n",
       "      <td>2015</td>\n",
       "      <td>NaN</td>\n",
       "    </tr>\n",
       "    <tr>\n",
       "      <th>56156</th>\n",
       "      <td>Zambia</td>\n",
       "      <td>2015</td>\n",
       "      <td>5.59</td>\n",
       "    </tr>\n",
       "    <tr>\n",
       "      <th>56157</th>\n",
       "      <td>Zimbabwe</td>\n",
       "      <td>2015</td>\n",
       "      <td>3.35</td>\n",
       "    </tr>\n",
       "    <tr>\n",
       "      <th>56158</th>\n",
       "      <td>Åland</td>\n",
       "      <td>2015</td>\n",
       "      <td>NaN</td>\n",
       "    </tr>\n",
       "    <tr>\n",
       "      <th>56159</th>\n",
       "      <td>Åland</td>\n",
       "      <td>2015</td>\n",
       "      <td>NaN</td>\n",
       "    </tr>\n",
       "  </tbody>\n",
       "</table>\n",
       "<p>56160 rows × 3 columns</p>\n",
       "</div>"
      ],
      "text/plain": [
       "                     Country  year  fertility_rate\n",
       "0                   Abkhazia  1800             NaN\n",
       "1                Afghanistan  1800            7.00\n",
       "2      Akrotiri and Dhekelia  1800             NaN\n",
       "3                    Albania  1800            4.60\n",
       "4                    Algeria  1800            6.99\n",
       "...                      ...   ...             ...\n",
       "56155             Yugoslavia  2015             NaN\n",
       "56156                 Zambia  2015            5.59\n",
       "56157               Zimbabwe  2015            3.35\n",
       "56158                  Åland  2015             NaN\n",
       "56159                  Åland  2015             NaN\n",
       "\n",
       "[56160 rows x 3 columns]"
      ]
     },
     "execution_count": 18,
     "metadata": {},
     "output_type": "execute_result"
    }
   ],
   "source": [
    "fert"
   ]
  },
  {
   "cell_type": "markdown",
   "id": "5695e5ab",
   "metadata": {},
   "source": [
    "# Inspect and adjust the rows of life table"
   ]
  },
  {
   "cell_type": "markdown",
   "id": "569e056f",
   "metadata": {},
   "source": [
    "Repeat the steps for the life expectancy dataset, so that it’s also in long format."
   ]
  },
  {
   "cell_type": "code",
   "execution_count": 19,
   "id": "72ad257c",
   "metadata": {},
   "outputs": [
    {
     "data": {
      "text/plain": [
       "Index(['Abkhazia', 'Afghanistan', 'Akrotiri and Dhekelia', 'Albania',\n",
       "       'Algeria', 'American Samoa', 'Andorra', 'Angola', 'Anguilla',\n",
       "       'Antigua and Barbuda',\n",
       "       ...\n",
       "       'Vietnam', 'Virgin Islands (U.S.)', 'North Yemen (former)',\n",
       "       'South Yemen (former)', 'Yemen', 'Yugoslavia', 'Zambia', 'Zimbabwe',\n",
       "       'Åland', 'South Sudan'],\n",
       "      dtype='object', name='Life expectancy', length=260)"
      ]
     },
     "execution_count": 19,
     "metadata": {},
     "output_type": "execute_result"
    }
   ],
   "source": [
    "life.index"
   ]
  },
  {
   "cell_type": "code",
   "execution_count": 20,
   "id": "2e89a9be",
   "metadata": {},
   "outputs": [],
   "source": [
    "life.index.name = \"Country\""
   ]
  },
  {
   "cell_type": "markdown",
   "id": "29328105",
   "metadata": {},
   "source": [
    "# Convert life table into long format"
   ]
  },
  {
   "cell_type": "code",
   "execution_count": 21,
   "id": "6ec48d88",
   "metadata": {},
   "outputs": [],
   "source": [
    "life = life.reset_index()"
   ]
  },
  {
   "cell_type": "code",
   "execution_count": 22,
   "id": "b6094fe3",
   "metadata": {},
   "outputs": [],
   "source": [
    "life = life.melt(id_vars = \"Country\", var_name = \"year\", value_name = \"life_expectancy\")"
   ]
  },
  {
   "cell_type": "code",
   "execution_count": 23,
   "id": "d676b1a8",
   "metadata": {},
   "outputs": [
    {
     "data": {
      "text/html": [
       "<div>\n",
       "<style scoped>\n",
       "    .dataframe tbody tr th:only-of-type {\n",
       "        vertical-align: middle;\n",
       "    }\n",
       "\n",
       "    .dataframe tbody tr th {\n",
       "        vertical-align: top;\n",
       "    }\n",
       "\n",
       "    .dataframe thead th {\n",
       "        text-align: right;\n",
       "    }\n",
       "</style>\n",
       "<table border=\"1\" class=\"dataframe\">\n",
       "  <thead>\n",
       "    <tr style=\"text-align: right;\">\n",
       "      <th></th>\n",
       "      <th>Country</th>\n",
       "      <th>year</th>\n",
       "      <th>life_expectancy</th>\n",
       "    </tr>\n",
       "  </thead>\n",
       "  <tbody>\n",
       "    <tr>\n",
       "      <th>0</th>\n",
       "      <td>Abkhazia</td>\n",
       "      <td>1800</td>\n",
       "      <td>NaN</td>\n",
       "    </tr>\n",
       "    <tr>\n",
       "      <th>1</th>\n",
       "      <td>Afghanistan</td>\n",
       "      <td>1800</td>\n",
       "      <td>28.21</td>\n",
       "    </tr>\n",
       "    <tr>\n",
       "      <th>2</th>\n",
       "      <td>Akrotiri and Dhekelia</td>\n",
       "      <td>1800</td>\n",
       "      <td>NaN</td>\n",
       "    </tr>\n",
       "    <tr>\n",
       "      <th>3</th>\n",
       "      <td>Albania</td>\n",
       "      <td>1800</td>\n",
       "      <td>35.40</td>\n",
       "    </tr>\n",
       "    <tr>\n",
       "      <th>4</th>\n",
       "      <td>Algeria</td>\n",
       "      <td>1800</td>\n",
       "      <td>28.82</td>\n",
       "    </tr>\n",
       "    <tr>\n",
       "      <th>...</th>\n",
       "      <td>...</td>\n",
       "      <td>...</td>\n",
       "      <td>...</td>\n",
       "    </tr>\n",
       "    <tr>\n",
       "      <th>56415</th>\n",
       "      <td>Yugoslavia</td>\n",
       "      <td>2016</td>\n",
       "      <td>NaN</td>\n",
       "    </tr>\n",
       "    <tr>\n",
       "      <th>56416</th>\n",
       "      <td>Zambia</td>\n",
       "      <td>2016</td>\n",
       "      <td>57.10</td>\n",
       "    </tr>\n",
       "    <tr>\n",
       "      <th>56417</th>\n",
       "      <td>Zimbabwe</td>\n",
       "      <td>2016</td>\n",
       "      <td>61.69</td>\n",
       "    </tr>\n",
       "    <tr>\n",
       "      <th>56418</th>\n",
       "      <td>Åland</td>\n",
       "      <td>2016</td>\n",
       "      <td>NaN</td>\n",
       "    </tr>\n",
       "    <tr>\n",
       "      <th>56419</th>\n",
       "      <td>South Sudan</td>\n",
       "      <td>2016</td>\n",
       "      <td>56.10</td>\n",
       "    </tr>\n",
       "  </tbody>\n",
       "</table>\n",
       "<p>56420 rows × 3 columns</p>\n",
       "</div>"
      ],
      "text/plain": [
       "                     Country  year  life_expectancy\n",
       "0                   Abkhazia  1800              NaN\n",
       "1                Afghanistan  1800            28.21\n",
       "2      Akrotiri and Dhekelia  1800              NaN\n",
       "3                    Albania  1800            35.40\n",
       "4                    Algeria  1800            28.82\n",
       "...                      ...   ...              ...\n",
       "56415             Yugoslavia  2016              NaN\n",
       "56416                 Zambia  2016            57.10\n",
       "56417               Zimbabwe  2016            61.69\n",
       "56418                  Åland  2016              NaN\n",
       "56419            South Sudan  2016            56.10\n",
       "\n",
       "[56420 rows x 3 columns]"
      ]
     },
     "execution_count": 23,
     "metadata": {},
     "output_type": "execute_result"
    }
   ],
   "source": [
    "life"
   ]
  },
  {
   "cell_type": "markdown",
   "id": "c582d85e",
   "metadata": {},
   "source": [
    "# Load the population dataset (inspect, adjust and convert into long format)"
   ]
  },
  {
   "cell_type": "markdown",
   "id": "62b6a91b",
   "metadata": {},
   "source": [
    "To make things even more interesting, let’s also introduce population data from the file data/gapminder_population.xlsx.\n",
    "\n",
    "Read the data in with pandas, and get that DataFrame into the same format as the other two."
   ]
  },
  {
   "cell_type": "code",
   "execution_count": 24,
   "id": "06442e54",
   "metadata": {},
   "outputs": [],
   "source": [
    "pop = pd.read_excel(\"gapminder_population.xlsx\", nrows=260, index_col = 0)"
   ]
  },
  {
   "cell_type": "code",
   "execution_count": 25,
   "id": "7311fa48",
   "metadata": {},
   "outputs": [
    {
     "name": "stdout",
     "output_type": "stream",
     "text": [
      "                            1800       1810       1820       1830       1840  \\\n",
      "Total population                                                               \n",
      "Abkhazia                     NaN        NaN        NaN        NaN        NaN   \n",
      "Afghanistan            3280000.0  3280000.0  3323519.0  3448982.0  3625022.0   \n",
      "Akrotiri and Dhekelia        NaN        NaN        NaN        NaN        NaN   \n",
      "Albania                 410445.0   423591.0   438671.0   457234.0   478227.0   \n",
      "Algeria                2503218.0  2595056.0  2713079.0  2880355.0  3082721.0   \n",
      "\n",
      "                            1850       1860       1870       1880       1890  \\\n",
      "Total population                                                               \n",
      "Abkhazia                     NaN        NaN        NaN        NaN        NaN   \n",
      "Afghanistan            3810047.0  3973968.0  4169690.0  4419695.0  4710171.0   \n",
      "Akrotiri and Dhekelia        NaN        NaN        NaN        NaN        NaN   \n",
      "Albania                 506889.0   552800.0   610036.0   672544.0   741688.0   \n",
      "Algeria                3299305.0  3536468.0  3811028.0  4143163.0  4525691.0   \n",
      "\n",
      "                       ...        2006        2007        2008        2009  \\\n",
      "Total population       ...                                                   \n",
      "Abkhazia               ...         NaN         NaN         NaN         NaN   \n",
      "Afghanistan            ...  25183615.0  25877544.0  26528741.0  27207291.0   \n",
      "Akrotiri and Dhekelia  ...     15700.0     15700.0     15700.0         NaN   \n",
      "Albania                ...   3050741.0   3010849.0   2968026.0   2929886.0   \n",
      "Algeria                ...  33749328.0  34261971.0  34811059.0  35401790.0   \n",
      "\n",
      "                             2010        2011        2012        2013  \\\n",
      "Total population                                                        \n",
      "Abkhazia                      NaN         NaN         NaN         NaN   \n",
      "Afghanistan            27962207.0  28809167.0  29726803.0  30682500.0   \n",
      "Akrotiri and Dhekelia         NaN         NaN         NaN         NaN   \n",
      "Albania                 2901883.0   2886010.0   2880667.0   2883281.0   \n",
      "Algeria                36036159.0  36717132.0  37439427.0  38186135.0   \n",
      "\n",
      "                             2014        2015  \n",
      "Total population                               \n",
      "Abkhazia                      NaN         NaN  \n",
      "Afghanistan            31627506.0  32526562.0  \n",
      "Akrotiri and Dhekelia         NaN         NaN  \n",
      "Albania                 2889676.0   2896679.0  \n",
      "Algeria                38934334.0  39666519.0  \n",
      "\n",
      "[5 rows x 81 columns]\n"
     ]
    }
   ],
   "source": [
    "print(pop.head())"
   ]
  },
  {
   "cell_type": "code",
   "execution_count": 26,
   "id": "3a0c53b5",
   "metadata": {},
   "outputs": [
    {
     "data": {
      "text/plain": [
       "(260, 81)"
      ]
     },
     "execution_count": 26,
     "metadata": {},
     "output_type": "execute_result"
    }
   ],
   "source": [
    "pop.shape"
   ]
  },
  {
   "cell_type": "code",
   "execution_count": 27,
   "id": "06fb2be9",
   "metadata": {},
   "outputs": [
    {
     "data": {
      "text/plain": [
       "Int64Index([1800, 1810, 1820, 1830, 1840, 1850, 1860, 1870, 1880, 1890, 1900,\n",
       "            1910, 1920, 1930, 1940, 1950, 1951, 1952, 1953, 1954, 1955, 1956,\n",
       "            1957, 1958, 1959, 1960, 1961, 1962, 1963, 1964, 1965, 1966, 1967,\n",
       "            1968, 1969, 1970, 1971, 1972, 1973, 1974, 1975, 1976, 1977, 1978,\n",
       "            1979, 1980, 1981, 1982, 1983, 1984, 1985, 1986, 1987, 1988, 1989,\n",
       "            1990, 1991, 1992, 1993, 1994, 1995, 1996, 1997, 1998, 1999, 2000,\n",
       "            2001, 2002, 2003, 2004, 2005, 2006, 2007, 2008, 2009, 2010, 2011,\n",
       "            2012, 2013, 2014, 2015],\n",
       "           dtype='int64')"
      ]
     },
     "execution_count": 27,
     "metadata": {},
     "output_type": "execute_result"
    }
   ],
   "source": [
    "pop.columns"
   ]
  },
  {
   "cell_type": "code",
   "execution_count": 28,
   "id": "334be4b2",
   "metadata": {},
   "outputs": [
    {
     "data": {
      "text/plain": [
       "Index(['Abkhazia', 'Afghanistan', 'Akrotiri and Dhekelia', 'Albania',\n",
       "       'Algeria', 'American Samoa', 'Andorra', 'Angola', 'Anguilla',\n",
       "       'Antigua and Barbuda',\n",
       "       ...\n",
       "       'Vietnam', 'Virgin Islands (U.S.)', 'North Yemen (former)',\n",
       "       'South Yemen (former)', 'Yemen', 'Yugoslavia', 'Zambia', 'Zimbabwe',\n",
       "       'Åland', 'South Sudan'],\n",
       "      dtype='object', name='Total population', length=260)"
      ]
     },
     "execution_count": 28,
     "metadata": {},
     "output_type": "execute_result"
    }
   ],
   "source": [
    "pop.index"
   ]
  },
  {
   "cell_type": "code",
   "execution_count": 29,
   "id": "889ea0ae",
   "metadata": {},
   "outputs": [
    {
     "data": {
      "text/html": [
       "<div>\n",
       "<style scoped>\n",
       "    .dataframe tbody tr th:only-of-type {\n",
       "        vertical-align: middle;\n",
       "    }\n",
       "\n",
       "    .dataframe tbody tr th {\n",
       "        vertical-align: top;\n",
       "    }\n",
       "\n",
       "    .dataframe thead th {\n",
       "        text-align: right;\n",
       "    }\n",
       "</style>\n",
       "<table border=\"1\" class=\"dataframe\">\n",
       "  <thead>\n",
       "    <tr style=\"text-align: right;\">\n",
       "      <th></th>\n",
       "      <th>1800</th>\n",
       "      <th>1810</th>\n",
       "      <th>1820</th>\n",
       "      <th>1830</th>\n",
       "      <th>1840</th>\n",
       "      <th>1850</th>\n",
       "      <th>1860</th>\n",
       "      <th>1870</th>\n",
       "      <th>1880</th>\n",
       "      <th>1890</th>\n",
       "      <th>...</th>\n",
       "      <th>2006</th>\n",
       "      <th>2007</th>\n",
       "      <th>2008</th>\n",
       "      <th>2009</th>\n",
       "      <th>2010</th>\n",
       "      <th>2011</th>\n",
       "      <th>2012</th>\n",
       "      <th>2013</th>\n",
       "      <th>2014</th>\n",
       "      <th>2015</th>\n",
       "    </tr>\n",
       "    <tr>\n",
       "      <th>Total population</th>\n",
       "      <th></th>\n",
       "      <th></th>\n",
       "      <th></th>\n",
       "      <th></th>\n",
       "      <th></th>\n",
       "      <th></th>\n",
       "      <th></th>\n",
       "      <th></th>\n",
       "      <th></th>\n",
       "      <th></th>\n",
       "      <th></th>\n",
       "      <th></th>\n",
       "      <th></th>\n",
       "      <th></th>\n",
       "      <th></th>\n",
       "      <th></th>\n",
       "      <th></th>\n",
       "      <th></th>\n",
       "      <th></th>\n",
       "      <th></th>\n",
       "      <th></th>\n",
       "    </tr>\n",
       "  </thead>\n",
       "  <tbody>\n",
       "    <tr>\n",
       "      <th>Abkhazia</th>\n",
       "      <td>NaN</td>\n",
       "      <td>NaN</td>\n",
       "      <td>NaN</td>\n",
       "      <td>NaN</td>\n",
       "      <td>NaN</td>\n",
       "      <td>NaN</td>\n",
       "      <td>NaN</td>\n",
       "      <td>NaN</td>\n",
       "      <td>NaN</td>\n",
       "      <td>NaN</td>\n",
       "      <td>...</td>\n",
       "      <td>NaN</td>\n",
       "      <td>NaN</td>\n",
       "      <td>NaN</td>\n",
       "      <td>NaN</td>\n",
       "      <td>NaN</td>\n",
       "      <td>NaN</td>\n",
       "      <td>NaN</td>\n",
       "      <td>NaN</td>\n",
       "      <td>NaN</td>\n",
       "      <td>NaN</td>\n",
       "    </tr>\n",
       "    <tr>\n",
       "      <th>Afghanistan</th>\n",
       "      <td>3280000.0</td>\n",
       "      <td>3280000.0</td>\n",
       "      <td>3323519.0</td>\n",
       "      <td>3448982.0</td>\n",
       "      <td>3625022.0</td>\n",
       "      <td>3810047.0</td>\n",
       "      <td>3973968.0</td>\n",
       "      <td>4169690.0</td>\n",
       "      <td>4419695.0</td>\n",
       "      <td>4710171.0</td>\n",
       "      <td>...</td>\n",
       "      <td>25183615.0</td>\n",
       "      <td>25877544.0</td>\n",
       "      <td>26528741.0</td>\n",
       "      <td>27207291.0</td>\n",
       "      <td>27962207.0</td>\n",
       "      <td>28809167.0</td>\n",
       "      <td>29726803.0</td>\n",
       "      <td>30682500.0</td>\n",
       "      <td>31627506.0</td>\n",
       "      <td>32526562.0</td>\n",
       "    </tr>\n",
       "    <tr>\n",
       "      <th>Akrotiri and Dhekelia</th>\n",
       "      <td>NaN</td>\n",
       "      <td>NaN</td>\n",
       "      <td>NaN</td>\n",
       "      <td>NaN</td>\n",
       "      <td>NaN</td>\n",
       "      <td>NaN</td>\n",
       "      <td>NaN</td>\n",
       "      <td>NaN</td>\n",
       "      <td>NaN</td>\n",
       "      <td>NaN</td>\n",
       "      <td>...</td>\n",
       "      <td>15700.0</td>\n",
       "      <td>15700.0</td>\n",
       "      <td>15700.0</td>\n",
       "      <td>NaN</td>\n",
       "      <td>NaN</td>\n",
       "      <td>NaN</td>\n",
       "      <td>NaN</td>\n",
       "      <td>NaN</td>\n",
       "      <td>NaN</td>\n",
       "      <td>NaN</td>\n",
       "    </tr>\n",
       "    <tr>\n",
       "      <th>Albania</th>\n",
       "      <td>410445.0</td>\n",
       "      <td>423591.0</td>\n",
       "      <td>438671.0</td>\n",
       "      <td>457234.0</td>\n",
       "      <td>478227.0</td>\n",
       "      <td>506889.0</td>\n",
       "      <td>552800.0</td>\n",
       "      <td>610036.0</td>\n",
       "      <td>672544.0</td>\n",
       "      <td>741688.0</td>\n",
       "      <td>...</td>\n",
       "      <td>3050741.0</td>\n",
       "      <td>3010849.0</td>\n",
       "      <td>2968026.0</td>\n",
       "      <td>2929886.0</td>\n",
       "      <td>2901883.0</td>\n",
       "      <td>2886010.0</td>\n",
       "      <td>2880667.0</td>\n",
       "      <td>2883281.0</td>\n",
       "      <td>2889676.0</td>\n",
       "      <td>2896679.0</td>\n",
       "    </tr>\n",
       "    <tr>\n",
       "      <th>Algeria</th>\n",
       "      <td>2503218.0</td>\n",
       "      <td>2595056.0</td>\n",
       "      <td>2713079.0</td>\n",
       "      <td>2880355.0</td>\n",
       "      <td>3082721.0</td>\n",
       "      <td>3299305.0</td>\n",
       "      <td>3536468.0</td>\n",
       "      <td>3811028.0</td>\n",
       "      <td>4143163.0</td>\n",
       "      <td>4525691.0</td>\n",
       "      <td>...</td>\n",
       "      <td>33749328.0</td>\n",
       "      <td>34261971.0</td>\n",
       "      <td>34811059.0</td>\n",
       "      <td>35401790.0</td>\n",
       "      <td>36036159.0</td>\n",
       "      <td>36717132.0</td>\n",
       "      <td>37439427.0</td>\n",
       "      <td>38186135.0</td>\n",
       "      <td>38934334.0</td>\n",
       "      <td>39666519.0</td>\n",
       "    </tr>\n",
       "    <tr>\n",
       "      <th>...</th>\n",
       "      <td>...</td>\n",
       "      <td>...</td>\n",
       "      <td>...</td>\n",
       "      <td>...</td>\n",
       "      <td>...</td>\n",
       "      <td>...</td>\n",
       "      <td>...</td>\n",
       "      <td>...</td>\n",
       "      <td>...</td>\n",
       "      <td>...</td>\n",
       "      <td>...</td>\n",
       "      <td>...</td>\n",
       "      <td>...</td>\n",
       "      <td>...</td>\n",
       "      <td>...</td>\n",
       "      <td>...</td>\n",
       "      <td>...</td>\n",
       "      <td>...</td>\n",
       "      <td>...</td>\n",
       "      <td>...</td>\n",
       "      <td>...</td>\n",
       "    </tr>\n",
       "    <tr>\n",
       "      <th>Yugoslavia</th>\n",
       "      <td>NaN</td>\n",
       "      <td>NaN</td>\n",
       "      <td>NaN</td>\n",
       "      <td>NaN</td>\n",
       "      <td>NaN</td>\n",
       "      <td>NaN</td>\n",
       "      <td>NaN</td>\n",
       "      <td>NaN</td>\n",
       "      <td>NaN</td>\n",
       "      <td>NaN</td>\n",
       "      <td>...</td>\n",
       "      <td>23887171.0</td>\n",
       "      <td>23946096.0</td>\n",
       "      <td>23988543.0</td>\n",
       "      <td>NaN</td>\n",
       "      <td>NaN</td>\n",
       "      <td>NaN</td>\n",
       "      <td>NaN</td>\n",
       "      <td>NaN</td>\n",
       "      <td>NaN</td>\n",
       "      <td>NaN</td>\n",
       "    </tr>\n",
       "    <tr>\n",
       "      <th>Zambia</th>\n",
       "      <td>747000.0</td>\n",
       "      <td>747000.0</td>\n",
       "      <td>747000.0</td>\n",
       "      <td>747000.0</td>\n",
       "      <td>747000.0</td>\n",
       "      <td>747000.0</td>\n",
       "      <td>746052.0</td>\n",
       "      <td>745105.0</td>\n",
       "      <td>744157.0</td>\n",
       "      <td>743210.0</td>\n",
       "      <td>...</td>\n",
       "      <td>12381509.0</td>\n",
       "      <td>12738676.0</td>\n",
       "      <td>13114579.0</td>\n",
       "      <td>13507849.0</td>\n",
       "      <td>13917439.0</td>\n",
       "      <td>14343526.0</td>\n",
       "      <td>14786581.0</td>\n",
       "      <td>15246086.0</td>\n",
       "      <td>15721343.0</td>\n",
       "      <td>16211767.0</td>\n",
       "    </tr>\n",
       "    <tr>\n",
       "      <th>Zimbabwe</th>\n",
       "      <td>1085814.0</td>\n",
       "      <td>1085814.0</td>\n",
       "      <td>1106634.0</td>\n",
       "      <td>1167259.0</td>\n",
       "      <td>1253642.0</td>\n",
       "      <td>1346417.0</td>\n",
       "      <td>1444385.0</td>\n",
       "      <td>1549480.0</td>\n",
       "      <td>1661683.0</td>\n",
       "      <td>1781947.0</td>\n",
       "      <td>...</td>\n",
       "      <td>13127942.0</td>\n",
       "      <td>13297798.0</td>\n",
       "      <td>13495462.0</td>\n",
       "      <td>13720997.0</td>\n",
       "      <td>13973897.0</td>\n",
       "      <td>14255592.0</td>\n",
       "      <td>14565482.0</td>\n",
       "      <td>14898092.0</td>\n",
       "      <td>15245855.0</td>\n",
       "      <td>15602751.0</td>\n",
       "    </tr>\n",
       "    <tr>\n",
       "      <th>Åland</th>\n",
       "      <td>NaN</td>\n",
       "      <td>NaN</td>\n",
       "      <td>NaN</td>\n",
       "      <td>NaN</td>\n",
       "      <td>NaN</td>\n",
       "      <td>NaN</td>\n",
       "      <td>NaN</td>\n",
       "      <td>NaN</td>\n",
       "      <td>NaN</td>\n",
       "      <td>NaN</td>\n",
       "      <td>...</td>\n",
       "      <td>26923.0</td>\n",
       "      <td>26923.0</td>\n",
       "      <td>26923.0</td>\n",
       "      <td>26923.0</td>\n",
       "      <td>26923.0</td>\n",
       "      <td>NaN</td>\n",
       "      <td>NaN</td>\n",
       "      <td>NaN</td>\n",
       "      <td>NaN</td>\n",
       "      <td>NaN</td>\n",
       "    </tr>\n",
       "    <tr>\n",
       "      <th>South Sudan</th>\n",
       "      <td>1027378.0</td>\n",
       "      <td>1041076.0</td>\n",
       "      <td>1063732.0</td>\n",
       "      <td>1103246.0</td>\n",
       "      <td>1153401.0</td>\n",
       "      <td>1205835.0</td>\n",
       "      <td>1329906.0</td>\n",
       "      <td>1462765.0</td>\n",
       "      <td>1604755.0</td>\n",
       "      <td>1756589.0</td>\n",
       "      <td>...</td>\n",
       "      <td>8445659.0</td>\n",
       "      <td>8815495.0</td>\n",
       "      <td>9208598.0</td>\n",
       "      <td>9623176.0</td>\n",
       "      <td>10056475.0</td>\n",
       "      <td>10510122.0</td>\n",
       "      <td>10980623.0</td>\n",
       "      <td>11453810.0</td>\n",
       "      <td>11911184.0</td>\n",
       "      <td>12339812.0</td>\n",
       "    </tr>\n",
       "  </tbody>\n",
       "</table>\n",
       "<p>260 rows × 81 columns</p>\n",
       "</div>"
      ],
      "text/plain": [
       "                            1800       1810       1820       1830       1840  \\\n",
       "Total population                                                               \n",
       "Abkhazia                     NaN        NaN        NaN        NaN        NaN   \n",
       "Afghanistan            3280000.0  3280000.0  3323519.0  3448982.0  3625022.0   \n",
       "Akrotiri and Dhekelia        NaN        NaN        NaN        NaN        NaN   \n",
       "Albania                 410445.0   423591.0   438671.0   457234.0   478227.0   \n",
       "Algeria                2503218.0  2595056.0  2713079.0  2880355.0  3082721.0   \n",
       "...                          ...        ...        ...        ...        ...   \n",
       "Yugoslavia                   NaN        NaN        NaN        NaN        NaN   \n",
       "Zambia                  747000.0   747000.0   747000.0   747000.0   747000.0   \n",
       "Zimbabwe               1085814.0  1085814.0  1106634.0  1167259.0  1253642.0   \n",
       "Åland                        NaN        NaN        NaN        NaN        NaN   \n",
       "South Sudan            1027378.0  1041076.0  1063732.0  1103246.0  1153401.0   \n",
       "\n",
       "                            1850       1860       1870       1880       1890  \\\n",
       "Total population                                                               \n",
       "Abkhazia                     NaN        NaN        NaN        NaN        NaN   \n",
       "Afghanistan            3810047.0  3973968.0  4169690.0  4419695.0  4710171.0   \n",
       "Akrotiri and Dhekelia        NaN        NaN        NaN        NaN        NaN   \n",
       "Albania                 506889.0   552800.0   610036.0   672544.0   741688.0   \n",
       "Algeria                3299305.0  3536468.0  3811028.0  4143163.0  4525691.0   \n",
       "...                          ...        ...        ...        ...        ...   \n",
       "Yugoslavia                   NaN        NaN        NaN        NaN        NaN   \n",
       "Zambia                  747000.0   746052.0   745105.0   744157.0   743210.0   \n",
       "Zimbabwe               1346417.0  1444385.0  1549480.0  1661683.0  1781947.0   \n",
       "Åland                        NaN        NaN        NaN        NaN        NaN   \n",
       "South Sudan            1205835.0  1329906.0  1462765.0  1604755.0  1756589.0   \n",
       "\n",
       "                       ...        2006        2007        2008        2009  \\\n",
       "Total population       ...                                                   \n",
       "Abkhazia               ...         NaN         NaN         NaN         NaN   \n",
       "Afghanistan            ...  25183615.0  25877544.0  26528741.0  27207291.0   \n",
       "Akrotiri and Dhekelia  ...     15700.0     15700.0     15700.0         NaN   \n",
       "Albania                ...   3050741.0   3010849.0   2968026.0   2929886.0   \n",
       "Algeria                ...  33749328.0  34261971.0  34811059.0  35401790.0   \n",
       "...                    ...         ...         ...         ...         ...   \n",
       "Yugoslavia             ...  23887171.0  23946096.0  23988543.0         NaN   \n",
       "Zambia                 ...  12381509.0  12738676.0  13114579.0  13507849.0   \n",
       "Zimbabwe               ...  13127942.0  13297798.0  13495462.0  13720997.0   \n",
       "Åland                  ...     26923.0     26923.0     26923.0     26923.0   \n",
       "South Sudan            ...   8445659.0   8815495.0   9208598.0   9623176.0   \n",
       "\n",
       "                             2010        2011        2012        2013  \\\n",
       "Total population                                                        \n",
       "Abkhazia                      NaN         NaN         NaN         NaN   \n",
       "Afghanistan            27962207.0  28809167.0  29726803.0  30682500.0   \n",
       "Akrotiri and Dhekelia         NaN         NaN         NaN         NaN   \n",
       "Albania                 2901883.0   2886010.0   2880667.0   2883281.0   \n",
       "Algeria                36036159.0  36717132.0  37439427.0  38186135.0   \n",
       "...                           ...         ...         ...         ...   \n",
       "Yugoslavia                    NaN         NaN         NaN         NaN   \n",
       "Zambia                 13917439.0  14343526.0  14786581.0  15246086.0   \n",
       "Zimbabwe               13973897.0  14255592.0  14565482.0  14898092.0   \n",
       "Åland                     26923.0         NaN         NaN         NaN   \n",
       "South Sudan            10056475.0  10510122.0  10980623.0  11453810.0   \n",
       "\n",
       "                             2014        2015  \n",
       "Total population                               \n",
       "Abkhazia                      NaN         NaN  \n",
       "Afghanistan            31627506.0  32526562.0  \n",
       "Akrotiri and Dhekelia         NaN         NaN  \n",
       "Albania                 2889676.0   2896679.0  \n",
       "Algeria                38934334.0  39666519.0  \n",
       "...                           ...         ...  \n",
       "Yugoslavia                    NaN         NaN  \n",
       "Zambia                 15721343.0  16211767.0  \n",
       "Zimbabwe               15245855.0  15602751.0  \n",
       "Åland                         NaN         NaN  \n",
       "South Sudan            11911184.0  12339812.0  \n",
       "\n",
       "[260 rows x 81 columns]"
      ]
     },
     "execution_count": 29,
     "metadata": {},
     "output_type": "execute_result"
    }
   ],
   "source": [
    "pop"
   ]
  },
  {
   "cell_type": "code",
   "execution_count": 30,
   "id": "c9b6a2a3",
   "metadata": {},
   "outputs": [],
   "source": [
    "pop.index.name = \"Country\""
   ]
  },
  {
   "cell_type": "code",
   "execution_count": 31,
   "id": "29c0c2a5",
   "metadata": {},
   "outputs": [],
   "source": [
    "pop = pop.reset_index()"
   ]
  },
  {
   "cell_type": "code",
   "execution_count": 32,
   "id": "02777eb2",
   "metadata": {},
   "outputs": [
    {
     "data": {
      "text/html": [
       "<div>\n",
       "<style scoped>\n",
       "    .dataframe tbody tr th:only-of-type {\n",
       "        vertical-align: middle;\n",
       "    }\n",
       "\n",
       "    .dataframe tbody tr th {\n",
       "        vertical-align: top;\n",
       "    }\n",
       "\n",
       "    .dataframe thead th {\n",
       "        text-align: right;\n",
       "    }\n",
       "</style>\n",
       "<table border=\"1\" class=\"dataframe\">\n",
       "  <thead>\n",
       "    <tr style=\"text-align: right;\">\n",
       "      <th></th>\n",
       "      <th>Country</th>\n",
       "      <th>1800</th>\n",
       "      <th>1810</th>\n",
       "      <th>1820</th>\n",
       "      <th>1830</th>\n",
       "      <th>1840</th>\n",
       "      <th>1850</th>\n",
       "      <th>1860</th>\n",
       "      <th>1870</th>\n",
       "      <th>1880</th>\n",
       "      <th>...</th>\n",
       "      <th>2006</th>\n",
       "      <th>2007</th>\n",
       "      <th>2008</th>\n",
       "      <th>2009</th>\n",
       "      <th>2010</th>\n",
       "      <th>2011</th>\n",
       "      <th>2012</th>\n",
       "      <th>2013</th>\n",
       "      <th>2014</th>\n",
       "      <th>2015</th>\n",
       "    </tr>\n",
       "  </thead>\n",
       "  <tbody>\n",
       "    <tr>\n",
       "      <th>0</th>\n",
       "      <td>Abkhazia</td>\n",
       "      <td>NaN</td>\n",
       "      <td>NaN</td>\n",
       "      <td>NaN</td>\n",
       "      <td>NaN</td>\n",
       "      <td>NaN</td>\n",
       "      <td>NaN</td>\n",
       "      <td>NaN</td>\n",
       "      <td>NaN</td>\n",
       "      <td>NaN</td>\n",
       "      <td>...</td>\n",
       "      <td>NaN</td>\n",
       "      <td>NaN</td>\n",
       "      <td>NaN</td>\n",
       "      <td>NaN</td>\n",
       "      <td>NaN</td>\n",
       "      <td>NaN</td>\n",
       "      <td>NaN</td>\n",
       "      <td>NaN</td>\n",
       "      <td>NaN</td>\n",
       "      <td>NaN</td>\n",
       "    </tr>\n",
       "    <tr>\n",
       "      <th>1</th>\n",
       "      <td>Afghanistan</td>\n",
       "      <td>3280000.0</td>\n",
       "      <td>3280000.0</td>\n",
       "      <td>3323519.0</td>\n",
       "      <td>3448982.0</td>\n",
       "      <td>3625022.0</td>\n",
       "      <td>3810047.0</td>\n",
       "      <td>3973968.0</td>\n",
       "      <td>4169690.0</td>\n",
       "      <td>4419695.0</td>\n",
       "      <td>...</td>\n",
       "      <td>25183615.0</td>\n",
       "      <td>25877544.0</td>\n",
       "      <td>26528741.0</td>\n",
       "      <td>27207291.0</td>\n",
       "      <td>27962207.0</td>\n",
       "      <td>28809167.0</td>\n",
       "      <td>29726803.0</td>\n",
       "      <td>30682500.0</td>\n",
       "      <td>31627506.0</td>\n",
       "      <td>32526562.0</td>\n",
       "    </tr>\n",
       "    <tr>\n",
       "      <th>2</th>\n",
       "      <td>Akrotiri and Dhekelia</td>\n",
       "      <td>NaN</td>\n",
       "      <td>NaN</td>\n",
       "      <td>NaN</td>\n",
       "      <td>NaN</td>\n",
       "      <td>NaN</td>\n",
       "      <td>NaN</td>\n",
       "      <td>NaN</td>\n",
       "      <td>NaN</td>\n",
       "      <td>NaN</td>\n",
       "      <td>...</td>\n",
       "      <td>15700.0</td>\n",
       "      <td>15700.0</td>\n",
       "      <td>15700.0</td>\n",
       "      <td>NaN</td>\n",
       "      <td>NaN</td>\n",
       "      <td>NaN</td>\n",
       "      <td>NaN</td>\n",
       "      <td>NaN</td>\n",
       "      <td>NaN</td>\n",
       "      <td>NaN</td>\n",
       "    </tr>\n",
       "    <tr>\n",
       "      <th>3</th>\n",
       "      <td>Albania</td>\n",
       "      <td>410445.0</td>\n",
       "      <td>423591.0</td>\n",
       "      <td>438671.0</td>\n",
       "      <td>457234.0</td>\n",
       "      <td>478227.0</td>\n",
       "      <td>506889.0</td>\n",
       "      <td>552800.0</td>\n",
       "      <td>610036.0</td>\n",
       "      <td>672544.0</td>\n",
       "      <td>...</td>\n",
       "      <td>3050741.0</td>\n",
       "      <td>3010849.0</td>\n",
       "      <td>2968026.0</td>\n",
       "      <td>2929886.0</td>\n",
       "      <td>2901883.0</td>\n",
       "      <td>2886010.0</td>\n",
       "      <td>2880667.0</td>\n",
       "      <td>2883281.0</td>\n",
       "      <td>2889676.0</td>\n",
       "      <td>2896679.0</td>\n",
       "    </tr>\n",
       "    <tr>\n",
       "      <th>4</th>\n",
       "      <td>Algeria</td>\n",
       "      <td>2503218.0</td>\n",
       "      <td>2595056.0</td>\n",
       "      <td>2713079.0</td>\n",
       "      <td>2880355.0</td>\n",
       "      <td>3082721.0</td>\n",
       "      <td>3299305.0</td>\n",
       "      <td>3536468.0</td>\n",
       "      <td>3811028.0</td>\n",
       "      <td>4143163.0</td>\n",
       "      <td>...</td>\n",
       "      <td>33749328.0</td>\n",
       "      <td>34261971.0</td>\n",
       "      <td>34811059.0</td>\n",
       "      <td>35401790.0</td>\n",
       "      <td>36036159.0</td>\n",
       "      <td>36717132.0</td>\n",
       "      <td>37439427.0</td>\n",
       "      <td>38186135.0</td>\n",
       "      <td>38934334.0</td>\n",
       "      <td>39666519.0</td>\n",
       "    </tr>\n",
       "    <tr>\n",
       "      <th>...</th>\n",
       "      <td>...</td>\n",
       "      <td>...</td>\n",
       "      <td>...</td>\n",
       "      <td>...</td>\n",
       "      <td>...</td>\n",
       "      <td>...</td>\n",
       "      <td>...</td>\n",
       "      <td>...</td>\n",
       "      <td>...</td>\n",
       "      <td>...</td>\n",
       "      <td>...</td>\n",
       "      <td>...</td>\n",
       "      <td>...</td>\n",
       "      <td>...</td>\n",
       "      <td>...</td>\n",
       "      <td>...</td>\n",
       "      <td>...</td>\n",
       "      <td>...</td>\n",
       "      <td>...</td>\n",
       "      <td>...</td>\n",
       "      <td>...</td>\n",
       "    </tr>\n",
       "    <tr>\n",
       "      <th>255</th>\n",
       "      <td>Yugoslavia</td>\n",
       "      <td>NaN</td>\n",
       "      <td>NaN</td>\n",
       "      <td>NaN</td>\n",
       "      <td>NaN</td>\n",
       "      <td>NaN</td>\n",
       "      <td>NaN</td>\n",
       "      <td>NaN</td>\n",
       "      <td>NaN</td>\n",
       "      <td>NaN</td>\n",
       "      <td>...</td>\n",
       "      <td>23887171.0</td>\n",
       "      <td>23946096.0</td>\n",
       "      <td>23988543.0</td>\n",
       "      <td>NaN</td>\n",
       "      <td>NaN</td>\n",
       "      <td>NaN</td>\n",
       "      <td>NaN</td>\n",
       "      <td>NaN</td>\n",
       "      <td>NaN</td>\n",
       "      <td>NaN</td>\n",
       "    </tr>\n",
       "    <tr>\n",
       "      <th>256</th>\n",
       "      <td>Zambia</td>\n",
       "      <td>747000.0</td>\n",
       "      <td>747000.0</td>\n",
       "      <td>747000.0</td>\n",
       "      <td>747000.0</td>\n",
       "      <td>747000.0</td>\n",
       "      <td>747000.0</td>\n",
       "      <td>746052.0</td>\n",
       "      <td>745105.0</td>\n",
       "      <td>744157.0</td>\n",
       "      <td>...</td>\n",
       "      <td>12381509.0</td>\n",
       "      <td>12738676.0</td>\n",
       "      <td>13114579.0</td>\n",
       "      <td>13507849.0</td>\n",
       "      <td>13917439.0</td>\n",
       "      <td>14343526.0</td>\n",
       "      <td>14786581.0</td>\n",
       "      <td>15246086.0</td>\n",
       "      <td>15721343.0</td>\n",
       "      <td>16211767.0</td>\n",
       "    </tr>\n",
       "    <tr>\n",
       "      <th>257</th>\n",
       "      <td>Zimbabwe</td>\n",
       "      <td>1085814.0</td>\n",
       "      <td>1085814.0</td>\n",
       "      <td>1106634.0</td>\n",
       "      <td>1167259.0</td>\n",
       "      <td>1253642.0</td>\n",
       "      <td>1346417.0</td>\n",
       "      <td>1444385.0</td>\n",
       "      <td>1549480.0</td>\n",
       "      <td>1661683.0</td>\n",
       "      <td>...</td>\n",
       "      <td>13127942.0</td>\n",
       "      <td>13297798.0</td>\n",
       "      <td>13495462.0</td>\n",
       "      <td>13720997.0</td>\n",
       "      <td>13973897.0</td>\n",
       "      <td>14255592.0</td>\n",
       "      <td>14565482.0</td>\n",
       "      <td>14898092.0</td>\n",
       "      <td>15245855.0</td>\n",
       "      <td>15602751.0</td>\n",
       "    </tr>\n",
       "    <tr>\n",
       "      <th>258</th>\n",
       "      <td>Åland</td>\n",
       "      <td>NaN</td>\n",
       "      <td>NaN</td>\n",
       "      <td>NaN</td>\n",
       "      <td>NaN</td>\n",
       "      <td>NaN</td>\n",
       "      <td>NaN</td>\n",
       "      <td>NaN</td>\n",
       "      <td>NaN</td>\n",
       "      <td>NaN</td>\n",
       "      <td>...</td>\n",
       "      <td>26923.0</td>\n",
       "      <td>26923.0</td>\n",
       "      <td>26923.0</td>\n",
       "      <td>26923.0</td>\n",
       "      <td>26923.0</td>\n",
       "      <td>NaN</td>\n",
       "      <td>NaN</td>\n",
       "      <td>NaN</td>\n",
       "      <td>NaN</td>\n",
       "      <td>NaN</td>\n",
       "    </tr>\n",
       "    <tr>\n",
       "      <th>259</th>\n",
       "      <td>South Sudan</td>\n",
       "      <td>1027378.0</td>\n",
       "      <td>1041076.0</td>\n",
       "      <td>1063732.0</td>\n",
       "      <td>1103246.0</td>\n",
       "      <td>1153401.0</td>\n",
       "      <td>1205835.0</td>\n",
       "      <td>1329906.0</td>\n",
       "      <td>1462765.0</td>\n",
       "      <td>1604755.0</td>\n",
       "      <td>...</td>\n",
       "      <td>8445659.0</td>\n",
       "      <td>8815495.0</td>\n",
       "      <td>9208598.0</td>\n",
       "      <td>9623176.0</td>\n",
       "      <td>10056475.0</td>\n",
       "      <td>10510122.0</td>\n",
       "      <td>10980623.0</td>\n",
       "      <td>11453810.0</td>\n",
       "      <td>11911184.0</td>\n",
       "      <td>12339812.0</td>\n",
       "    </tr>\n",
       "  </tbody>\n",
       "</table>\n",
       "<p>260 rows × 82 columns</p>\n",
       "</div>"
      ],
      "text/plain": [
       "                   Country       1800       1810       1820       1830  \\\n",
       "0                 Abkhazia        NaN        NaN        NaN        NaN   \n",
       "1              Afghanistan  3280000.0  3280000.0  3323519.0  3448982.0   \n",
       "2    Akrotiri and Dhekelia        NaN        NaN        NaN        NaN   \n",
       "3                  Albania   410445.0   423591.0   438671.0   457234.0   \n",
       "4                  Algeria  2503218.0  2595056.0  2713079.0  2880355.0   \n",
       "..                     ...        ...        ...        ...        ...   \n",
       "255             Yugoslavia        NaN        NaN        NaN        NaN   \n",
       "256                 Zambia   747000.0   747000.0   747000.0   747000.0   \n",
       "257               Zimbabwe  1085814.0  1085814.0  1106634.0  1167259.0   \n",
       "258                  Åland        NaN        NaN        NaN        NaN   \n",
       "259            South Sudan  1027378.0  1041076.0  1063732.0  1103246.0   \n",
       "\n",
       "          1840       1850       1860       1870       1880  ...        2006  \\\n",
       "0          NaN        NaN        NaN        NaN        NaN  ...         NaN   \n",
       "1    3625022.0  3810047.0  3973968.0  4169690.0  4419695.0  ...  25183615.0   \n",
       "2          NaN        NaN        NaN        NaN        NaN  ...     15700.0   \n",
       "3     478227.0   506889.0   552800.0   610036.0   672544.0  ...   3050741.0   \n",
       "4    3082721.0  3299305.0  3536468.0  3811028.0  4143163.0  ...  33749328.0   \n",
       "..         ...        ...        ...        ...        ...  ...         ...   \n",
       "255        NaN        NaN        NaN        NaN        NaN  ...  23887171.0   \n",
       "256   747000.0   747000.0   746052.0   745105.0   744157.0  ...  12381509.0   \n",
       "257  1253642.0  1346417.0  1444385.0  1549480.0  1661683.0  ...  13127942.0   \n",
       "258        NaN        NaN        NaN        NaN        NaN  ...     26923.0   \n",
       "259  1153401.0  1205835.0  1329906.0  1462765.0  1604755.0  ...   8445659.0   \n",
       "\n",
       "           2007        2008        2009        2010        2011        2012  \\\n",
       "0           NaN         NaN         NaN         NaN         NaN         NaN   \n",
       "1    25877544.0  26528741.0  27207291.0  27962207.0  28809167.0  29726803.0   \n",
       "2       15700.0     15700.0         NaN         NaN         NaN         NaN   \n",
       "3     3010849.0   2968026.0   2929886.0   2901883.0   2886010.0   2880667.0   \n",
       "4    34261971.0  34811059.0  35401790.0  36036159.0  36717132.0  37439427.0   \n",
       "..          ...         ...         ...         ...         ...         ...   \n",
       "255  23946096.0  23988543.0         NaN         NaN         NaN         NaN   \n",
       "256  12738676.0  13114579.0  13507849.0  13917439.0  14343526.0  14786581.0   \n",
       "257  13297798.0  13495462.0  13720997.0  13973897.0  14255592.0  14565482.0   \n",
       "258     26923.0     26923.0     26923.0     26923.0         NaN         NaN   \n",
       "259   8815495.0   9208598.0   9623176.0  10056475.0  10510122.0  10980623.0   \n",
       "\n",
       "           2013        2014        2015  \n",
       "0           NaN         NaN         NaN  \n",
       "1    30682500.0  31627506.0  32526562.0  \n",
       "2           NaN         NaN         NaN  \n",
       "3     2883281.0   2889676.0   2896679.0  \n",
       "4    38186135.0  38934334.0  39666519.0  \n",
       "..          ...         ...         ...  \n",
       "255         NaN         NaN         NaN  \n",
       "256  15246086.0  15721343.0  16211767.0  \n",
       "257  14898092.0  15245855.0  15602751.0  \n",
       "258         NaN         NaN         NaN  \n",
       "259  11453810.0  11911184.0  12339812.0  \n",
       "\n",
       "[260 rows x 82 columns]"
      ]
     },
     "execution_count": 32,
     "metadata": {},
     "output_type": "execute_result"
    }
   ],
   "source": [
    "pop"
   ]
  },
  {
   "cell_type": "code",
   "execution_count": 33,
   "id": "7949f46c",
   "metadata": {},
   "outputs": [],
   "source": [
    "pop = pop.melt(id_vars = \"Country\", var_name = \"year\", value_name = \"Total population\")"
   ]
  },
  {
   "cell_type": "code",
   "execution_count": 34,
   "id": "c7e4991f",
   "metadata": {},
   "outputs": [
    {
     "data": {
      "text/html": [
       "<div>\n",
       "<style scoped>\n",
       "    .dataframe tbody tr th:only-of-type {\n",
       "        vertical-align: middle;\n",
       "    }\n",
       "\n",
       "    .dataframe tbody tr th {\n",
       "        vertical-align: top;\n",
       "    }\n",
       "\n",
       "    .dataframe thead th {\n",
       "        text-align: right;\n",
       "    }\n",
       "</style>\n",
       "<table border=\"1\" class=\"dataframe\">\n",
       "  <thead>\n",
       "    <tr style=\"text-align: right;\">\n",
       "      <th></th>\n",
       "      <th>Country</th>\n",
       "      <th>year</th>\n",
       "      <th>Total population</th>\n",
       "    </tr>\n",
       "  </thead>\n",
       "  <tbody>\n",
       "    <tr>\n",
       "      <th>0</th>\n",
       "      <td>Abkhazia</td>\n",
       "      <td>1800</td>\n",
       "      <td>NaN</td>\n",
       "    </tr>\n",
       "    <tr>\n",
       "      <th>1</th>\n",
       "      <td>Afghanistan</td>\n",
       "      <td>1800</td>\n",
       "      <td>3280000.0</td>\n",
       "    </tr>\n",
       "    <tr>\n",
       "      <th>2</th>\n",
       "      <td>Akrotiri and Dhekelia</td>\n",
       "      <td>1800</td>\n",
       "      <td>NaN</td>\n",
       "    </tr>\n",
       "    <tr>\n",
       "      <th>3</th>\n",
       "      <td>Albania</td>\n",
       "      <td>1800</td>\n",
       "      <td>410445.0</td>\n",
       "    </tr>\n",
       "    <tr>\n",
       "      <th>4</th>\n",
       "      <td>Algeria</td>\n",
       "      <td>1800</td>\n",
       "      <td>2503218.0</td>\n",
       "    </tr>\n",
       "    <tr>\n",
       "      <th>...</th>\n",
       "      <td>...</td>\n",
       "      <td>...</td>\n",
       "      <td>...</td>\n",
       "    </tr>\n",
       "    <tr>\n",
       "      <th>21055</th>\n",
       "      <td>Yugoslavia</td>\n",
       "      <td>2015</td>\n",
       "      <td>NaN</td>\n",
       "    </tr>\n",
       "    <tr>\n",
       "      <th>21056</th>\n",
       "      <td>Zambia</td>\n",
       "      <td>2015</td>\n",
       "      <td>16211767.0</td>\n",
       "    </tr>\n",
       "    <tr>\n",
       "      <th>21057</th>\n",
       "      <td>Zimbabwe</td>\n",
       "      <td>2015</td>\n",
       "      <td>15602751.0</td>\n",
       "    </tr>\n",
       "    <tr>\n",
       "      <th>21058</th>\n",
       "      <td>Åland</td>\n",
       "      <td>2015</td>\n",
       "      <td>NaN</td>\n",
       "    </tr>\n",
       "    <tr>\n",
       "      <th>21059</th>\n",
       "      <td>South Sudan</td>\n",
       "      <td>2015</td>\n",
       "      <td>12339812.0</td>\n",
       "    </tr>\n",
       "  </tbody>\n",
       "</table>\n",
       "<p>21060 rows × 3 columns</p>\n",
       "</div>"
      ],
      "text/plain": [
       "                     Country  year  Total population\n",
       "0                   Abkhazia  1800               NaN\n",
       "1                Afghanistan  1800         3280000.0\n",
       "2      Akrotiri and Dhekelia  1800               NaN\n",
       "3                    Albania  1800          410445.0\n",
       "4                    Algeria  1800         2503218.0\n",
       "...                      ...   ...               ...\n",
       "21055             Yugoslavia  2015               NaN\n",
       "21056                 Zambia  2015        16211767.0\n",
       "21057               Zimbabwe  2015        15602751.0\n",
       "21058                  Åland  2015               NaN\n",
       "21059            South Sudan  2015        12339812.0\n",
       "\n",
       "[21060 rows x 3 columns]"
      ]
     },
     "execution_count": 34,
     "metadata": {},
     "output_type": "execute_result"
    }
   ],
   "source": [
    "pop\n"
   ]
  },
  {
   "cell_type": "code",
   "execution_count": 35,
   "id": "387858d2",
   "metadata": {},
   "outputs": [],
   "source": [
    "#fert #to check again the table before merge"
   ]
  },
  {
   "cell_type": "markdown",
   "id": "ac5e1cbf",
   "metadata": {},
   "source": [
    "# Merging the tables"
   ]
  },
  {
   "cell_type": "markdown",
   "id": "9812669a",
   "metadata": {},
   "source": [
    "Now we can start gluing the DataFrames together. This works great with the merge function."
   ]
  },
  {
   "cell_type": "code",
   "execution_count": 36,
   "id": "5400dc53",
   "metadata": {},
   "outputs": [],
   "source": [
    "fert_pop = fert.merge(pop)"
   ]
  },
  {
   "cell_type": "code",
   "execution_count": 37,
   "id": "cb83b579",
   "metadata": {},
   "outputs": [
    {
     "data": {
      "text/html": [
       "<div>\n",
       "<style scoped>\n",
       "    .dataframe tbody tr th:only-of-type {\n",
       "        vertical-align: middle;\n",
       "    }\n",
       "\n",
       "    .dataframe tbody tr th {\n",
       "        vertical-align: top;\n",
       "    }\n",
       "\n",
       "    .dataframe thead th {\n",
       "        text-align: right;\n",
       "    }\n",
       "</style>\n",
       "<table border=\"1\" class=\"dataframe\">\n",
       "  <thead>\n",
       "    <tr style=\"text-align: right;\">\n",
       "      <th></th>\n",
       "      <th>Country</th>\n",
       "      <th>year</th>\n",
       "      <th>fertility_rate</th>\n",
       "      <th>Total population</th>\n",
       "    </tr>\n",
       "  </thead>\n",
       "  <tbody>\n",
       "    <tr>\n",
       "      <th>0</th>\n",
       "      <td>Abkhazia</td>\n",
       "      <td>1800</td>\n",
       "      <td>NaN</td>\n",
       "      <td>NaN</td>\n",
       "    </tr>\n",
       "    <tr>\n",
       "      <th>1</th>\n",
       "      <td>Afghanistan</td>\n",
       "      <td>1800</td>\n",
       "      <td>7.00</td>\n",
       "      <td>3280000.0</td>\n",
       "    </tr>\n",
       "    <tr>\n",
       "      <th>2</th>\n",
       "      <td>Akrotiri and Dhekelia</td>\n",
       "      <td>1800</td>\n",
       "      <td>NaN</td>\n",
       "      <td>NaN</td>\n",
       "    </tr>\n",
       "    <tr>\n",
       "      <th>3</th>\n",
       "      <td>Albania</td>\n",
       "      <td>1800</td>\n",
       "      <td>4.60</td>\n",
       "      <td>410445.0</td>\n",
       "    </tr>\n",
       "    <tr>\n",
       "      <th>4</th>\n",
       "      <td>Algeria</td>\n",
       "      <td>1800</td>\n",
       "      <td>6.99</td>\n",
       "      <td>2503218.0</td>\n",
       "    </tr>\n",
       "    <tr>\n",
       "      <th>...</th>\n",
       "      <td>...</td>\n",
       "      <td>...</td>\n",
       "      <td>...</td>\n",
       "      <td>...</td>\n",
       "    </tr>\n",
       "    <tr>\n",
       "      <th>20974</th>\n",
       "      <td>Yugoslavia</td>\n",
       "      <td>2015</td>\n",
       "      <td>NaN</td>\n",
       "      <td>NaN</td>\n",
       "    </tr>\n",
       "    <tr>\n",
       "      <th>20975</th>\n",
       "      <td>Zambia</td>\n",
       "      <td>2015</td>\n",
       "      <td>5.59</td>\n",
       "      <td>16211767.0</td>\n",
       "    </tr>\n",
       "    <tr>\n",
       "      <th>20976</th>\n",
       "      <td>Zimbabwe</td>\n",
       "      <td>2015</td>\n",
       "      <td>3.35</td>\n",
       "      <td>15602751.0</td>\n",
       "    </tr>\n",
       "    <tr>\n",
       "      <th>20977</th>\n",
       "      <td>Åland</td>\n",
       "      <td>2015</td>\n",
       "      <td>NaN</td>\n",
       "      <td>NaN</td>\n",
       "    </tr>\n",
       "    <tr>\n",
       "      <th>20978</th>\n",
       "      <td>Åland</td>\n",
       "      <td>2015</td>\n",
       "      <td>NaN</td>\n",
       "      <td>NaN</td>\n",
       "    </tr>\n",
       "  </tbody>\n",
       "</table>\n",
       "<p>20979 rows × 4 columns</p>\n",
       "</div>"
      ],
      "text/plain": [
       "                     Country  year  fertility_rate  Total population\n",
       "0                   Abkhazia  1800             NaN               NaN\n",
       "1                Afghanistan  1800            7.00         3280000.0\n",
       "2      Akrotiri and Dhekelia  1800             NaN               NaN\n",
       "3                    Albania  1800            4.60          410445.0\n",
       "4                    Algeria  1800            6.99         2503218.0\n",
       "...                      ...   ...             ...               ...\n",
       "20974             Yugoslavia  2015             NaN               NaN\n",
       "20975                 Zambia  2015            5.59        16211767.0\n",
       "20976               Zimbabwe  2015            3.35        15602751.0\n",
       "20977                  Åland  2015             NaN               NaN\n",
       "20978                  Åland  2015             NaN               NaN\n",
       "\n",
       "[20979 rows x 4 columns]"
      ]
     },
     "execution_count": 37,
     "metadata": {},
     "output_type": "execute_result"
    }
   ],
   "source": [
    "fert_pop"
   ]
  },
  {
   "cell_type": "markdown",
   "id": "0698bdee",
   "metadata": {},
   "source": [
    "Do a second merge (with the life expectancy data) so that in the end you have all the data in a single DataFrame."
   ]
  },
  {
   "cell_type": "code",
   "execution_count": 38,
   "id": "9fdd92be",
   "metadata": {
    "scrolled": true
   },
   "outputs": [
    {
     "data": {
      "text/html": [
       "<div>\n",
       "<style scoped>\n",
       "    .dataframe tbody tr th:only-of-type {\n",
       "        vertical-align: middle;\n",
       "    }\n",
       "\n",
       "    .dataframe tbody tr th {\n",
       "        vertical-align: top;\n",
       "    }\n",
       "\n",
       "    .dataframe thead th {\n",
       "        text-align: right;\n",
       "    }\n",
       "</style>\n",
       "<table border=\"1\" class=\"dataframe\">\n",
       "  <thead>\n",
       "    <tr style=\"text-align: right;\">\n",
       "      <th></th>\n",
       "      <th>Country</th>\n",
       "      <th>year</th>\n",
       "      <th>life_expectancy</th>\n",
       "    </tr>\n",
       "  </thead>\n",
       "  <tbody>\n",
       "    <tr>\n",
       "      <th>0</th>\n",
       "      <td>Abkhazia</td>\n",
       "      <td>1800</td>\n",
       "      <td>NaN</td>\n",
       "    </tr>\n",
       "    <tr>\n",
       "      <th>1</th>\n",
       "      <td>Afghanistan</td>\n",
       "      <td>1800</td>\n",
       "      <td>28.21</td>\n",
       "    </tr>\n",
       "    <tr>\n",
       "      <th>2</th>\n",
       "      <td>Akrotiri and Dhekelia</td>\n",
       "      <td>1800</td>\n",
       "      <td>NaN</td>\n",
       "    </tr>\n",
       "    <tr>\n",
       "      <th>3</th>\n",
       "      <td>Albania</td>\n",
       "      <td>1800</td>\n",
       "      <td>35.40</td>\n",
       "    </tr>\n",
       "    <tr>\n",
       "      <th>4</th>\n",
       "      <td>Algeria</td>\n",
       "      <td>1800</td>\n",
       "      <td>28.82</td>\n",
       "    </tr>\n",
       "    <tr>\n",
       "      <th>...</th>\n",
       "      <td>...</td>\n",
       "      <td>...</td>\n",
       "      <td>...</td>\n",
       "    </tr>\n",
       "    <tr>\n",
       "      <th>56415</th>\n",
       "      <td>Yugoslavia</td>\n",
       "      <td>2016</td>\n",
       "      <td>NaN</td>\n",
       "    </tr>\n",
       "    <tr>\n",
       "      <th>56416</th>\n",
       "      <td>Zambia</td>\n",
       "      <td>2016</td>\n",
       "      <td>57.10</td>\n",
       "    </tr>\n",
       "    <tr>\n",
       "      <th>56417</th>\n",
       "      <td>Zimbabwe</td>\n",
       "      <td>2016</td>\n",
       "      <td>61.69</td>\n",
       "    </tr>\n",
       "    <tr>\n",
       "      <th>56418</th>\n",
       "      <td>Åland</td>\n",
       "      <td>2016</td>\n",
       "      <td>NaN</td>\n",
       "    </tr>\n",
       "    <tr>\n",
       "      <th>56419</th>\n",
       "      <td>South Sudan</td>\n",
       "      <td>2016</td>\n",
       "      <td>56.10</td>\n",
       "    </tr>\n",
       "  </tbody>\n",
       "</table>\n",
       "<p>56420 rows × 3 columns</p>\n",
       "</div>"
      ],
      "text/plain": [
       "                     Country  year  life_expectancy\n",
       "0                   Abkhazia  1800              NaN\n",
       "1                Afghanistan  1800            28.21\n",
       "2      Akrotiri and Dhekelia  1800              NaN\n",
       "3                    Albania  1800            35.40\n",
       "4                    Algeria  1800            28.82\n",
       "...                      ...   ...              ...\n",
       "56415             Yugoslavia  2016              NaN\n",
       "56416                 Zambia  2016            57.10\n",
       "56417               Zimbabwe  2016            61.69\n",
       "56418                  Åland  2016              NaN\n",
       "56419            South Sudan  2016            56.10\n",
       "\n",
       "[56420 rows x 3 columns]"
      ]
     },
     "execution_count": 38,
     "metadata": {},
     "output_type": "execute_result"
    }
   ],
   "source": [
    "life"
   ]
  },
  {
   "cell_type": "code",
   "execution_count": 39,
   "id": "8950a1a1",
   "metadata": {},
   "outputs": [],
   "source": [
    "fert_pop_life = fert_pop.merge(life)"
   ]
  },
  {
   "cell_type": "markdown",
   "id": "5e4e711d",
   "metadata": {},
   "source": [
    "(Alternatively uncomment and try the following code.)"
   ]
  },
  {
   "cell_type": "code",
   "execution_count": 40,
   "id": "fa23df6f",
   "metadata": {},
   "outputs": [],
   "source": [
    "#fert_pop_life = pd.merge(life, fert_pop, how= \"inner\", on = [\"country\", \"year\"])"
   ]
  },
  {
   "cell_type": "code",
   "execution_count": 41,
   "id": "1bead3bf",
   "metadata": {},
   "outputs": [
    {
     "data": {
      "text/html": [
       "<div>\n",
       "<style scoped>\n",
       "    .dataframe tbody tr th:only-of-type {\n",
       "        vertical-align: middle;\n",
       "    }\n",
       "\n",
       "    .dataframe tbody tr th {\n",
       "        vertical-align: top;\n",
       "    }\n",
       "\n",
       "    .dataframe thead th {\n",
       "        text-align: right;\n",
       "    }\n",
       "</style>\n",
       "<table border=\"1\" class=\"dataframe\">\n",
       "  <thead>\n",
       "    <tr style=\"text-align: right;\">\n",
       "      <th></th>\n",
       "      <th>Country</th>\n",
       "      <th>year</th>\n",
       "      <th>fertility_rate</th>\n",
       "      <th>Total population</th>\n",
       "      <th>life_expectancy</th>\n",
       "    </tr>\n",
       "  </thead>\n",
       "  <tbody>\n",
       "    <tr>\n",
       "      <th>0</th>\n",
       "      <td>Abkhazia</td>\n",
       "      <td>1800</td>\n",
       "      <td>NaN</td>\n",
       "      <td>NaN</td>\n",
       "      <td>NaN</td>\n",
       "    </tr>\n",
       "    <tr>\n",
       "      <th>1</th>\n",
       "      <td>Afghanistan</td>\n",
       "      <td>1800</td>\n",
       "      <td>7.00</td>\n",
       "      <td>3280000.0</td>\n",
       "      <td>28.21</td>\n",
       "    </tr>\n",
       "    <tr>\n",
       "      <th>2</th>\n",
       "      <td>Akrotiri and Dhekelia</td>\n",
       "      <td>1800</td>\n",
       "      <td>NaN</td>\n",
       "      <td>NaN</td>\n",
       "      <td>NaN</td>\n",
       "    </tr>\n",
       "    <tr>\n",
       "      <th>3</th>\n",
       "      <td>Albania</td>\n",
       "      <td>1800</td>\n",
       "      <td>4.60</td>\n",
       "      <td>410445.0</td>\n",
       "      <td>35.40</td>\n",
       "    </tr>\n",
       "    <tr>\n",
       "      <th>4</th>\n",
       "      <td>Algeria</td>\n",
       "      <td>1800</td>\n",
       "      <td>6.99</td>\n",
       "      <td>2503218.0</td>\n",
       "      <td>28.82</td>\n",
       "    </tr>\n",
       "    <tr>\n",
       "      <th>...</th>\n",
       "      <td>...</td>\n",
       "      <td>...</td>\n",
       "      <td>...</td>\n",
       "      <td>...</td>\n",
       "      <td>...</td>\n",
       "    </tr>\n",
       "    <tr>\n",
       "      <th>20974</th>\n",
       "      <td>Yugoslavia</td>\n",
       "      <td>2015</td>\n",
       "      <td>NaN</td>\n",
       "      <td>NaN</td>\n",
       "      <td>NaN</td>\n",
       "    </tr>\n",
       "    <tr>\n",
       "      <th>20975</th>\n",
       "      <td>Zambia</td>\n",
       "      <td>2015</td>\n",
       "      <td>5.59</td>\n",
       "      <td>16211767.0</td>\n",
       "      <td>56.70</td>\n",
       "    </tr>\n",
       "    <tr>\n",
       "      <th>20976</th>\n",
       "      <td>Zimbabwe</td>\n",
       "      <td>2015</td>\n",
       "      <td>3.35</td>\n",
       "      <td>15602751.0</td>\n",
       "      <td>59.30</td>\n",
       "    </tr>\n",
       "    <tr>\n",
       "      <th>20977</th>\n",
       "      <td>Åland</td>\n",
       "      <td>2015</td>\n",
       "      <td>NaN</td>\n",
       "      <td>NaN</td>\n",
       "      <td>NaN</td>\n",
       "    </tr>\n",
       "    <tr>\n",
       "      <th>20978</th>\n",
       "      <td>Åland</td>\n",
       "      <td>2015</td>\n",
       "      <td>NaN</td>\n",
       "      <td>NaN</td>\n",
       "      <td>NaN</td>\n",
       "    </tr>\n",
       "  </tbody>\n",
       "</table>\n",
       "<p>20979 rows × 5 columns</p>\n",
       "</div>"
      ],
      "text/plain": [
       "                     Country  year  fertility_rate  Total population  \\\n",
       "0                   Abkhazia  1800             NaN               NaN   \n",
       "1                Afghanistan  1800            7.00         3280000.0   \n",
       "2      Akrotiri and Dhekelia  1800             NaN               NaN   \n",
       "3                    Albania  1800            4.60          410445.0   \n",
       "4                    Algeria  1800            6.99         2503218.0   \n",
       "...                      ...   ...             ...               ...   \n",
       "20974             Yugoslavia  2015             NaN               NaN   \n",
       "20975                 Zambia  2015            5.59        16211767.0   \n",
       "20976               Zimbabwe  2015            3.35        15602751.0   \n",
       "20977                  Åland  2015             NaN               NaN   \n",
       "20978                  Åland  2015             NaN               NaN   \n",
       "\n",
       "       life_expectancy  \n",
       "0                  NaN  \n",
       "1                28.21  \n",
       "2                  NaN  \n",
       "3                35.40  \n",
       "4                28.82  \n",
       "...                ...  \n",
       "20974              NaN  \n",
       "20975            56.70  \n",
       "20976            59.30  \n",
       "20977              NaN  \n",
       "20978              NaN  \n",
       "\n",
       "[20979 rows x 5 columns]"
      ]
     },
     "execution_count": 41,
     "metadata": {},
     "output_type": "execute_result"
    }
   ],
   "source": [
    "fert_pop_life"
   ]
  },
  {
   "cell_type": "markdown",
   "id": "0ef37112",
   "metadata": {},
   "source": [
    "# Merge the continents table with the final DataFrame"
   ]
  },
  {
   "cell_type": "markdown",
   "id": "d7ae47a7",
   "metadata": {},
   "source": [
    "Load the continents.csv file."
   ]
  },
  {
   "cell_type": "code",
   "execution_count": 42,
   "id": "96eac00f",
   "metadata": {},
   "outputs": [],
   "source": [
    "continents = pd.read_csv(\"continents.csv\", sep = \";\")"
   ]
  },
  {
   "cell_type": "code",
   "execution_count": 43,
   "id": "052fb984",
   "metadata": {},
   "outputs": [
    {
     "name": "stdout",
     "output_type": "stream",
     "text": [
      "  continent   country\n",
      "0    Africa   Algeria\n",
      "1    Africa    Angola\n",
      "2    Africa     Benin\n",
      "3    Africa  Botswana\n",
      "4    Africa   Burkina\n"
     ]
    }
   ],
   "source": [
    "print(continents.head())"
   ]
  },
  {
   "cell_type": "code",
   "execution_count": 44,
   "id": "49b9fee7",
   "metadata": {},
   "outputs": [
    {
     "data": {
      "text/plain": [
       "(194, 2)"
      ]
     },
     "execution_count": 44,
     "metadata": {},
     "output_type": "execute_result"
    }
   ],
   "source": [
    "continents.shape"
   ]
  },
  {
   "cell_type": "markdown",
   "id": "d75fad78",
   "metadata": {},
   "source": [
    "Rename continents' columns."
   ]
  },
  {
   "cell_type": "code",
   "execution_count": 45,
   "id": "a80bf807",
   "metadata": {},
   "outputs": [],
   "source": [
    "continents.rename(columns = {\"continent\": \"Continent\", \"country\": \"Country\"}, inplace = True)"
   ]
  },
  {
   "cell_type": "code",
   "execution_count": 46,
   "id": "ddedf962",
   "metadata": {},
   "outputs": [
    {
     "data": {
      "text/html": [
       "<div>\n",
       "<style scoped>\n",
       "    .dataframe tbody tr th:only-of-type {\n",
       "        vertical-align: middle;\n",
       "    }\n",
       "\n",
       "    .dataframe tbody tr th {\n",
       "        vertical-align: top;\n",
       "    }\n",
       "\n",
       "    .dataframe thead th {\n",
       "        text-align: right;\n",
       "    }\n",
       "</style>\n",
       "<table border=\"1\" class=\"dataframe\">\n",
       "  <thead>\n",
       "    <tr style=\"text-align: right;\">\n",
       "      <th></th>\n",
       "      <th>Continent</th>\n",
       "      <th>Country</th>\n",
       "    </tr>\n",
       "  </thead>\n",
       "  <tbody>\n",
       "    <tr>\n",
       "      <th>0</th>\n",
       "      <td>Africa</td>\n",
       "      <td>Algeria</td>\n",
       "    </tr>\n",
       "    <tr>\n",
       "      <th>1</th>\n",
       "      <td>Africa</td>\n",
       "      <td>Angola</td>\n",
       "    </tr>\n",
       "    <tr>\n",
       "      <th>2</th>\n",
       "      <td>Africa</td>\n",
       "      <td>Benin</td>\n",
       "    </tr>\n",
       "    <tr>\n",
       "      <th>3</th>\n",
       "      <td>Africa</td>\n",
       "      <td>Botswana</td>\n",
       "    </tr>\n",
       "    <tr>\n",
       "      <th>4</th>\n",
       "      <td>Africa</td>\n",
       "      <td>Burkina</td>\n",
       "    </tr>\n",
       "    <tr>\n",
       "      <th>...</th>\n",
       "      <td>...</td>\n",
       "      <td>...</td>\n",
       "    </tr>\n",
       "    <tr>\n",
       "      <th>189</th>\n",
       "      <td>South America</td>\n",
       "      <td>Paraguay</td>\n",
       "    </tr>\n",
       "    <tr>\n",
       "      <th>190</th>\n",
       "      <td>South America</td>\n",
       "      <td>Peru</td>\n",
       "    </tr>\n",
       "    <tr>\n",
       "      <th>191</th>\n",
       "      <td>South America</td>\n",
       "      <td>Suriname</td>\n",
       "    </tr>\n",
       "    <tr>\n",
       "      <th>192</th>\n",
       "      <td>South America</td>\n",
       "      <td>Uruguay</td>\n",
       "    </tr>\n",
       "    <tr>\n",
       "      <th>193</th>\n",
       "      <td>South America</td>\n",
       "      <td>Venezuela</td>\n",
       "    </tr>\n",
       "  </tbody>\n",
       "</table>\n",
       "<p>194 rows × 2 columns</p>\n",
       "</div>"
      ],
      "text/plain": [
       "         Continent    Country\n",
       "0           Africa    Algeria\n",
       "1           Africa     Angola\n",
       "2           Africa      Benin\n",
       "3           Africa   Botswana\n",
       "4           Africa    Burkina\n",
       "..             ...        ...\n",
       "189  South America   Paraguay\n",
       "190  South America       Peru\n",
       "191  South America   Suriname\n",
       "192  South America    Uruguay\n",
       "193  South America  Venezuela\n",
       "\n",
       "[194 rows x 2 columns]"
      ]
     },
     "execution_count": 46,
     "metadata": {},
     "output_type": "execute_result"
    }
   ],
   "source": [
    "continents"
   ]
  },
  {
   "cell_type": "markdown",
   "id": "9680dd59",
   "metadata": {},
   "source": [
    "Merge continents with the fert_pop_life table."
   ]
  },
  {
   "cell_type": "code",
   "execution_count": 47,
   "id": "ce2e7019",
   "metadata": {},
   "outputs": [],
   "source": [
    "fert_pop_life_cont = pd.merge(continents, fert_pop_life, how = \"left\", on = \"Country\")"
   ]
  },
  {
   "cell_type": "code",
   "execution_count": 48,
   "id": "5433e86e",
   "metadata": {},
   "outputs": [
    {
     "data": {
      "text/html": [
       "<div>\n",
       "<style scoped>\n",
       "    .dataframe tbody tr th:only-of-type {\n",
       "        vertical-align: middle;\n",
       "    }\n",
       "\n",
       "    .dataframe tbody tr th {\n",
       "        vertical-align: top;\n",
       "    }\n",
       "\n",
       "    .dataframe thead th {\n",
       "        text-align: right;\n",
       "    }\n",
       "</style>\n",
       "<table border=\"1\" class=\"dataframe\">\n",
       "  <thead>\n",
       "    <tr style=\"text-align: right;\">\n",
       "      <th></th>\n",
       "      <th>Continent</th>\n",
       "      <th>Country</th>\n",
       "      <th>year</th>\n",
       "      <th>fertility_rate</th>\n",
       "      <th>Total population</th>\n",
       "      <th>life_expectancy</th>\n",
       "    </tr>\n",
       "  </thead>\n",
       "  <tbody>\n",
       "    <tr>\n",
       "      <th>0</th>\n",
       "      <td>Africa</td>\n",
       "      <td>Algeria</td>\n",
       "      <td>1800</td>\n",
       "      <td>6.99</td>\n",
       "      <td>2503218.0</td>\n",
       "      <td>28.82</td>\n",
       "    </tr>\n",
       "    <tr>\n",
       "      <th>1</th>\n",
       "      <td>Africa</td>\n",
       "      <td>Algeria</td>\n",
       "      <td>1810</td>\n",
       "      <td>6.99</td>\n",
       "      <td>2595056.0</td>\n",
       "      <td>28.82</td>\n",
       "    </tr>\n",
       "    <tr>\n",
       "      <th>2</th>\n",
       "      <td>Africa</td>\n",
       "      <td>Algeria</td>\n",
       "      <td>1820</td>\n",
       "      <td>6.99</td>\n",
       "      <td>2713079.0</td>\n",
       "      <td>28.82</td>\n",
       "    </tr>\n",
       "    <tr>\n",
       "      <th>3</th>\n",
       "      <td>Africa</td>\n",
       "      <td>Algeria</td>\n",
       "      <td>1830</td>\n",
       "      <td>6.99</td>\n",
       "      <td>2880355.0</td>\n",
       "      <td>28.82</td>\n",
       "    </tr>\n",
       "    <tr>\n",
       "      <th>4</th>\n",
       "      <td>Africa</td>\n",
       "      <td>Algeria</td>\n",
       "      <td>1840</td>\n",
       "      <td>6.99</td>\n",
       "      <td>3082721.0</td>\n",
       "      <td>28.82</td>\n",
       "    </tr>\n",
       "    <tr>\n",
       "      <th>...</th>\n",
       "      <td>...</td>\n",
       "      <td>...</td>\n",
       "      <td>...</td>\n",
       "      <td>...</td>\n",
       "      <td>...</td>\n",
       "      <td>...</td>\n",
       "    </tr>\n",
       "    <tr>\n",
       "      <th>14189</th>\n",
       "      <td>South America</td>\n",
       "      <td>Venezuela</td>\n",
       "      <td>2011</td>\n",
       "      <td>2.44</td>\n",
       "      <td>29427631.0</td>\n",
       "      <td>74.80</td>\n",
       "    </tr>\n",
       "    <tr>\n",
       "      <th>14190</th>\n",
       "      <td>South America</td>\n",
       "      <td>Venezuela</td>\n",
       "      <td>2012</td>\n",
       "      <td>2.42</td>\n",
       "      <td>29854238.0</td>\n",
       "      <td>74.60</td>\n",
       "    </tr>\n",
       "    <tr>\n",
       "      <th>14191</th>\n",
       "      <td>South America</td>\n",
       "      <td>Venezuela</td>\n",
       "      <td>2013</td>\n",
       "      <td>2.39</td>\n",
       "      <td>30276045.0</td>\n",
       "      <td>74.70</td>\n",
       "    </tr>\n",
       "    <tr>\n",
       "      <th>14192</th>\n",
       "      <td>South America</td>\n",
       "      <td>Venezuela</td>\n",
       "      <td>2014</td>\n",
       "      <td>2.36</td>\n",
       "      <td>30693827.0</td>\n",
       "      <td>74.80</td>\n",
       "    </tr>\n",
       "    <tr>\n",
       "      <th>14193</th>\n",
       "      <td>South America</td>\n",
       "      <td>Venezuela</td>\n",
       "      <td>2015</td>\n",
       "      <td>2.34</td>\n",
       "      <td>31108083.0</td>\n",
       "      <td>74.80</td>\n",
       "    </tr>\n",
       "  </tbody>\n",
       "</table>\n",
       "<p>14194 rows × 6 columns</p>\n",
       "</div>"
      ],
      "text/plain": [
       "           Continent    Country  year  fertility_rate  Total population  \\\n",
       "0             Africa    Algeria  1800            6.99         2503218.0   \n",
       "1             Africa    Algeria  1810            6.99         2595056.0   \n",
       "2             Africa    Algeria  1820            6.99         2713079.0   \n",
       "3             Africa    Algeria  1830            6.99         2880355.0   \n",
       "4             Africa    Algeria  1840            6.99         3082721.0   \n",
       "...              ...        ...   ...             ...               ...   \n",
       "14189  South America  Venezuela  2011            2.44        29427631.0   \n",
       "14190  South America  Venezuela  2012            2.42        29854238.0   \n",
       "14191  South America  Venezuela  2013            2.39        30276045.0   \n",
       "14192  South America  Venezuela  2014            2.36        30693827.0   \n",
       "14193  South America  Venezuela  2015            2.34        31108083.0   \n",
       "\n",
       "       life_expectancy  \n",
       "0                28.82  \n",
       "1                28.82  \n",
       "2                28.82  \n",
       "3                28.82  \n",
       "4                28.82  \n",
       "...                ...  \n",
       "14189            74.80  \n",
       "14190            74.60  \n",
       "14191            74.70  \n",
       "14192            74.80  \n",
       "14193            74.80  \n",
       "\n",
       "[14194 rows x 6 columns]"
      ]
     },
     "execution_count": 48,
     "metadata": {},
     "output_type": "execute_result"
    }
   ],
   "source": [
    "fert_pop_life_cont"
   ]
  },
  {
   "cell_type": "code",
   "execution_count": 49,
   "id": "9d85978b",
   "metadata": {},
   "outputs": [
    {
     "data": {
      "text/plain": [
       "(14194, 6)"
      ]
     },
     "execution_count": 49,
     "metadata": {},
     "output_type": "execute_result"
    }
   ],
   "source": [
    "fert_pop_life_cont.shape"
   ]
  },
  {
   "cell_type": "markdown",
   "id": "aef880eb",
   "metadata": {},
   "source": [
    "# Scatterplots "
   ]
  },
  {
   "cell_type": "markdown",
   "id": "6542f1db",
   "metadata": {},
   "source": [
    "With all the data merged into a single object, you can now select specific columns and plot them. \n",
    "First of all, import seaborn and matplotlib."
   ]
  },
  {
   "cell_type": "code",
   "execution_count": 50,
   "id": "5c27f805",
   "metadata": {},
   "outputs": [],
   "source": [
    "import seaborn as sns\n",
    "import matplotlib.pyplot as plt"
   ]
  },
  {
   "cell_type": "markdown",
   "id": "3f082f10",
   "metadata": {},
   "source": [
    "### Create a scatterplot for a subset of the dataframe *e.g.* for the year 2015."
   ]
  },
  {
   "cell_type": "code",
   "execution_count": 51,
   "id": "fc3832da",
   "metadata": {},
   "outputs": [],
   "source": [
    "fert_pop_life_cont_2015 = fert_pop_life_cont.loc[fert_pop_life_cont[\"year\"]== 2015]"
   ]
  },
  {
   "cell_type": "code",
   "execution_count": 52,
   "id": "492bfc2b",
   "metadata": {},
   "outputs": [
    {
     "data": {
      "text/html": [
       "<div>\n",
       "<style scoped>\n",
       "    .dataframe tbody tr th:only-of-type {\n",
       "        vertical-align: middle;\n",
       "    }\n",
       "\n",
       "    .dataframe tbody tr th {\n",
       "        vertical-align: top;\n",
       "    }\n",
       "\n",
       "    .dataframe thead th {\n",
       "        text-align: right;\n",
       "    }\n",
       "</style>\n",
       "<table border=\"1\" class=\"dataframe\">\n",
       "  <thead>\n",
       "    <tr style=\"text-align: right;\">\n",
       "      <th></th>\n",
       "      <th>Continent</th>\n",
       "      <th>Country</th>\n",
       "      <th>year</th>\n",
       "      <th>fertility_rate</th>\n",
       "      <th>Total population</th>\n",
       "      <th>life_expectancy</th>\n",
       "    </tr>\n",
       "  </thead>\n",
       "  <tbody>\n",
       "    <tr>\n",
       "      <th>80</th>\n",
       "      <td>Africa</td>\n",
       "      <td>Algeria</td>\n",
       "      <td>2015</td>\n",
       "      <td>2.71</td>\n",
       "      <td>39666519.0</td>\n",
       "      <td>76.4</td>\n",
       "    </tr>\n",
       "    <tr>\n",
       "      <th>161</th>\n",
       "      <td>Africa</td>\n",
       "      <td>Angola</td>\n",
       "      <td>2015</td>\n",
       "      <td>5.65</td>\n",
       "      <td>25021974.0</td>\n",
       "      <td>59.6</td>\n",
       "    </tr>\n",
       "    <tr>\n",
       "      <th>242</th>\n",
       "      <td>Africa</td>\n",
       "      <td>Benin</td>\n",
       "      <td>2015</td>\n",
       "      <td>4.69</td>\n",
       "      <td>10879829.0</td>\n",
       "      <td>62.3</td>\n",
       "    </tr>\n",
       "    <tr>\n",
       "      <th>323</th>\n",
       "      <td>Africa</td>\n",
       "      <td>Botswana</td>\n",
       "      <td>2015</td>\n",
       "      <td>2.54</td>\n",
       "      <td>2262485.0</td>\n",
       "      <td>58.7</td>\n",
       "    </tr>\n",
       "    <tr>\n",
       "      <th>405</th>\n",
       "      <td>Africa</td>\n",
       "      <td>Burundi</td>\n",
       "      <td>2015</td>\n",
       "      <td>5.85</td>\n",
       "      <td>11178921.0</td>\n",
       "      <td>61.4</td>\n",
       "    </tr>\n",
       "    <tr>\n",
       "      <th>...</th>\n",
       "      <td>...</td>\n",
       "      <td>...</td>\n",
       "      <td>...</td>\n",
       "      <td>...</td>\n",
       "      <td>...</td>\n",
       "      <td>...</td>\n",
       "    </tr>\n",
       "    <tr>\n",
       "      <th>13869</th>\n",
       "      <td>South America</td>\n",
       "      <td>Paraguay</td>\n",
       "      <td>2015</td>\n",
       "      <td>2.80</td>\n",
       "      <td>6639123.0</td>\n",
       "      <td>74.4</td>\n",
       "    </tr>\n",
       "    <tr>\n",
       "      <th>13950</th>\n",
       "      <td>South America</td>\n",
       "      <td>Peru</td>\n",
       "      <td>2015</td>\n",
       "      <td>2.36</td>\n",
       "      <td>31376670.0</td>\n",
       "      <td>79.5</td>\n",
       "    </tr>\n",
       "    <tr>\n",
       "      <th>14031</th>\n",
       "      <td>South America</td>\n",
       "      <td>Suriname</td>\n",
       "      <td>2015</td>\n",
       "      <td>2.22</td>\n",
       "      <td>542975.0</td>\n",
       "      <td>72.0</td>\n",
       "    </tr>\n",
       "    <tr>\n",
       "      <th>14112</th>\n",
       "      <td>South America</td>\n",
       "      <td>Uruguay</td>\n",
       "      <td>2015</td>\n",
       "      <td>2.03</td>\n",
       "      <td>3431555.0</td>\n",
       "      <td>76.8</td>\n",
       "    </tr>\n",
       "    <tr>\n",
       "      <th>14193</th>\n",
       "      <td>South America</td>\n",
       "      <td>Venezuela</td>\n",
       "      <td>2015</td>\n",
       "      <td>2.34</td>\n",
       "      <td>31108083.0</td>\n",
       "      <td>74.8</td>\n",
       "    </tr>\n",
       "  </tbody>\n",
       "</table>\n",
       "<p>175 rows × 6 columns</p>\n",
       "</div>"
      ],
      "text/plain": [
       "           Continent    Country  year  fertility_rate  Total population  \\\n",
       "80            Africa    Algeria  2015            2.71        39666519.0   \n",
       "161           Africa     Angola  2015            5.65        25021974.0   \n",
       "242           Africa      Benin  2015            4.69        10879829.0   \n",
       "323           Africa   Botswana  2015            2.54         2262485.0   \n",
       "405           Africa    Burundi  2015            5.85        11178921.0   \n",
       "...              ...        ...   ...             ...               ...   \n",
       "13869  South America   Paraguay  2015            2.80         6639123.0   \n",
       "13950  South America       Peru  2015            2.36        31376670.0   \n",
       "14031  South America   Suriname  2015            2.22          542975.0   \n",
       "14112  South America    Uruguay  2015            2.03         3431555.0   \n",
       "14193  South America  Venezuela  2015            2.34        31108083.0   \n",
       "\n",
       "       life_expectancy  \n",
       "80                76.4  \n",
       "161               59.6  \n",
       "242               62.3  \n",
       "323               58.7  \n",
       "405               61.4  \n",
       "...                ...  \n",
       "13869             74.4  \n",
       "13950             79.5  \n",
       "14031             72.0  \n",
       "14112             76.8  \n",
       "14193             74.8  \n",
       "\n",
       "[175 rows x 6 columns]"
      ]
     },
     "execution_count": 52,
     "metadata": {},
     "output_type": "execute_result"
    }
   ],
   "source": [
    "fert_pop_life_cont_2015"
   ]
  },
  {
   "cell_type": "markdown",
   "id": "786f1eb4",
   "metadata": {},
   "source": [
    "Assigning to a variable the colour palette and setting the grid to be used for the scatterplot."
   ]
  },
  {
   "cell_type": "code",
   "execution_count": 53,
   "id": "72d29088",
   "metadata": {},
   "outputs": [],
   "source": [
    "palette = sns.color_palette(\"icefire\")\n",
    "sns.set_theme(style=\"darkgrid\")"
   ]
  },
  {
   "cell_type": "markdown",
   "id": "0d0b89f8",
   "metadata": {},
   "source": [
    "Note: Add another dimension to the visualization by utilizing the population data, so that the size of the symbols represent the population from the gapminder dataset."
   ]
  },
  {
   "cell_type": "code",
   "execution_count": 54,
   "id": "9a6c0e75",
   "metadata": {},
   "outputs": [
    {
     "data": {
      "image/png": "[encoded data removed]",
      "text/plain": [
       "<Figure size 640x480 with 1 Axes>"
      ]
     },
     "metadata": {},
     "output_type": "display_data"
    }
   ],
   "source": [
    "ax = sns.scatterplot(x= fert_pop_life_cont_2015[\"life_expectancy\"], y= fert_pop_life_cont_2015[\"fertility_rate\"], \n",
    "                     hue = fert_pop_life_cont_2015[\"Continent\"], size = fert_pop_life_cont_2015[\"Total population\"],\n",
    "                     data= fert_pop_life_cont_2015, alpha=0.6, palette = palette, sizes = (5, 1000), \n",
    "                     size_norm = (fert_pop_life_cont_2015[\"Total population\"].min(), fert_pop_life_cont_2015[\"Total population\"].max()))\n",
    "handles, labels = ax.get_legend_handles_labels()\n",
    "plt.legend(handles[1:7],labels[1:7],loc='lower center', bbox_to_anchor=(0.5, -0.15), ncol= 7)\n",
    "sns.set(rc={'figure.figsize':(16, 9)})\n",
    "plt.title(\"2015\")\n",
    "plt.xlabel(\"Life expectancy in years\")\n",
    "plt.ylabel(\"Fertility rate\")\n",
    "plt.savefig(\"fert_pop_life_cont_2015.png\")\n"
   ]
  },
  {
   "cell_type": "markdown",
   "id": "bcfc5fed",
   "metadata": {},
   "source": [
    "### Create an animated scatterplot showing the correlation between life expectancy and fertility, by creating one plot for each year between 1960 and 2015."
   ]
  },
  {
   "cell_type": "markdown",
   "id": "e80fd6e8",
   "metadata": {},
   "source": [
    "Before that, the data contains too many gaps. Let's start from getting rid the NaNs."
   ]
  },
  {
   "cell_type": "code",
   "execution_count": 55,
   "id": "1448c9d0",
   "metadata": {},
   "outputs": [
    {
     "data": {
      "text/plain": [
       "True"
      ]
     },
     "execution_count": 55,
     "metadata": {},
     "output_type": "execute_result"
    }
   ],
   "source": [
    "fert_pop_life_cont.isnull().values.any()"
   ]
  },
  {
   "cell_type": "code",
   "execution_count": 56,
   "id": "e9bc21a6",
   "metadata": {},
   "outputs": [
    {
     "data": {
      "text/plain": [
       "1456"
      ]
     },
     "execution_count": 56,
     "metadata": {},
     "output_type": "execute_result"
    }
   ],
   "source": [
    "fert_pop_life_cont.isnull().sum().sum()"
   ]
  },
  {
   "cell_type": "code",
   "execution_count": 57,
   "id": "bab59b76",
   "metadata": {},
   "outputs": [],
   "source": [
    "fert_pop_life_cont.dropna(inplace = True)"
   ]
  },
  {
   "cell_type": "code",
   "execution_count": 58,
   "id": "73a050f1",
   "metadata": {},
   "outputs": [
    {
     "data": {
      "text/plain": [
       "False"
      ]
     },
     "execution_count": 58,
     "metadata": {},
     "output_type": "execute_result"
    }
   ],
   "source": [
    "fert_pop_life_cont.isnull().values.any()"
   ]
  },
  {
   "cell_type": "code",
   "execution_count": 59,
   "id": "9e6adbb7",
   "metadata": {},
   "outputs": [
    {
     "data": {
      "text/html": [
       "<div>\n",
       "<style scoped>\n",
       "    .dataframe tbody tr th:only-of-type {\n",
       "        vertical-align: middle;\n",
       "    }\n",
       "\n",
       "    .dataframe tbody tr th {\n",
       "        vertical-align: top;\n",
       "    }\n",
       "\n",
       "    .dataframe thead th {\n",
       "        text-align: right;\n",
       "    }\n",
       "</style>\n",
       "<table border=\"1\" class=\"dataframe\">\n",
       "  <thead>\n",
       "    <tr style=\"text-align: right;\">\n",
       "      <th></th>\n",
       "      <th>Continent</th>\n",
       "      <th>Country</th>\n",
       "      <th>year</th>\n",
       "      <th>fertility_rate</th>\n",
       "      <th>Total population</th>\n",
       "      <th>life_expectancy</th>\n",
       "    </tr>\n",
       "  </thead>\n",
       "  <tbody>\n",
       "    <tr>\n",
       "      <th>0</th>\n",
       "      <td>Africa</td>\n",
       "      <td>Algeria</td>\n",
       "      <td>1800</td>\n",
       "      <td>6.99</td>\n",
       "      <td>2503218.0</td>\n",
       "      <td>28.82</td>\n",
       "    </tr>\n",
       "    <tr>\n",
       "      <th>1</th>\n",
       "      <td>Africa</td>\n",
       "      <td>Algeria</td>\n",
       "      <td>1810</td>\n",
       "      <td>6.99</td>\n",
       "      <td>2595056.0</td>\n",
       "      <td>28.82</td>\n",
       "    </tr>\n",
       "    <tr>\n",
       "      <th>2</th>\n",
       "      <td>Africa</td>\n",
       "      <td>Algeria</td>\n",
       "      <td>1820</td>\n",
       "      <td>6.99</td>\n",
       "      <td>2713079.0</td>\n",
       "      <td>28.82</td>\n",
       "    </tr>\n",
       "    <tr>\n",
       "      <th>3</th>\n",
       "      <td>Africa</td>\n",
       "      <td>Algeria</td>\n",
       "      <td>1830</td>\n",
       "      <td>6.99</td>\n",
       "      <td>2880355.0</td>\n",
       "      <td>28.82</td>\n",
       "    </tr>\n",
       "    <tr>\n",
       "      <th>4</th>\n",
       "      <td>Africa</td>\n",
       "      <td>Algeria</td>\n",
       "      <td>1840</td>\n",
       "      <td>6.99</td>\n",
       "      <td>3082721.0</td>\n",
       "      <td>28.82</td>\n",
       "    </tr>\n",
       "    <tr>\n",
       "      <th>...</th>\n",
       "      <td>...</td>\n",
       "      <td>...</td>\n",
       "      <td>...</td>\n",
       "      <td>...</td>\n",
       "      <td>...</td>\n",
       "      <td>...</td>\n",
       "    </tr>\n",
       "    <tr>\n",
       "      <th>14189</th>\n",
       "      <td>South America</td>\n",
       "      <td>Venezuela</td>\n",
       "      <td>2011</td>\n",
       "      <td>2.44</td>\n",
       "      <td>29427631.0</td>\n",
       "      <td>74.80</td>\n",
       "    </tr>\n",
       "    <tr>\n",
       "      <th>14190</th>\n",
       "      <td>South America</td>\n",
       "      <td>Venezuela</td>\n",
       "      <td>2012</td>\n",
       "      <td>2.42</td>\n",
       "      <td>29854238.0</td>\n",
       "      <td>74.60</td>\n",
       "    </tr>\n",
       "    <tr>\n",
       "      <th>14191</th>\n",
       "      <td>South America</td>\n",
       "      <td>Venezuela</td>\n",
       "      <td>2013</td>\n",
       "      <td>2.39</td>\n",
       "      <td>30276045.0</td>\n",
       "      <td>74.70</td>\n",
       "    </tr>\n",
       "    <tr>\n",
       "      <th>14192</th>\n",
       "      <td>South America</td>\n",
       "      <td>Venezuela</td>\n",
       "      <td>2014</td>\n",
       "      <td>2.36</td>\n",
       "      <td>30693827.0</td>\n",
       "      <td>74.80</td>\n",
       "    </tr>\n",
       "    <tr>\n",
       "      <th>14193</th>\n",
       "      <td>South America</td>\n",
       "      <td>Venezuela</td>\n",
       "      <td>2015</td>\n",
       "      <td>2.34</td>\n",
       "      <td>31108083.0</td>\n",
       "      <td>74.80</td>\n",
       "    </tr>\n",
       "  </tbody>\n",
       "</table>\n",
       "<p>13446 rows × 6 columns</p>\n",
       "</div>"
      ],
      "text/plain": [
       "           Continent    Country  year  fertility_rate  Total population  \\\n",
       "0             Africa    Algeria  1800            6.99         2503218.0   \n",
       "1             Africa    Algeria  1810            6.99         2595056.0   \n",
       "2             Africa    Algeria  1820            6.99         2713079.0   \n",
       "3             Africa    Algeria  1830            6.99         2880355.0   \n",
       "4             Africa    Algeria  1840            6.99         3082721.0   \n",
       "...              ...        ...   ...             ...               ...   \n",
       "14189  South America  Venezuela  2011            2.44        29427631.0   \n",
       "14190  South America  Venezuela  2012            2.42        29854238.0   \n",
       "14191  South America  Venezuela  2013            2.39        30276045.0   \n",
       "14192  South America  Venezuela  2014            2.36        30693827.0   \n",
       "14193  South America  Venezuela  2015            2.34        31108083.0   \n",
       "\n",
       "       life_expectancy  \n",
       "0                28.82  \n",
       "1                28.82  \n",
       "2                28.82  \n",
       "3                28.82  \n",
       "4                28.82  \n",
       "...                ...  \n",
       "14189            74.80  \n",
       "14190            74.60  \n",
       "14191            74.70  \n",
       "14192            74.80  \n",
       "14193            74.80  \n",
       "\n",
       "[13446 rows x 6 columns]"
      ]
     },
     "execution_count": 59,
     "metadata": {},
     "output_type": "execute_result"
    }
   ],
   "source": [
    "fert_pop_life_cont"
   ]
  },
  {
   "cell_type": "markdown",
   "id": "113fcf41",
   "metadata": {},
   "source": [
    "Check the min and max for fertility rate and life expectancy columns in order to use properly the function plt.axis((xmin, xmax, ymin, ymax)) to fix respectively the coordinates of the plot. "
   ]
  },
  {
   "cell_type": "code",
   "execution_count": 60,
   "id": "1e3bc8c3",
   "metadata": {},
   "outputs": [
    {
     "data": {
      "text/html": [
       "<div>\n",
       "<style scoped>\n",
       "    .dataframe tbody tr th:only-of-type {\n",
       "        vertical-align: middle;\n",
       "    }\n",
       "\n",
       "    .dataframe tbody tr th {\n",
       "        vertical-align: top;\n",
       "    }\n",
       "\n",
       "    .dataframe thead th {\n",
       "        text-align: right;\n",
       "    }\n",
       "</style>\n",
       "<table border=\"1\" class=\"dataframe\">\n",
       "  <thead>\n",
       "    <tr style=\"text-align: right;\">\n",
       "      <th></th>\n",
       "      <th>life_expectancy</th>\n",
       "      <th>fertility_rate</th>\n",
       "    </tr>\n",
       "  </thead>\n",
       "  <tbody>\n",
       "    <tr>\n",
       "      <th>min</th>\n",
       "      <td>4.0</td>\n",
       "      <td>1.13</td>\n",
       "    </tr>\n",
       "    <tr>\n",
       "      <th>max</th>\n",
       "      <td>83.3</td>\n",
       "      <td>9.22</td>\n",
       "    </tr>\n",
       "  </tbody>\n",
       "</table>\n",
       "</div>"
      ],
      "text/plain": [
       "     life_expectancy  fertility_rate\n",
       "min              4.0            1.13\n",
       "max             83.3            9.22"
      ]
     },
     "execution_count": 60,
     "metadata": {},
     "output_type": "execute_result"
    }
   ],
   "source": [
    "fert_pop_life_cont.agg({\"life_expectancy\":[\"min\", \"max\"], \"fertility_rate\":[\"min\", \"max\"]})"
   ]
  },
  {
   "cell_type": "markdown",
   "id": "35ae93b4",
   "metadata": {},
   "source": [
    "Write a for loop that iterates through each year and produces a scatterplot.\n",
    "\n",
    "Save each scatterplot to a separate file containing the year in the filename, e.g. fert_pop_life_1999.png. After saving the plot call plt.close() to remove the plot from the notebook."
   ]
  },
  {
   "cell_type": "code",
   "execution_count": 61,
   "id": "a42f7e8b",
   "metadata": {},
   "outputs": [],
   "source": [
    "for year in range(1960, 2016):\n",
    "    fert_pop_life_cont_subset = fert_pop_life_cont.loc[fert_pop_life_cont[\"year\"]== year]\n",
    "    cmap = sns.cubehelix_palette(light=1, as_cmap=True)\n",
    "    ax2 = sns.scatterplot(x= fert_pop_life_cont_subset[\"life_expectancy\"], y= fert_pop_life_cont_subset[\"fertility_rate\"], \n",
    "                          hue = fert_pop_life_cont_subset[\"Continent\"], size = fert_pop_life_cont_subset[\"Total population\"], \n",
    "                          data= fert_pop_life_cont_subset, palette = palette, alpha= 0.6, sizes = (5, 1000), \n",
    "                          size_norm = (fert_pop_life_cont_subset[\"Total population\"].min(), fert_pop_life_cont_subset[\"Total population\"].max()))\n",
    "    handles, labels = ax2.get_legend_handles_labels()\n",
    "    plt.legend(handles[1:7],labels[1:7],loc='lower center', bbox_to_anchor=(0.5, -0.15), ncol= 7)\n",
    "    plt.title(\"Life expectancy and fertility rate in the year \" + str(year))\n",
    "    plt.xlabel(\"Life expectancy in years\")\n",
    "    plt.ylabel(\"Fertility rate\")\n",
    "    plt.axis((0, 85, 0, 9.5))\n",
    "    plt.savefig(\"fert_pop_life_cont_\" + str(year) +\".png\", dpi = 300)\n",
    "    plt.close()\n",
    "    \n"
   ]
  },
  {
   "cell_type": "markdown",
   "id": "9a73cf8d",
   "metadata": {},
   "source": [
    "# Generate a gif file"
   ]
  },
  {
   "cell_type": "markdown",
   "id": "3a097ff7",
   "metadata": {},
   "source": [
    "Install the Python module imageio."
   ]
  },
  {
   "cell_type": "code",
   "execution_count": 62,
   "id": "3d607019",
   "metadata": {},
   "outputs": [
    {
     "name": "stdout",
     "output_type": "stream",
     "text": [
      "Requirement already satisfied: imageio in /home/nteni/anaconda3/lib/python3.9/site-packages (2.19.3)\n",
      "Requirement already satisfied: pillow>=8.3.2 in /home/nteni/anaconda3/lib/python3.9/site-packages (from imageio) (9.2.0)\n",
      "Requirement already satisfied: numpy in /home/nteni/anaconda3/lib/python3.9/site-packages (from imageio) (1.21.5)\n",
      "Note: you may need to restart the kernel to use updated packages.\n"
     ]
    }
   ],
   "source": [
    "pip install imageio"
   ]
  },
  {
   "cell_type": "markdown",
   "id": "8b65b33e",
   "metadata": {},
   "source": [
    "To generate a gif file from the individual pictures, import imageio, create an empty list and write a for loop to iterate through the png images from previous step and append the images list."
   ]
  },
  {
   "cell_type": "code",
   "execution_count": 63,
   "id": "c605e2c2",
   "metadata": {},
   "outputs": [],
   "source": [
    "import imageio"
   ]
  },
  {
   "cell_type": "code",
   "execution_count": 64,
   "id": "57e39dc1",
   "metadata": {},
   "outputs": [],
   "source": [
    "images = []"
   ]
  },
  {
   "cell_type": "markdown",
   "id": "8b8ec5b7",
   "metadata": {},
   "source": [
    "Generate a gif with a step of 1."
   ]
  },
  {
   "cell_type": "code",
   "execution_count": 65,
   "id": "db296b76",
   "metadata": {},
   "outputs": [
    {
     "name": "stderr",
     "output_type": "stream",
     "text": [
      "/tmp/ipykernel_140524/3702044402.py:3: DeprecationWarning: Starting with ImageIO v3 the behavior of this function will switch to that of iio.v3.imread. To keep the current behavior (and make this warning dissapear) use `import imageio.v2 as imageio` or call `imageio.v2.imread` directly.\n",
      "  images.append(imageio.imread(filename))\n"
     ]
    }
   ],
   "source": [
    "for i in range(1960,2016):\n",
    "    filename = \"fert_pop_life_cont_{}.png\".format(i)\n",
    "    images.append(imageio.imread(filename))\n",
    "imageio.mimsave(\"animatedscatter_step_by_1.gif\", images, fps = 1)"
   ]
  },
  {
   "cell_type": "markdown",
   "id": "7176739f",
   "metadata": {},
   "source": [
    "Generate a gif with a step of 5."
   ]
  },
  {
   "cell_type": "code",
   "execution_count": 66,
   "id": "ec26ccde",
   "metadata": {},
   "outputs": [
    {
     "name": "stderr",
     "output_type": "stream",
     "text": [
      "/tmp/ipykernel_140524/3565335523.py:3: DeprecationWarning: Starting with ImageIO v3 the behavior of this function will switch to that of iio.v3.imread. To keep the current behavior (and make this warning dissapear) use `import imageio.v2 as imageio` or call `imageio.v2.imread` directly.\n",
      "  images.append(imageio.imread(filename))\n"
     ]
    }
   ],
   "source": [
    "for i in range(1960,2016):\n",
    "    filename = \"fert_pop_life_cont_{}.png\".format(i)\n",
    "    images.append(imageio.imread(filename))\n",
    "imageio.mimsave(\"animatedscatter_step_by_5.gif\", images, fps = 5)"
   ]
  },
  {
   "cell_type": "code",
   "execution_count": null,
   "id": "572b03cd",
   "metadata": {},
   "outputs": [],
   "source": []
  }
 ],
 "metadata": {
  "kernelspec": {
   "display_name": "Python 3 (ipykernel)",
   "language": "python",
   "name": "python3"
  },
  "language_info": {
   "codemirror_mode": {
    "name": "ipython",
    "version": 3
   },
   "file_extension": ".py",
   "mimetype": "text/x-python",
   "name": "python",
   "nbconvert_exporter": "python",
   "pygments_lexer": "ipython3",
   "version": "3.9.13"
  }
 },
 "nbformat": 4,
 "nbformat_minor": 5
}
