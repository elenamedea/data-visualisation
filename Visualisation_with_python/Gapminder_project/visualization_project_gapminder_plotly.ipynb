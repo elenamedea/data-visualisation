{
 "cells": [
  {
   "cell_type": "markdown",
   "id": "1e79124d",
   "metadata": {},
   "source": [
    "# 1. Project: Visual Data Analysis"
   ]
  },
  {
   "cell_type": "markdown",
   "id": "68f66219",
   "metadata": {},
   "source": [
    "This is an exercise on the reproduction of Hans Rosling’s famous animation. It takes several pandas, matplotlib and seaborn skills in order to apply them to an epic data visualization / storytelling task.\n",
    "\n",
    "Here’s the rough idea:\n",
    "\n",
    "1. Read in data from multiple sources:\n",
    "\n",
    "     **worldwide fertility rate data**\n",
    "\n",
    "     **worldwide life expectancy data**\n",
    "\n",
    "     **worldwide population data**\n",
    "      \n",
    "\n",
    "2. Merge all the data into a single DataFrame.\n",
    "\n",
    "3. Generate a scatterplot for a single year with _plotly_.\n",
    "\n",
    "4. Combine images of scatterplots of all years to make an animation / gif.\n"
   ]
  },
  {
   "cell_type": "code",
   "execution_count": 67,
   "id": "c223deb9",
   "metadata": {},
   "outputs": [],
   "source": [
    "import pandas as pd\n",
    "\n",
    "import plotly.express as px\n",
    "\n",
    "import imageio"
   ]
  },
  {
   "cell_type": "markdown",
   "id": "a92abd9e",
   "metadata": {},
   "source": [
    "# Load the datasets"
   ]
  },
  {
   "cell_type": "markdown",
   "id": "87c3e3a0",
   "metadata": {},
   "source": [
    "Load the file data/gapminder_total_fertility.csv into pandas."
   ]
  },
  {
   "cell_type": "code",
   "execution_count": 68,
   "id": "aec1971f",
   "metadata": {},
   "outputs": [],
   "source": [
    "fert = pd.read_csv(\"data/gapminder_total_fertility.csv\", index_col = 0)"
   ]
  },
  {
   "cell_type": "markdown",
   "id": "3136e8a6",
   "metadata": {},
   "source": [
    "Inspect the 5 first rows of the dataframe and its shape."
   ]
  },
  {
   "cell_type": "code",
   "execution_count": 69,
   "id": "018a8282",
   "metadata": {},
   "outputs": [
    {
     "name": "stdout",
     "output_type": "stream",
     "text": [
      "                       1800  1801  1802  1803  1804  1805  1806  1807  1808  \\\n",
      "Total fertility rate                                                          \n",
      "Abkhazia                NaN   NaN   NaN   NaN   NaN   NaN   NaN   NaN   NaN   \n",
      "Afghanistan            7.00  7.00  7.00  7.00  7.00  7.00  7.00  7.00  7.00   \n",
      "Akrotiri and Dhekelia   NaN   NaN   NaN   NaN   NaN   NaN   NaN   NaN   NaN   \n",
      "Albania                4.60  4.60  4.60  4.60  4.60  4.60  4.60  4.60  4.60   \n",
      "Algeria                6.99  6.99  6.99  6.99  6.99  6.99  6.99  6.99  6.99   \n",
      "\n",
      "                       1809  ...  2006  2007  2008  2009  2010  2011  2012  \\\n",
      "Total fertility rate         ...                                             \n",
      "Abkhazia                NaN  ...   NaN   NaN   NaN   NaN   NaN   NaN   NaN   \n",
      "Afghanistan            7.00  ...  6.70  6.46  6.20  5.93  5.66  5.40  5.14   \n",
      "Akrotiri and Dhekelia   NaN  ...   NaN   NaN   NaN   NaN   NaN   NaN   NaN   \n",
      "Albania                4.60  ...  1.85  1.80  1.76  1.74  1.74  1.75  1.76   \n",
      "Algeria                6.99  ...  2.58  2.66  2.73  2.78  2.82  2.83  2.82   \n",
      "\n",
      "                       2013  2014  2015  \n",
      "Total fertility rate                     \n",
      "Abkhazia                NaN   NaN   NaN  \n",
      "Afghanistan            4.90  4.68  4.47  \n",
      "Akrotiri and Dhekelia   NaN   NaN   NaN  \n",
      "Albania                1.77  1.78  1.78  \n",
      "Algeria                2.80  2.76  2.71  \n",
      "\n",
      "[5 rows x 216 columns]\n"
     ]
    }
   ],
   "source": [
    "print(fert.head())"
   ]
  },
  {
   "cell_type": "code",
   "execution_count": 70,
   "id": "f20d3600",
   "metadata": {},
   "outputs": [
    {
     "name": "stdout",
     "output_type": "stream",
     "text": [
      "(260, 216)\n"
     ]
    }
   ],
   "source": [
    "print(fert.shape)"
   ]
  },
  {
   "cell_type": "markdown",
   "id": "04ebc9b0",
   "metadata": {},
   "source": [
    "Proceed in the same way with the file data/gapminder_lifeexpectancy.xlsx.\n",
    "Save it in a DataFrame with the name life. \n"
   ]
  },
  {
   "cell_type": "code",
   "execution_count": 71,
   "id": "e0c2fd98",
   "metadata": {},
   "outputs": [],
   "source": [
    "life = pd.read_excel(\"data/gapminder_lifeexpectancy.xlsx\", index_col = 0)\n"
   ]
  },
  {
   "cell_type": "markdown",
   "id": "779897e3",
   "metadata": {},
   "source": [
    "Inspect the 5 first rows of the dataframe and its shape."
   ]
  },
  {
   "cell_type": "code",
   "execution_count": 72,
   "id": "af8c2eb3",
   "metadata": {},
   "outputs": [
    {
     "name": "stdout",
     "output_type": "stream",
     "text": [
      "                        1800   1801   1802   1803   1804   1805   1806   1807  \\\n",
      "Life expectancy                                                                 \n",
      "Abkhazia                 NaN    NaN    NaN    NaN    NaN    NaN    NaN    NaN   \n",
      "Afghanistan            28.21  28.20  28.19  28.18  28.17  28.16  28.15  28.14   \n",
      "Akrotiri and Dhekelia    NaN    NaN    NaN    NaN    NaN    NaN    NaN    NaN   \n",
      "Albania                35.40  35.40  35.40  35.40  35.40  35.40  35.40  35.40   \n",
      "Algeria                28.82  28.82  28.82  28.82  28.82  28.82  28.82  28.82   \n",
      "\n",
      "                        1808   1809  ...  2007  2008  2009  2010  2011  2012  \\\n",
      "Life expectancy                      ...                                       \n",
      "Abkhazia                 NaN    NaN  ...   NaN   NaN   NaN   NaN   NaN   NaN   \n",
      "Afghanistan            28.13  28.12  ...  52.4  52.8  53.3  53.6  54.0  54.4   \n",
      "Akrotiri and Dhekelia    NaN    NaN  ...   NaN   NaN   NaN   NaN   NaN   NaN   \n",
      "Albania                35.40  35.40  ...  76.6  76.8  77.0  77.2  77.4  77.5   \n",
      "Algeria                28.82  28.82  ...  75.3  75.5  75.7  76.0  76.1  76.2   \n",
      "\n",
      "                       2013  2014  2015   2016  \n",
      "Life expectancy                                 \n",
      "Abkhazia                NaN   NaN   NaN    NaN  \n",
      "Afghanistan            54.8  54.9  53.8  52.72  \n",
      "Akrotiri and Dhekelia   NaN   NaN   NaN    NaN  \n",
      "Albania                77.7  77.9  78.0  78.10  \n",
      "Algeria                76.3  76.3  76.4  76.50  \n",
      "\n",
      "[5 rows x 217 columns]\n"
     ]
    }
   ],
   "source": [
    "print(life.head())"
   ]
  },
  {
   "cell_type": "code",
   "execution_count": 73,
   "id": "db6a2f19",
   "metadata": {
    "scrolled": false
   },
   "outputs": [
    {
     "name": "stdout",
     "output_type": "stream",
     "text": [
      "(260, 217)\n"
     ]
    }
   ],
   "source": [
    "print(life.shape)"
   ]
  },
  {
   "cell_type": "markdown",
   "id": "4a5eb1cd",
   "metadata": {},
   "source": [
    "# Inspect and adjust the columns of tables"
   ]
  },
  {
   "cell_type": "markdown",
   "id": "2c1c1479",
   "metadata": {},
   "source": [
    "Take a look at the columns of both tables."
   ]
  },
  {
   "cell_type": "code",
   "execution_count": 74,
   "id": "4d574038",
   "metadata": {},
   "outputs": [
    {
     "name": "stdout",
     "output_type": "stream",
     "text": [
      "Index(['1800', '1801', '1802', '1803', '1804', '1805', '1806', '1807', '1808',\n",
      "       '1809',\n",
      "       ...\n",
      "       '2006', '2007', '2008', '2009', '2010', '2011', '2012', '2013', '2014',\n",
      "       '2015'],\n",
      "      dtype='object', length=216)\n"
     ]
    }
   ],
   "source": [
    "print(fert.columns)"
   ]
  },
  {
   "cell_type": "code",
   "execution_count": 75,
   "id": "cbe6ed68",
   "metadata": {},
   "outputs": [
    {
     "name": "stdout",
     "output_type": "stream",
     "text": [
      "Int64Index([1800, 1801, 1802, 1803, 1804, 1805, 1806, 1807, 1808, 1809,\n",
      "            ...\n",
      "            2007, 2008, 2009, 2010, 2011, 2012, 2013, 2014, 2015, 2016],\n",
      "           dtype='int64', length=217)\n"
     ]
    }
   ],
   "source": [
    "print(life.columns)"
   ]
  },
  {
   "cell_type": "markdown",
   "id": "43217e09",
   "metadata": {},
   "source": [
    "One table has columns as strings, the other has integer numbers. To merge the tables, we need to convert both into the same format."
   ]
  },
  {
   "cell_type": "code",
   "execution_count": 76,
   "id": "4235ae6b",
   "metadata": {},
   "outputs": [],
   "source": [
    "fert.columns = fert.columns.astype(int)"
   ]
  },
  {
   "cell_type": "markdown",
   "id": "fd51be9d",
   "metadata": {},
   "source": [
    "Check with fert.columns whether the transformation was successful."
   ]
  },
  {
   "cell_type": "code",
   "execution_count": 77,
   "id": "576ce8dd",
   "metadata": {},
   "outputs": [
    {
     "data": {
      "text/plain": [
       "Int64Index([1800, 1801, 1802, 1803, 1804, 1805, 1806, 1807, 1808, 1809,\n",
       "            ...\n",
       "            2006, 2007, 2008, 2009, 2010, 2011, 2012, 2013, 2014, 2015],\n",
       "           dtype='int64', length=216)"
      ]
     },
     "execution_count": 77,
     "metadata": {},
     "output_type": "execute_result"
    }
   ],
   "source": [
    "fert.columns"
   ]
  },
  {
   "cell_type": "code",
   "execution_count": 78,
   "id": "1c07d702",
   "metadata": {},
   "outputs": [
    {
     "data": {
      "text/plain": [
       "Int64Index([1800, 1801, 1802, 1803, 1804, 1805, 1806, 1807, 1808, 1809,\n",
       "            ...\n",
       "            2007, 2008, 2009, 2010, 2011, 2012, 2013, 2014, 2015, 2016],\n",
       "           dtype='int64', length=217)"
      ]
     },
     "execution_count": 78,
     "metadata": {},
     "output_type": "execute_result"
    }
   ],
   "source": [
    "life.columns"
   ]
  },
  {
   "cell_type": "markdown",
   "id": "9edb2faf",
   "metadata": {},
   "source": [
    "# Inspect and adjust the rows of fert table"
   ]
  },
  {
   "cell_type": "markdown",
   "id": "6b78427f",
   "metadata": {},
   "source": [
    "Now, let’s check the row index of the table."
   ]
  },
  {
   "cell_type": "code",
   "execution_count": 79,
   "id": "8327650e",
   "metadata": {},
   "outputs": [
    {
     "data": {
      "text/plain": [
       "Index(['Abkhazia', 'Afghanistan', 'Akrotiri and Dhekelia', 'Albania',\n",
       "       'Algeria', 'American Samoa', 'Andorra', 'Angola', 'Anguilla',\n",
       "       'Antigua and Barbuda',\n",
       "       ...\n",
       "       'Vietnam', 'Virgin Islands (U.S.)', 'North Yemen (former)',\n",
       "       'South Yemen (former)', 'Yemen', 'Yugoslavia', 'Zambia', 'Zimbabwe',\n",
       "       'Åland', 'Åland'],\n",
       "      dtype='object', name='Total fertility rate', length=260)"
      ]
     },
     "execution_count": 79,
     "metadata": {},
     "output_type": "execute_result"
    }
   ],
   "source": [
    "fert.index"
   ]
  },
  {
   "cell_type": "markdown",
   "id": "a305488f",
   "metadata": {},
   "source": [
    "The name of the index should be called Country."
   ]
  },
  {
   "cell_type": "code",
   "execution_count": 80,
   "id": "c5b30bb2",
   "metadata": {},
   "outputs": [],
   "source": [
    "fert.index.name = \"Country\""
   ]
  },
  {
   "cell_type": "code",
   "execution_count": 81,
   "id": "efcd87cc",
   "metadata": {},
   "outputs": [
    {
     "data": {
      "text/plain": [
       "Index(['Abkhazia', 'Afghanistan', 'Akrotiri and Dhekelia', 'Albania',\n",
       "       'Algeria', 'American Samoa', 'Andorra', 'Angola', 'Anguilla',\n",
       "       'Antigua and Barbuda',\n",
       "       ...\n",
       "       'Vietnam', 'Virgin Islands (U.S.)', 'North Yemen (former)',\n",
       "       'South Yemen (former)', 'Yemen', 'Yugoslavia', 'Zambia', 'Zimbabwe',\n",
       "       'Åland', 'Åland'],\n",
       "      dtype='object', name='Country', length=260)"
      ]
     },
     "execution_count": 81,
     "metadata": {},
     "output_type": "execute_result"
    }
   ],
   "source": [
    "fert.index"
   ]
  },
  {
   "cell_type": "markdown",
   "id": "e1ffd49f",
   "metadata": {},
   "source": [
    "# Convert fert table into long format"
   ]
  },
  {
   "cell_type": "markdown",
   "id": "2d846c0d",
   "metadata": {},
   "source": [
    "Now convert the table into long format. First, we have to move the row index into a column."
   ]
  },
  {
   "cell_type": "code",
   "execution_count": 82,
   "id": "8ad5e2d6",
   "metadata": {},
   "outputs": [],
   "source": [
    "fert = fert.reset_index()"
   ]
  },
  {
   "cell_type": "markdown",
   "id": "a5ff0864",
   "metadata": {},
   "source": [
    "Second, we use the convenient melt function for the conversion."
   ]
  },
  {
   "cell_type": "code",
   "execution_count": 83,
   "id": "bc834ccd",
   "metadata": {},
   "outputs": [],
   "source": [
    "fert = fert.melt(id_vars = \"Country\", var_name = \"year\", value_name = \"fertility_rate\")"
   ]
  },
  {
   "cell_type": "code",
   "execution_count": 84,
   "id": "e04f5b2c",
   "metadata": {},
   "outputs": [
    {
     "data": {
      "text/html": [
       "<div>\n",
       "<style scoped>\n",
       "    .dataframe tbody tr th:only-of-type {\n",
       "        vertical-align: middle;\n",
       "    }\n",
       "\n",
       "    .dataframe tbody tr th {\n",
       "        vertical-align: top;\n",
       "    }\n",
       "\n",
       "    .dataframe thead th {\n",
       "        text-align: right;\n",
       "    }\n",
       "</style>\n",
       "<table border=\"1\" class=\"dataframe\">\n",
       "  <thead>\n",
       "    <tr style=\"text-align: right;\">\n",
       "      <th></th>\n",
       "      <th>Country</th>\n",
       "      <th>year</th>\n",
       "      <th>fertility_rate</th>\n",
       "    </tr>\n",
       "  </thead>\n",
       "  <tbody>\n",
       "    <tr>\n",
       "      <th>0</th>\n",
       "      <td>Abkhazia</td>\n",
       "      <td>1800</td>\n",
       "      <td>NaN</td>\n",
       "    </tr>\n",
       "    <tr>\n",
       "      <th>1</th>\n",
       "      <td>Afghanistan</td>\n",
       "      <td>1800</td>\n",
       "      <td>7.00</td>\n",
       "    </tr>\n",
       "    <tr>\n",
       "      <th>2</th>\n",
       "      <td>Akrotiri and Dhekelia</td>\n",
       "      <td>1800</td>\n",
       "      <td>NaN</td>\n",
       "    </tr>\n",
       "    <tr>\n",
       "      <th>3</th>\n",
       "      <td>Albania</td>\n",
       "      <td>1800</td>\n",
       "      <td>4.60</td>\n",
       "    </tr>\n",
       "    <tr>\n",
       "      <th>4</th>\n",
       "      <td>Algeria</td>\n",
       "      <td>1800</td>\n",
       "      <td>6.99</td>\n",
       "    </tr>\n",
       "    <tr>\n",
       "      <th>...</th>\n",
       "      <td>...</td>\n",
       "      <td>...</td>\n",
       "      <td>...</td>\n",
       "    </tr>\n",
       "    <tr>\n",
       "      <th>56155</th>\n",
       "      <td>Yugoslavia</td>\n",
       "      <td>2015</td>\n",
       "      <td>NaN</td>\n",
       "    </tr>\n",
       "    <tr>\n",
       "      <th>56156</th>\n",
       "      <td>Zambia</td>\n",
       "      <td>2015</td>\n",
       "      <td>5.59</td>\n",
       "    </tr>\n",
       "    <tr>\n",
       "      <th>56157</th>\n",
       "      <td>Zimbabwe</td>\n",
       "      <td>2015</td>\n",
       "      <td>3.35</td>\n",
       "    </tr>\n",
       "    <tr>\n",
       "      <th>56158</th>\n",
       "      <td>Åland</td>\n",
       "      <td>2015</td>\n",
       "      <td>NaN</td>\n",
       "    </tr>\n",
       "    <tr>\n",
       "      <th>56159</th>\n",
       "      <td>Åland</td>\n",
       "      <td>2015</td>\n",
       "      <td>NaN</td>\n",
       "    </tr>\n",
       "  </tbody>\n",
       "</table>\n",
       "<p>56160 rows × 3 columns</p>\n",
       "</div>"
      ],
      "text/plain": [
       "                     Country  year  fertility_rate\n",
       "0                   Abkhazia  1800             NaN\n",
       "1                Afghanistan  1800            7.00\n",
       "2      Akrotiri and Dhekelia  1800             NaN\n",
       "3                    Albania  1800            4.60\n",
       "4                    Algeria  1800            6.99\n",
       "...                      ...   ...             ...\n",
       "56155             Yugoslavia  2015             NaN\n",
       "56156                 Zambia  2015            5.59\n",
       "56157               Zimbabwe  2015            3.35\n",
       "56158                  Åland  2015             NaN\n",
       "56159                  Åland  2015             NaN\n",
       "\n",
       "[56160 rows x 3 columns]"
      ]
     },
     "execution_count": 84,
     "metadata": {},
     "output_type": "execute_result"
    }
   ],
   "source": [
    "fert"
   ]
  },
  {
   "cell_type": "markdown",
   "id": "5695e5ab",
   "metadata": {},
   "source": [
    "# Inspect and adjust the rows of life table"
   ]
  },
  {
   "cell_type": "markdown",
   "id": "569e056f",
   "metadata": {},
   "source": [
    "Repeat the steps for the life expectancy dataset, so that it’s also in long format."
   ]
  },
  {
   "cell_type": "code",
   "execution_count": 85,
   "id": "72ad257c",
   "metadata": {},
   "outputs": [
    {
     "data": {
      "text/plain": [
       "Index(['Abkhazia', 'Afghanistan', 'Akrotiri and Dhekelia', 'Albania',\n",
       "       'Algeria', 'American Samoa', 'Andorra', 'Angola', 'Anguilla',\n",
       "       'Antigua and Barbuda',\n",
       "       ...\n",
       "       'Vietnam', 'Virgin Islands (U.S.)', 'North Yemen (former)',\n",
       "       'South Yemen (former)', 'Yemen', 'Yugoslavia', 'Zambia', 'Zimbabwe',\n",
       "       'Åland', 'South Sudan'],\n",
       "      dtype='object', name='Life expectancy', length=260)"
      ]
     },
     "execution_count": 85,
     "metadata": {},
     "output_type": "execute_result"
    }
   ],
   "source": [
    "life.index"
   ]
  },
  {
   "cell_type": "code",
   "execution_count": 86,
   "id": "2e89a9be",
   "metadata": {},
   "outputs": [],
   "source": [
    "life.index.name = \"Country\""
   ]
  },
  {
   "cell_type": "markdown",
   "id": "29328105",
   "metadata": {},
   "source": [
    "# Convert life table into long format"
   ]
  },
  {
   "cell_type": "code",
   "execution_count": 87,
   "id": "6ec48d88",
   "metadata": {},
   "outputs": [],
   "source": [
    "life = life.reset_index()"
   ]
  },
  {
   "cell_type": "code",
   "execution_count": 88,
   "id": "b6094fe3",
   "metadata": {},
   "outputs": [],
   "source": [
    "life = life.melt(id_vars = \"Country\", var_name = \"year\", value_name = \"life_expectancy\")"
   ]
  },
  {
   "cell_type": "code",
   "execution_count": 89,
   "id": "d676b1a8",
   "metadata": {},
   "outputs": [
    {
     "data": {
      "text/html": [
       "<div>\n",
       "<style scoped>\n",
       "    .dataframe tbody tr th:only-of-type {\n",
       "        vertical-align: middle;\n",
       "    }\n",
       "\n",
       "    .dataframe tbody tr th {\n",
       "        vertical-align: top;\n",
       "    }\n",
       "\n",
       "    .dataframe thead th {\n",
       "        text-align: right;\n",
       "    }\n",
       "</style>\n",
       "<table border=\"1\" class=\"dataframe\">\n",
       "  <thead>\n",
       "    <tr style=\"text-align: right;\">\n",
       "      <th></th>\n",
       "      <th>Country</th>\n",
       "      <th>year</th>\n",
       "      <th>life_expectancy</th>\n",
       "    </tr>\n",
       "  </thead>\n",
       "  <tbody>\n",
       "    <tr>\n",
       "      <th>0</th>\n",
       "      <td>Abkhazia</td>\n",
       "      <td>1800</td>\n",
       "      <td>NaN</td>\n",
       "    </tr>\n",
       "    <tr>\n",
       "      <th>1</th>\n",
       "      <td>Afghanistan</td>\n",
       "      <td>1800</td>\n",
       "      <td>28.21</td>\n",
       "    </tr>\n",
       "    <tr>\n",
       "      <th>2</th>\n",
       "      <td>Akrotiri and Dhekelia</td>\n",
       "      <td>1800</td>\n",
       "      <td>NaN</td>\n",
       "    </tr>\n",
       "    <tr>\n",
       "      <th>3</th>\n",
       "      <td>Albania</td>\n",
       "      <td>1800</td>\n",
       "      <td>35.40</td>\n",
       "    </tr>\n",
       "    <tr>\n",
       "      <th>4</th>\n",
       "      <td>Algeria</td>\n",
       "      <td>1800</td>\n",
       "      <td>28.82</td>\n",
       "    </tr>\n",
       "    <tr>\n",
       "      <th>...</th>\n",
       "      <td>...</td>\n",
       "      <td>...</td>\n",
       "      <td>...</td>\n",
       "    </tr>\n",
       "    <tr>\n",
       "      <th>56415</th>\n",
       "      <td>Yugoslavia</td>\n",
       "      <td>2016</td>\n",
       "      <td>NaN</td>\n",
       "    </tr>\n",
       "    <tr>\n",
       "      <th>56416</th>\n",
       "      <td>Zambia</td>\n",
       "      <td>2016</td>\n",
       "      <td>57.10</td>\n",
       "    </tr>\n",
       "    <tr>\n",
       "      <th>56417</th>\n",
       "      <td>Zimbabwe</td>\n",
       "      <td>2016</td>\n",
       "      <td>61.69</td>\n",
       "    </tr>\n",
       "    <tr>\n",
       "      <th>56418</th>\n",
       "      <td>Åland</td>\n",
       "      <td>2016</td>\n",
       "      <td>NaN</td>\n",
       "    </tr>\n",
       "    <tr>\n",
       "      <th>56419</th>\n",
       "      <td>South Sudan</td>\n",
       "      <td>2016</td>\n",
       "      <td>56.10</td>\n",
       "    </tr>\n",
       "  </tbody>\n",
       "</table>\n",
       "<p>56420 rows × 3 columns</p>\n",
       "</div>"
      ],
      "text/plain": [
       "                     Country  year  life_expectancy\n",
       "0                   Abkhazia  1800              NaN\n",
       "1                Afghanistan  1800            28.21\n",
       "2      Akrotiri and Dhekelia  1800              NaN\n",
       "3                    Albania  1800            35.40\n",
       "4                    Algeria  1800            28.82\n",
       "...                      ...   ...              ...\n",
       "56415             Yugoslavia  2016              NaN\n",
       "56416                 Zambia  2016            57.10\n",
       "56417               Zimbabwe  2016            61.69\n",
       "56418                  Åland  2016              NaN\n",
       "56419            South Sudan  2016            56.10\n",
       "\n",
       "[56420 rows x 3 columns]"
      ]
     },
     "execution_count": 89,
     "metadata": {},
     "output_type": "execute_result"
    }
   ],
   "source": [
    "life"
   ]
  },
  {
   "cell_type": "markdown",
   "id": "c582d85e",
   "metadata": {},
   "source": [
    "# Load the population dataset (inspect, adjust and convert into long format)"
   ]
  },
  {
   "cell_type": "markdown",
   "id": "62b6a91b",
   "metadata": {},
   "source": [
    "To make things even more interesting, let’s also introduce population data from the file data/gapminder_population.xlsx.\n",
    "\n",
    "Read the data in with pandas, and get that DataFrame into the same format as the other two."
   ]
  },
  {
   "cell_type": "code",
   "execution_count": 90,
   "id": "06442e54",
   "metadata": {},
   "outputs": [],
   "source": [
    "pop = pd.read_excel(\"data/gapminder_population.xlsx\", nrows=260, index_col = 0)"
   ]
  },
  {
   "cell_type": "code",
   "execution_count": 91,
   "id": "7311fa48",
   "metadata": {},
   "outputs": [
    {
     "name": "stdout",
     "output_type": "stream",
     "text": [
      "                            1800       1810       1820       1830       1840  \\\n",
      "Total population                                                               \n",
      "Abkhazia                     NaN        NaN        NaN        NaN        NaN   \n",
      "Afghanistan            3280000.0  3280000.0  3323519.0  3448982.0  3625022.0   \n",
      "Akrotiri and Dhekelia        NaN        NaN        NaN        NaN        NaN   \n",
      "Albania                 410445.0   423591.0   438671.0   457234.0   478227.0   \n",
      "Algeria                2503218.0  2595056.0  2713079.0  2880355.0  3082721.0   \n",
      "\n",
      "                            1850       1860       1870       1880       1890  \\\n",
      "Total population                                                               \n",
      "Abkhazia                     NaN        NaN        NaN        NaN        NaN   \n",
      "Afghanistan            3810047.0  3973968.0  4169690.0  4419695.0  4710171.0   \n",
      "Akrotiri and Dhekelia        NaN        NaN        NaN        NaN        NaN   \n",
      "Albania                 506889.0   552800.0   610036.0   672544.0   741688.0   \n",
      "Algeria                3299305.0  3536468.0  3811028.0  4143163.0  4525691.0   \n",
      "\n",
      "                       ...        2006        2007        2008        2009  \\\n",
      "Total population       ...                                                   \n",
      "Abkhazia               ...         NaN         NaN         NaN         NaN   \n",
      "Afghanistan            ...  25183615.0  25877544.0  26528741.0  27207291.0   \n",
      "Akrotiri and Dhekelia  ...     15700.0     15700.0     15700.0         NaN   \n",
      "Albania                ...   3050741.0   3010849.0   2968026.0   2929886.0   \n",
      "Algeria                ...  33749328.0  34261971.0  34811059.0  35401790.0   \n",
      "\n",
      "                             2010        2011        2012        2013  \\\n",
      "Total population                                                        \n",
      "Abkhazia                      NaN         NaN         NaN         NaN   \n",
      "Afghanistan            27962207.0  28809167.0  29726803.0  30682500.0   \n",
      "Akrotiri and Dhekelia         NaN         NaN         NaN         NaN   \n",
      "Albania                 2901883.0   2886010.0   2880667.0   2883281.0   \n",
      "Algeria                36036159.0  36717132.0  37439427.0  38186135.0   \n",
      "\n",
      "                             2014        2015  \n",
      "Total population                               \n",
      "Abkhazia                      NaN         NaN  \n",
      "Afghanistan            31627506.0  32526562.0  \n",
      "Akrotiri and Dhekelia         NaN         NaN  \n",
      "Albania                 2889676.0   2896679.0  \n",
      "Algeria                38934334.0  39666519.0  \n",
      "\n",
      "[5 rows x 81 columns]\n"
     ]
    }
   ],
   "source": [
    "print(pop.head())"
   ]
  },
  {
   "cell_type": "code",
   "execution_count": 92,
   "id": "3a0c53b5",
   "metadata": {},
   "outputs": [
    {
     "data": {
      "text/plain": [
       "(260, 81)"
      ]
     },
     "execution_count": 92,
     "metadata": {},
     "output_type": "execute_result"
    }
   ],
   "source": [
    "pop.shape"
   ]
  },
  {
   "cell_type": "code",
   "execution_count": 93,
   "id": "06fb2be9",
   "metadata": {},
   "outputs": [
    {
     "data": {
      "text/plain": [
       "Int64Index([1800, 1810, 1820, 1830, 1840, 1850, 1860, 1870, 1880, 1890, 1900,\n",
       "            1910, 1920, 1930, 1940, 1950, 1951, 1952, 1953, 1954, 1955, 1956,\n",
       "            1957, 1958, 1959, 1960, 1961, 1962, 1963, 1964, 1965, 1966, 1967,\n",
       "            1968, 1969, 1970, 1971, 1972, 1973, 1974, 1975, 1976, 1977, 1978,\n",
       "            1979, 1980, 1981, 1982, 1983, 1984, 1985, 1986, 1987, 1988, 1989,\n",
       "            1990, 1991, 1992, 1993, 1994, 1995, 1996, 1997, 1998, 1999, 2000,\n",
       "            2001, 2002, 2003, 2004, 2005, 2006, 2007, 2008, 2009, 2010, 2011,\n",
       "            2012, 2013, 2014, 2015],\n",
       "           dtype='int64')"
      ]
     },
     "execution_count": 93,
     "metadata": {},
     "output_type": "execute_result"
    }
   ],
   "source": [
    "pop.columns"
   ]
  },
  {
   "cell_type": "code",
   "execution_count": 94,
   "id": "334be4b2",
   "metadata": {},
   "outputs": [
    {
     "data": {
      "text/plain": [
       "Index(['Abkhazia', 'Afghanistan', 'Akrotiri and Dhekelia', 'Albania',\n",
       "       'Algeria', 'American Samoa', 'Andorra', 'Angola', 'Anguilla',\n",
       "       'Antigua and Barbuda',\n",
       "       ...\n",
       "       'Vietnam', 'Virgin Islands (U.S.)', 'North Yemen (former)',\n",
       "       'South Yemen (former)', 'Yemen', 'Yugoslavia', 'Zambia', 'Zimbabwe',\n",
       "       'Åland', 'South Sudan'],\n",
       "      dtype='object', name='Total population', length=260)"
      ]
     },
     "execution_count": 94,
     "metadata": {},
     "output_type": "execute_result"
    }
   ],
   "source": [
    "pop.index"
   ]
  },
  {
   "cell_type": "code",
   "execution_count": 95,
   "id": "889ea0ae",
   "metadata": {},
   "outputs": [
    {
     "data": {
      "text/html": [
       "<div>\n",
       "<style scoped>\n",
       "    .dataframe tbody tr th:only-of-type {\n",
       "        vertical-align: middle;\n",
       "    }\n",
       "\n",
       "    .dataframe tbody tr th {\n",
       "        vertical-align: top;\n",
       "    }\n",
       "\n",
       "    .dataframe thead th {\n",
       "        text-align: right;\n",
       "    }\n",
       "</style>\n",
       "<table border=\"1\" class=\"dataframe\">\n",
       "  <thead>\n",
       "    <tr style=\"text-align: right;\">\n",
       "      <th></th>\n",
       "      <th>1800</th>\n",
       "      <th>1810</th>\n",
       "      <th>1820</th>\n",
       "      <th>1830</th>\n",
       "      <th>1840</th>\n",
       "      <th>1850</th>\n",
       "      <th>1860</th>\n",
       "      <th>1870</th>\n",
       "      <th>1880</th>\n",
       "      <th>1890</th>\n",
       "      <th>...</th>\n",
       "      <th>2006</th>\n",
       "      <th>2007</th>\n",
       "      <th>2008</th>\n",
       "      <th>2009</th>\n",
       "      <th>2010</th>\n",
       "      <th>2011</th>\n",
       "      <th>2012</th>\n",
       "      <th>2013</th>\n",
       "      <th>2014</th>\n",
       "      <th>2015</th>\n",
       "    </tr>\n",
       "    <tr>\n",
       "      <th>Total population</th>\n",
       "      <th></th>\n",
       "      <th></th>\n",
       "      <th></th>\n",
       "      <th></th>\n",
       "      <th></th>\n",
       "      <th></th>\n",
       "      <th></th>\n",
       "      <th></th>\n",
       "      <th></th>\n",
       "      <th></th>\n",
       "      <th></th>\n",
       "      <th></th>\n",
       "      <th></th>\n",
       "      <th></th>\n",
       "      <th></th>\n",
       "      <th></th>\n",
       "      <th></th>\n",
       "      <th></th>\n",
       "      <th></th>\n",
       "      <th></th>\n",
       "      <th></th>\n",
       "    </tr>\n",
       "  </thead>\n",
       "  <tbody>\n",
       "    <tr>\n",
       "      <th>Abkhazia</th>\n",
       "      <td>NaN</td>\n",
       "      <td>NaN</td>\n",
       "      <td>NaN</td>\n",
       "      <td>NaN</td>\n",
       "      <td>NaN</td>\n",
       "      <td>NaN</td>\n",
       "      <td>NaN</td>\n",
       "      <td>NaN</td>\n",
       "      <td>NaN</td>\n",
       "      <td>NaN</td>\n",
       "      <td>...</td>\n",
       "      <td>NaN</td>\n",
       "      <td>NaN</td>\n",
       "      <td>NaN</td>\n",
       "      <td>NaN</td>\n",
       "      <td>NaN</td>\n",
       "      <td>NaN</td>\n",
       "      <td>NaN</td>\n",
       "      <td>NaN</td>\n",
       "      <td>NaN</td>\n",
       "      <td>NaN</td>\n",
       "    </tr>\n",
       "    <tr>\n",
       "      <th>Afghanistan</th>\n",
       "      <td>3280000.0</td>\n",
       "      <td>3280000.0</td>\n",
       "      <td>3323519.0</td>\n",
       "      <td>3448982.0</td>\n",
       "      <td>3625022.0</td>\n",
       "      <td>3810047.0</td>\n",
       "      <td>3973968.0</td>\n",
       "      <td>4169690.0</td>\n",
       "      <td>4419695.0</td>\n",
       "      <td>4710171.0</td>\n",
       "      <td>...</td>\n",
       "      <td>25183615.0</td>\n",
       "      <td>25877544.0</td>\n",
       "      <td>26528741.0</td>\n",
       "      <td>27207291.0</td>\n",
       "      <td>27962207.0</td>\n",
       "      <td>28809167.0</td>\n",
       "      <td>29726803.0</td>\n",
       "      <td>30682500.0</td>\n",
       "      <td>31627506.0</td>\n",
       "      <td>32526562.0</td>\n",
       "    </tr>\n",
       "    <tr>\n",
       "      <th>Akrotiri and Dhekelia</th>\n",
       "      <td>NaN</td>\n",
       "      <td>NaN</td>\n",
       "      <td>NaN</td>\n",
       "      <td>NaN</td>\n",
       "      <td>NaN</td>\n",
       "      <td>NaN</td>\n",
       "      <td>NaN</td>\n",
       "      <td>NaN</td>\n",
       "      <td>NaN</td>\n",
       "      <td>NaN</td>\n",
       "      <td>...</td>\n",
       "      <td>15700.0</td>\n",
       "      <td>15700.0</td>\n",
       "      <td>15700.0</td>\n",
       "      <td>NaN</td>\n",
       "      <td>NaN</td>\n",
       "      <td>NaN</td>\n",
       "      <td>NaN</td>\n",
       "      <td>NaN</td>\n",
       "      <td>NaN</td>\n",
       "      <td>NaN</td>\n",
       "    </tr>\n",
       "    <tr>\n",
       "      <th>Albania</th>\n",
       "      <td>410445.0</td>\n",
       "      <td>423591.0</td>\n",
       "      <td>438671.0</td>\n",
       "      <td>457234.0</td>\n",
       "      <td>478227.0</td>\n",
       "      <td>506889.0</td>\n",
       "      <td>552800.0</td>\n",
       "      <td>610036.0</td>\n",
       "      <td>672544.0</td>\n",
       "      <td>741688.0</td>\n",
       "      <td>...</td>\n",
       "      <td>3050741.0</td>\n",
       "      <td>3010849.0</td>\n",
       "      <td>2968026.0</td>\n",
       "      <td>2929886.0</td>\n",
       "      <td>2901883.0</td>\n",
       "      <td>2886010.0</td>\n",
       "      <td>2880667.0</td>\n",
       "      <td>2883281.0</td>\n",
       "      <td>2889676.0</td>\n",
       "      <td>2896679.0</td>\n",
       "    </tr>\n",
       "    <tr>\n",
       "      <th>Algeria</th>\n",
       "      <td>2503218.0</td>\n",
       "      <td>2595056.0</td>\n",
       "      <td>2713079.0</td>\n",
       "      <td>2880355.0</td>\n",
       "      <td>3082721.0</td>\n",
       "      <td>3299305.0</td>\n",
       "      <td>3536468.0</td>\n",
       "      <td>3811028.0</td>\n",
       "      <td>4143163.0</td>\n",
       "      <td>4525691.0</td>\n",
       "      <td>...</td>\n",
       "      <td>33749328.0</td>\n",
       "      <td>34261971.0</td>\n",
       "      <td>34811059.0</td>\n",
       "      <td>35401790.0</td>\n",
       "      <td>36036159.0</td>\n",
       "      <td>36717132.0</td>\n",
       "      <td>37439427.0</td>\n",
       "      <td>38186135.0</td>\n",
       "      <td>38934334.0</td>\n",
       "      <td>39666519.0</td>\n",
       "    </tr>\n",
       "    <tr>\n",
       "      <th>...</th>\n",
       "      <td>...</td>\n",
       "      <td>...</td>\n",
       "      <td>...</td>\n",
       "      <td>...</td>\n",
       "      <td>...</td>\n",
       "      <td>...</td>\n",
       "      <td>...</td>\n",
       "      <td>...</td>\n",
       "      <td>...</td>\n",
       "      <td>...</td>\n",
       "      <td>...</td>\n",
       "      <td>...</td>\n",
       "      <td>...</td>\n",
       "      <td>...</td>\n",
       "      <td>...</td>\n",
       "      <td>...</td>\n",
       "      <td>...</td>\n",
       "      <td>...</td>\n",
       "      <td>...</td>\n",
       "      <td>...</td>\n",
       "      <td>...</td>\n",
       "    </tr>\n",
       "    <tr>\n",
       "      <th>Yugoslavia</th>\n",
       "      <td>NaN</td>\n",
       "      <td>NaN</td>\n",
       "      <td>NaN</td>\n",
       "      <td>NaN</td>\n",
       "      <td>NaN</td>\n",
       "      <td>NaN</td>\n",
       "      <td>NaN</td>\n",
       "      <td>NaN</td>\n",
       "      <td>NaN</td>\n",
       "      <td>NaN</td>\n",
       "      <td>...</td>\n",
       "      <td>23887171.0</td>\n",
       "      <td>23946096.0</td>\n",
       "      <td>23988543.0</td>\n",
       "      <td>NaN</td>\n",
       "      <td>NaN</td>\n",
       "      <td>NaN</td>\n",
       "      <td>NaN</td>\n",
       "      <td>NaN</td>\n",
       "      <td>NaN</td>\n",
       "      <td>NaN</td>\n",
       "    </tr>\n",
       "    <tr>\n",
       "      <th>Zambia</th>\n",
       "      <td>747000.0</td>\n",
       "      <td>747000.0</td>\n",
       "      <td>747000.0</td>\n",
       "      <td>747000.0</td>\n",
       "      <td>747000.0</td>\n",
       "      <td>747000.0</td>\n",
       "      <td>746052.0</td>\n",
       "      <td>745105.0</td>\n",
       "      <td>744157.0</td>\n",
       "      <td>743210.0</td>\n",
       "      <td>...</td>\n",
       "      <td>12381509.0</td>\n",
       "      <td>12738676.0</td>\n",
       "      <td>13114579.0</td>\n",
       "      <td>13507849.0</td>\n",
       "      <td>13917439.0</td>\n",
       "      <td>14343526.0</td>\n",
       "      <td>14786581.0</td>\n",
       "      <td>15246086.0</td>\n",
       "      <td>15721343.0</td>\n",
       "      <td>16211767.0</td>\n",
       "    </tr>\n",
       "    <tr>\n",
       "      <th>Zimbabwe</th>\n",
       "      <td>1085814.0</td>\n",
       "      <td>1085814.0</td>\n",
       "      <td>1106634.0</td>\n",
       "      <td>1167259.0</td>\n",
       "      <td>1253642.0</td>\n",
       "      <td>1346417.0</td>\n",
       "      <td>1444385.0</td>\n",
       "      <td>1549480.0</td>\n",
       "      <td>1661683.0</td>\n",
       "      <td>1781947.0</td>\n",
       "      <td>...</td>\n",
       "      <td>13127942.0</td>\n",
       "      <td>13297798.0</td>\n",
       "      <td>13495462.0</td>\n",
       "      <td>13720997.0</td>\n",
       "      <td>13973897.0</td>\n",
       "      <td>14255592.0</td>\n",
       "      <td>14565482.0</td>\n",
       "      <td>14898092.0</td>\n",
       "      <td>15245855.0</td>\n",
       "      <td>15602751.0</td>\n",
       "    </tr>\n",
       "    <tr>\n",
       "      <th>Åland</th>\n",
       "      <td>NaN</td>\n",
       "      <td>NaN</td>\n",
       "      <td>NaN</td>\n",
       "      <td>NaN</td>\n",
       "      <td>NaN</td>\n",
       "      <td>NaN</td>\n",
       "      <td>NaN</td>\n",
       "      <td>NaN</td>\n",
       "      <td>NaN</td>\n",
       "      <td>NaN</td>\n",
       "      <td>...</td>\n",
       "      <td>26923.0</td>\n",
       "      <td>26923.0</td>\n",
       "      <td>26923.0</td>\n",
       "      <td>26923.0</td>\n",
       "      <td>26923.0</td>\n",
       "      <td>NaN</td>\n",
       "      <td>NaN</td>\n",
       "      <td>NaN</td>\n",
       "      <td>NaN</td>\n",
       "      <td>NaN</td>\n",
       "    </tr>\n",
       "    <tr>\n",
       "      <th>South Sudan</th>\n",
       "      <td>1027378.0</td>\n",
       "      <td>1041076.0</td>\n",
       "      <td>1063732.0</td>\n",
       "      <td>1103246.0</td>\n",
       "      <td>1153401.0</td>\n",
       "      <td>1205835.0</td>\n",
       "      <td>1329906.0</td>\n",
       "      <td>1462765.0</td>\n",
       "      <td>1604755.0</td>\n",
       "      <td>1756589.0</td>\n",
       "      <td>...</td>\n",
       "      <td>8445659.0</td>\n",
       "      <td>8815495.0</td>\n",
       "      <td>9208598.0</td>\n",
       "      <td>9623176.0</td>\n",
       "      <td>10056475.0</td>\n",
       "      <td>10510122.0</td>\n",
       "      <td>10980623.0</td>\n",
       "      <td>11453810.0</td>\n",
       "      <td>11911184.0</td>\n",
       "      <td>12339812.0</td>\n",
       "    </tr>\n",
       "  </tbody>\n",
       "</table>\n",
       "<p>260 rows × 81 columns</p>\n",
       "</div>"
      ],
      "text/plain": [
       "                            1800       1810       1820       1830       1840  \\\n",
       "Total population                                                               \n",
       "Abkhazia                     NaN        NaN        NaN        NaN        NaN   \n",
       "Afghanistan            3280000.0  3280000.0  3323519.0  3448982.0  3625022.0   \n",
       "Akrotiri and Dhekelia        NaN        NaN        NaN        NaN        NaN   \n",
       "Albania                 410445.0   423591.0   438671.0   457234.0   478227.0   \n",
       "Algeria                2503218.0  2595056.0  2713079.0  2880355.0  3082721.0   \n",
       "...                          ...        ...        ...        ...        ...   \n",
       "Yugoslavia                   NaN        NaN        NaN        NaN        NaN   \n",
       "Zambia                  747000.0   747000.0   747000.0   747000.0   747000.0   \n",
       "Zimbabwe               1085814.0  1085814.0  1106634.0  1167259.0  1253642.0   \n",
       "Åland                        NaN        NaN        NaN        NaN        NaN   \n",
       "South Sudan            1027378.0  1041076.0  1063732.0  1103246.0  1153401.0   \n",
       "\n",
       "                            1850       1860       1870       1880       1890  \\\n",
       "Total population                                                               \n",
       "Abkhazia                     NaN        NaN        NaN        NaN        NaN   \n",
       "Afghanistan            3810047.0  3973968.0  4169690.0  4419695.0  4710171.0   \n",
       "Akrotiri and Dhekelia        NaN        NaN        NaN        NaN        NaN   \n",
       "Albania                 506889.0   552800.0   610036.0   672544.0   741688.0   \n",
       "Algeria                3299305.0  3536468.0  3811028.0  4143163.0  4525691.0   \n",
       "...                          ...        ...        ...        ...        ...   \n",
       "Yugoslavia                   NaN        NaN        NaN        NaN        NaN   \n",
       "Zambia                  747000.0   746052.0   745105.0   744157.0   743210.0   \n",
       "Zimbabwe               1346417.0  1444385.0  1549480.0  1661683.0  1781947.0   \n",
       "Åland                        NaN        NaN        NaN        NaN        NaN   \n",
       "South Sudan            1205835.0  1329906.0  1462765.0  1604755.0  1756589.0   \n",
       "\n",
       "                       ...        2006        2007        2008        2009  \\\n",
       "Total population       ...                                                   \n",
       "Abkhazia               ...         NaN         NaN         NaN         NaN   \n",
       "Afghanistan            ...  25183615.0  25877544.0  26528741.0  27207291.0   \n",
       "Akrotiri and Dhekelia  ...     15700.0     15700.0     15700.0         NaN   \n",
       "Albania                ...   3050741.0   3010849.0   2968026.0   2929886.0   \n",
       "Algeria                ...  33749328.0  34261971.0  34811059.0  35401790.0   \n",
       "...                    ...         ...         ...         ...         ...   \n",
       "Yugoslavia             ...  23887171.0  23946096.0  23988543.0         NaN   \n",
       "Zambia                 ...  12381509.0  12738676.0  13114579.0  13507849.0   \n",
       "Zimbabwe               ...  13127942.0  13297798.0  13495462.0  13720997.0   \n",
       "Åland                  ...     26923.0     26923.0     26923.0     26923.0   \n",
       "South Sudan            ...   8445659.0   8815495.0   9208598.0   9623176.0   \n",
       "\n",
       "                             2010        2011        2012        2013  \\\n",
       "Total population                                                        \n",
       "Abkhazia                      NaN         NaN         NaN         NaN   \n",
       "Afghanistan            27962207.0  28809167.0  29726803.0  30682500.0   \n",
       "Akrotiri and Dhekelia         NaN         NaN         NaN         NaN   \n",
       "Albania                 2901883.0   2886010.0   2880667.0   2883281.0   \n",
       "Algeria                36036159.0  36717132.0  37439427.0  38186135.0   \n",
       "...                           ...         ...         ...         ...   \n",
       "Yugoslavia                    NaN         NaN         NaN         NaN   \n",
       "Zambia                 13917439.0  14343526.0  14786581.0  15246086.0   \n",
       "Zimbabwe               13973897.0  14255592.0  14565482.0  14898092.0   \n",
       "Åland                     26923.0         NaN         NaN         NaN   \n",
       "South Sudan            10056475.0  10510122.0  10980623.0  11453810.0   \n",
       "\n",
       "                             2014        2015  \n",
       "Total population                               \n",
       "Abkhazia                      NaN         NaN  \n",
       "Afghanistan            31627506.0  32526562.0  \n",
       "Akrotiri and Dhekelia         NaN         NaN  \n",
       "Albania                 2889676.0   2896679.0  \n",
       "Algeria                38934334.0  39666519.0  \n",
       "...                           ...         ...  \n",
       "Yugoslavia                    NaN         NaN  \n",
       "Zambia                 15721343.0  16211767.0  \n",
       "Zimbabwe               15245855.0  15602751.0  \n",
       "Åland                         NaN         NaN  \n",
       "South Sudan            11911184.0  12339812.0  \n",
       "\n",
       "[260 rows x 81 columns]"
      ]
     },
     "execution_count": 95,
     "metadata": {},
     "output_type": "execute_result"
    }
   ],
   "source": [
    "pop"
   ]
  },
  {
   "cell_type": "code",
   "execution_count": 96,
   "id": "c9b6a2a3",
   "metadata": {},
   "outputs": [],
   "source": [
    "pop.index.name = \"Country\""
   ]
  },
  {
   "cell_type": "code",
   "execution_count": 97,
   "id": "29c0c2a5",
   "metadata": {},
   "outputs": [],
   "source": [
    "pop = pop.reset_index()"
   ]
  },
  {
   "cell_type": "code",
   "execution_count": 98,
   "id": "02777eb2",
   "metadata": {},
   "outputs": [
    {
     "data": {
      "text/html": [
       "<div>\n",
       "<style scoped>\n",
       "    .dataframe tbody tr th:only-of-type {\n",
       "        vertical-align: middle;\n",
       "    }\n",
       "\n",
       "    .dataframe tbody tr th {\n",
       "        vertical-align: top;\n",
       "    }\n",
       "\n",
       "    .dataframe thead th {\n",
       "        text-align: right;\n",
       "    }\n",
       "</style>\n",
       "<table border=\"1\" class=\"dataframe\">\n",
       "  <thead>\n",
       "    <tr style=\"text-align: right;\">\n",
       "      <th></th>\n",
       "      <th>Country</th>\n",
       "      <th>1800</th>\n",
       "      <th>1810</th>\n",
       "      <th>1820</th>\n",
       "      <th>1830</th>\n",
       "      <th>1840</th>\n",
       "      <th>1850</th>\n",
       "      <th>1860</th>\n",
       "      <th>1870</th>\n",
       "      <th>1880</th>\n",
       "      <th>...</th>\n",
       "      <th>2006</th>\n",
       "      <th>2007</th>\n",
       "      <th>2008</th>\n",
       "      <th>2009</th>\n",
       "      <th>2010</th>\n",
       "      <th>2011</th>\n",
       "      <th>2012</th>\n",
       "      <th>2013</th>\n",
       "      <th>2014</th>\n",
       "      <th>2015</th>\n",
       "    </tr>\n",
       "  </thead>\n",
       "  <tbody>\n",
       "    <tr>\n",
       "      <th>0</th>\n",
       "      <td>Abkhazia</td>\n",
       "      <td>NaN</td>\n",
       "      <td>NaN</td>\n",
       "      <td>NaN</td>\n",
       "      <td>NaN</td>\n",
       "      <td>NaN</td>\n",
       "      <td>NaN</td>\n",
       "      <td>NaN</td>\n",
       "      <td>NaN</td>\n",
       "      <td>NaN</td>\n",
       "      <td>...</td>\n",
       "      <td>NaN</td>\n",
       "      <td>NaN</td>\n",
       "      <td>NaN</td>\n",
       "      <td>NaN</td>\n",
       "      <td>NaN</td>\n",
       "      <td>NaN</td>\n",
       "      <td>NaN</td>\n",
       "      <td>NaN</td>\n",
       "      <td>NaN</td>\n",
       "      <td>NaN</td>\n",
       "    </tr>\n",
       "    <tr>\n",
       "      <th>1</th>\n",
       "      <td>Afghanistan</td>\n",
       "      <td>3280000.0</td>\n",
       "      <td>3280000.0</td>\n",
       "      <td>3323519.0</td>\n",
       "      <td>3448982.0</td>\n",
       "      <td>3625022.0</td>\n",
       "      <td>3810047.0</td>\n",
       "      <td>3973968.0</td>\n",
       "      <td>4169690.0</td>\n",
       "      <td>4419695.0</td>\n",
       "      <td>...</td>\n",
       "      <td>25183615.0</td>\n",
       "      <td>25877544.0</td>\n",
       "      <td>26528741.0</td>\n",
       "      <td>27207291.0</td>\n",
       "      <td>27962207.0</td>\n",
       "      <td>28809167.0</td>\n",
       "      <td>29726803.0</td>\n",
       "      <td>30682500.0</td>\n",
       "      <td>31627506.0</td>\n",
       "      <td>32526562.0</td>\n",
       "    </tr>\n",
       "    <tr>\n",
       "      <th>2</th>\n",
       "      <td>Akrotiri and Dhekelia</td>\n",
       "      <td>NaN</td>\n",
       "      <td>NaN</td>\n",
       "      <td>NaN</td>\n",
       "      <td>NaN</td>\n",
       "      <td>NaN</td>\n",
       "      <td>NaN</td>\n",
       "      <td>NaN</td>\n",
       "      <td>NaN</td>\n",
       "      <td>NaN</td>\n",
       "      <td>...</td>\n",
       "      <td>15700.0</td>\n",
       "      <td>15700.0</td>\n",
       "      <td>15700.0</td>\n",
       "      <td>NaN</td>\n",
       "      <td>NaN</td>\n",
       "      <td>NaN</td>\n",
       "      <td>NaN</td>\n",
       "      <td>NaN</td>\n",
       "      <td>NaN</td>\n",
       "      <td>NaN</td>\n",
       "    </tr>\n",
       "    <tr>\n",
       "      <th>3</th>\n",
       "      <td>Albania</td>\n",
       "      <td>410445.0</td>\n",
       "      <td>423591.0</td>\n",
       "      <td>438671.0</td>\n",
       "      <td>457234.0</td>\n",
       "      <td>478227.0</td>\n",
       "      <td>506889.0</td>\n",
       "      <td>552800.0</td>\n",
       "      <td>610036.0</td>\n",
       "      <td>672544.0</td>\n",
       "      <td>...</td>\n",
       "      <td>3050741.0</td>\n",
       "      <td>3010849.0</td>\n",
       "      <td>2968026.0</td>\n",
       "      <td>2929886.0</td>\n",
       "      <td>2901883.0</td>\n",
       "      <td>2886010.0</td>\n",
       "      <td>2880667.0</td>\n",
       "      <td>2883281.0</td>\n",
       "      <td>2889676.0</td>\n",
       "      <td>2896679.0</td>\n",
       "    </tr>\n",
       "    <tr>\n",
       "      <th>4</th>\n",
       "      <td>Algeria</td>\n",
       "      <td>2503218.0</td>\n",
       "      <td>2595056.0</td>\n",
       "      <td>2713079.0</td>\n",
       "      <td>2880355.0</td>\n",
       "      <td>3082721.0</td>\n",
       "      <td>3299305.0</td>\n",
       "      <td>3536468.0</td>\n",
       "      <td>3811028.0</td>\n",
       "      <td>4143163.0</td>\n",
       "      <td>...</td>\n",
       "      <td>33749328.0</td>\n",
       "      <td>34261971.0</td>\n",
       "      <td>34811059.0</td>\n",
       "      <td>35401790.0</td>\n",
       "      <td>36036159.0</td>\n",
       "      <td>36717132.0</td>\n",
       "      <td>37439427.0</td>\n",
       "      <td>38186135.0</td>\n",
       "      <td>38934334.0</td>\n",
       "      <td>39666519.0</td>\n",
       "    </tr>\n",
       "    <tr>\n",
       "      <th>...</th>\n",
       "      <td>...</td>\n",
       "      <td>...</td>\n",
       "      <td>...</td>\n",
       "      <td>...</td>\n",
       "      <td>...</td>\n",
       "      <td>...</td>\n",
       "      <td>...</td>\n",
       "      <td>...</td>\n",
       "      <td>...</td>\n",
       "      <td>...</td>\n",
       "      <td>...</td>\n",
       "      <td>...</td>\n",
       "      <td>...</td>\n",
       "      <td>...</td>\n",
       "      <td>...</td>\n",
       "      <td>...</td>\n",
       "      <td>...</td>\n",
       "      <td>...</td>\n",
       "      <td>...</td>\n",
       "      <td>...</td>\n",
       "      <td>...</td>\n",
       "    </tr>\n",
       "    <tr>\n",
       "      <th>255</th>\n",
       "      <td>Yugoslavia</td>\n",
       "      <td>NaN</td>\n",
       "      <td>NaN</td>\n",
       "      <td>NaN</td>\n",
       "      <td>NaN</td>\n",
       "      <td>NaN</td>\n",
       "      <td>NaN</td>\n",
       "      <td>NaN</td>\n",
       "      <td>NaN</td>\n",
       "      <td>NaN</td>\n",
       "      <td>...</td>\n",
       "      <td>23887171.0</td>\n",
       "      <td>23946096.0</td>\n",
       "      <td>23988543.0</td>\n",
       "      <td>NaN</td>\n",
       "      <td>NaN</td>\n",
       "      <td>NaN</td>\n",
       "      <td>NaN</td>\n",
       "      <td>NaN</td>\n",
       "      <td>NaN</td>\n",
       "      <td>NaN</td>\n",
       "    </tr>\n",
       "    <tr>\n",
       "      <th>256</th>\n",
       "      <td>Zambia</td>\n",
       "      <td>747000.0</td>\n",
       "      <td>747000.0</td>\n",
       "      <td>747000.0</td>\n",
       "      <td>747000.0</td>\n",
       "      <td>747000.0</td>\n",
       "      <td>747000.0</td>\n",
       "      <td>746052.0</td>\n",
       "      <td>745105.0</td>\n",
       "      <td>744157.0</td>\n",
       "      <td>...</td>\n",
       "      <td>12381509.0</td>\n",
       "      <td>12738676.0</td>\n",
       "      <td>13114579.0</td>\n",
       "      <td>13507849.0</td>\n",
       "      <td>13917439.0</td>\n",
       "      <td>14343526.0</td>\n",
       "      <td>14786581.0</td>\n",
       "      <td>15246086.0</td>\n",
       "      <td>15721343.0</td>\n",
       "      <td>16211767.0</td>\n",
       "    </tr>\n",
       "    <tr>\n",
       "      <th>257</th>\n",
       "      <td>Zimbabwe</td>\n",
       "      <td>1085814.0</td>\n",
       "      <td>1085814.0</td>\n",
       "      <td>1106634.0</td>\n",
       "      <td>1167259.0</td>\n",
       "      <td>1253642.0</td>\n",
       "      <td>1346417.0</td>\n",
       "      <td>1444385.0</td>\n",
       "      <td>1549480.0</td>\n",
       "      <td>1661683.0</td>\n",
       "      <td>...</td>\n",
       "      <td>13127942.0</td>\n",
       "      <td>13297798.0</td>\n",
       "      <td>13495462.0</td>\n",
       "      <td>13720997.0</td>\n",
       "      <td>13973897.0</td>\n",
       "      <td>14255592.0</td>\n",
       "      <td>14565482.0</td>\n",
       "      <td>14898092.0</td>\n",
       "      <td>15245855.0</td>\n",
       "      <td>15602751.0</td>\n",
       "    </tr>\n",
       "    <tr>\n",
       "      <th>258</th>\n",
       "      <td>Åland</td>\n",
       "      <td>NaN</td>\n",
       "      <td>NaN</td>\n",
       "      <td>NaN</td>\n",
       "      <td>NaN</td>\n",
       "      <td>NaN</td>\n",
       "      <td>NaN</td>\n",
       "      <td>NaN</td>\n",
       "      <td>NaN</td>\n",
       "      <td>NaN</td>\n",
       "      <td>...</td>\n",
       "      <td>26923.0</td>\n",
       "      <td>26923.0</td>\n",
       "      <td>26923.0</td>\n",
       "      <td>26923.0</td>\n",
       "      <td>26923.0</td>\n",
       "      <td>NaN</td>\n",
       "      <td>NaN</td>\n",
       "      <td>NaN</td>\n",
       "      <td>NaN</td>\n",
       "      <td>NaN</td>\n",
       "    </tr>\n",
       "    <tr>\n",
       "      <th>259</th>\n",
       "      <td>South Sudan</td>\n",
       "      <td>1027378.0</td>\n",
       "      <td>1041076.0</td>\n",
       "      <td>1063732.0</td>\n",
       "      <td>1103246.0</td>\n",
       "      <td>1153401.0</td>\n",
       "      <td>1205835.0</td>\n",
       "      <td>1329906.0</td>\n",
       "      <td>1462765.0</td>\n",
       "      <td>1604755.0</td>\n",
       "      <td>...</td>\n",
       "      <td>8445659.0</td>\n",
       "      <td>8815495.0</td>\n",
       "      <td>9208598.0</td>\n",
       "      <td>9623176.0</td>\n",
       "      <td>10056475.0</td>\n",
       "      <td>10510122.0</td>\n",
       "      <td>10980623.0</td>\n",
       "      <td>11453810.0</td>\n",
       "      <td>11911184.0</td>\n",
       "      <td>12339812.0</td>\n",
       "    </tr>\n",
       "  </tbody>\n",
       "</table>\n",
       "<p>260 rows × 82 columns</p>\n",
       "</div>"
      ],
      "text/plain": [
       "                   Country       1800       1810       1820       1830  \\\n",
       "0                 Abkhazia        NaN        NaN        NaN        NaN   \n",
       "1              Afghanistan  3280000.0  3280000.0  3323519.0  3448982.0   \n",
       "2    Akrotiri and Dhekelia        NaN        NaN        NaN        NaN   \n",
       "3                  Albania   410445.0   423591.0   438671.0   457234.0   \n",
       "4                  Algeria  2503218.0  2595056.0  2713079.0  2880355.0   \n",
       "..                     ...        ...        ...        ...        ...   \n",
       "255             Yugoslavia        NaN        NaN        NaN        NaN   \n",
       "256                 Zambia   747000.0   747000.0   747000.0   747000.0   \n",
       "257               Zimbabwe  1085814.0  1085814.0  1106634.0  1167259.0   \n",
       "258                  Åland        NaN        NaN        NaN        NaN   \n",
       "259            South Sudan  1027378.0  1041076.0  1063732.0  1103246.0   \n",
       "\n",
       "          1840       1850       1860       1870       1880  ...        2006  \\\n",
       "0          NaN        NaN        NaN        NaN        NaN  ...         NaN   \n",
       "1    3625022.0  3810047.0  3973968.0  4169690.0  4419695.0  ...  25183615.0   \n",
       "2          NaN        NaN        NaN        NaN        NaN  ...     15700.0   \n",
       "3     478227.0   506889.0   552800.0   610036.0   672544.0  ...   3050741.0   \n",
       "4    3082721.0  3299305.0  3536468.0  3811028.0  4143163.0  ...  33749328.0   \n",
       "..         ...        ...        ...        ...        ...  ...         ...   \n",
       "255        NaN        NaN        NaN        NaN        NaN  ...  23887171.0   \n",
       "256   747000.0   747000.0   746052.0   745105.0   744157.0  ...  12381509.0   \n",
       "257  1253642.0  1346417.0  1444385.0  1549480.0  1661683.0  ...  13127942.0   \n",
       "258        NaN        NaN        NaN        NaN        NaN  ...     26923.0   \n",
       "259  1153401.0  1205835.0  1329906.0  1462765.0  1604755.0  ...   8445659.0   \n",
       "\n",
       "           2007        2008        2009        2010        2011        2012  \\\n",
       "0           NaN         NaN         NaN         NaN         NaN         NaN   \n",
       "1    25877544.0  26528741.0  27207291.0  27962207.0  28809167.0  29726803.0   \n",
       "2       15700.0     15700.0         NaN         NaN         NaN         NaN   \n",
       "3     3010849.0   2968026.0   2929886.0   2901883.0   2886010.0   2880667.0   \n",
       "4    34261971.0  34811059.0  35401790.0  36036159.0  36717132.0  37439427.0   \n",
       "..          ...         ...         ...         ...         ...         ...   \n",
       "255  23946096.0  23988543.0         NaN         NaN         NaN         NaN   \n",
       "256  12738676.0  13114579.0  13507849.0  13917439.0  14343526.0  14786581.0   \n",
       "257  13297798.0  13495462.0  13720997.0  13973897.0  14255592.0  14565482.0   \n",
       "258     26923.0     26923.0     26923.0     26923.0         NaN         NaN   \n",
       "259   8815495.0   9208598.0   9623176.0  10056475.0  10510122.0  10980623.0   \n",
       "\n",
       "           2013        2014        2015  \n",
       "0           NaN         NaN         NaN  \n",
       "1    30682500.0  31627506.0  32526562.0  \n",
       "2           NaN         NaN         NaN  \n",
       "3     2883281.0   2889676.0   2896679.0  \n",
       "4    38186135.0  38934334.0  39666519.0  \n",
       "..          ...         ...         ...  \n",
       "255         NaN         NaN         NaN  \n",
       "256  15246086.0  15721343.0  16211767.0  \n",
       "257  14898092.0  15245855.0  15602751.0  \n",
       "258         NaN         NaN         NaN  \n",
       "259  11453810.0  11911184.0  12339812.0  \n",
       "\n",
       "[260 rows x 82 columns]"
      ]
     },
     "execution_count": 98,
     "metadata": {},
     "output_type": "execute_result"
    }
   ],
   "source": [
    "pop"
   ]
  },
  {
   "cell_type": "code",
   "execution_count": 99,
   "id": "7949f46c",
   "metadata": {},
   "outputs": [],
   "source": [
    "pop = pop.melt(id_vars = \"Country\", var_name = \"year\", value_name = \"Total population\")"
   ]
  },
  {
   "cell_type": "code",
   "execution_count": 100,
   "id": "c7e4991f",
   "metadata": {},
   "outputs": [
    {
     "data": {
      "text/html": [
       "<div>\n",
       "<style scoped>\n",
       "    .dataframe tbody tr th:only-of-type {\n",
       "        vertical-align: middle;\n",
       "    }\n",
       "\n",
       "    .dataframe tbody tr th {\n",
       "        vertical-align: top;\n",
       "    }\n",
       "\n",
       "    .dataframe thead th {\n",
       "        text-align: right;\n",
       "    }\n",
       "</style>\n",
       "<table border=\"1\" class=\"dataframe\">\n",
       "  <thead>\n",
       "    <tr style=\"text-align: right;\">\n",
       "      <th></th>\n",
       "      <th>Country</th>\n",
       "      <th>year</th>\n",
       "      <th>Total population</th>\n",
       "    </tr>\n",
       "  </thead>\n",
       "  <tbody>\n",
       "    <tr>\n",
       "      <th>0</th>\n",
       "      <td>Abkhazia</td>\n",
       "      <td>1800</td>\n",
       "      <td>NaN</td>\n",
       "    </tr>\n",
       "    <tr>\n",
       "      <th>1</th>\n",
       "      <td>Afghanistan</td>\n",
       "      <td>1800</td>\n",
       "      <td>3280000.0</td>\n",
       "    </tr>\n",
       "    <tr>\n",
       "      <th>2</th>\n",
       "      <td>Akrotiri and Dhekelia</td>\n",
       "      <td>1800</td>\n",
       "      <td>NaN</td>\n",
       "    </tr>\n",
       "    <tr>\n",
       "      <th>3</th>\n",
       "      <td>Albania</td>\n",
       "      <td>1800</td>\n",
       "      <td>410445.0</td>\n",
       "    </tr>\n",
       "    <tr>\n",
       "      <th>4</th>\n",
       "      <td>Algeria</td>\n",
       "      <td>1800</td>\n",
       "      <td>2503218.0</td>\n",
       "    </tr>\n",
       "    <tr>\n",
       "      <th>...</th>\n",
       "      <td>...</td>\n",
       "      <td>...</td>\n",
       "      <td>...</td>\n",
       "    </tr>\n",
       "    <tr>\n",
       "      <th>21055</th>\n",
       "      <td>Yugoslavia</td>\n",
       "      <td>2015</td>\n",
       "      <td>NaN</td>\n",
       "    </tr>\n",
       "    <tr>\n",
       "      <th>21056</th>\n",
       "      <td>Zambia</td>\n",
       "      <td>2015</td>\n",
       "      <td>16211767.0</td>\n",
       "    </tr>\n",
       "    <tr>\n",
       "      <th>21057</th>\n",
       "      <td>Zimbabwe</td>\n",
       "      <td>2015</td>\n",
       "      <td>15602751.0</td>\n",
       "    </tr>\n",
       "    <tr>\n",
       "      <th>21058</th>\n",
       "      <td>Åland</td>\n",
       "      <td>2015</td>\n",
       "      <td>NaN</td>\n",
       "    </tr>\n",
       "    <tr>\n",
       "      <th>21059</th>\n",
       "      <td>South Sudan</td>\n",
       "      <td>2015</td>\n",
       "      <td>12339812.0</td>\n",
       "    </tr>\n",
       "  </tbody>\n",
       "</table>\n",
       "<p>21060 rows × 3 columns</p>\n",
       "</div>"
      ],
      "text/plain": [
       "                     Country  year  Total population\n",
       "0                   Abkhazia  1800               NaN\n",
       "1                Afghanistan  1800         3280000.0\n",
       "2      Akrotiri and Dhekelia  1800               NaN\n",
       "3                    Albania  1800          410445.0\n",
       "4                    Algeria  1800         2503218.0\n",
       "...                      ...   ...               ...\n",
       "21055             Yugoslavia  2015               NaN\n",
       "21056                 Zambia  2015        16211767.0\n",
       "21057               Zimbabwe  2015        15602751.0\n",
       "21058                  Åland  2015               NaN\n",
       "21059            South Sudan  2015        12339812.0\n",
       "\n",
       "[21060 rows x 3 columns]"
      ]
     },
     "execution_count": 100,
     "metadata": {},
     "output_type": "execute_result"
    }
   ],
   "source": [
    "pop\n"
   ]
  },
  {
   "cell_type": "markdown",
   "id": "ac5e1cbf",
   "metadata": {},
   "source": [
    "# Merging the tables"
   ]
  },
  {
   "cell_type": "markdown",
   "id": "9812669a",
   "metadata": {},
   "source": [
    "Now we can start gluing the DataFrames together. This works great with the merge function."
   ]
  },
  {
   "cell_type": "code",
   "execution_count": 101,
   "id": "5400dc53",
   "metadata": {},
   "outputs": [],
   "source": [
    "fert_pop = fert.merge(pop)"
   ]
  },
  {
   "cell_type": "code",
   "execution_count": 102,
   "id": "cb83b579",
   "metadata": {},
   "outputs": [
    {
     "data": {
      "text/html": [
       "<div>\n",
       "<style scoped>\n",
       "    .dataframe tbody tr th:only-of-type {\n",
       "        vertical-align: middle;\n",
       "    }\n",
       "\n",
       "    .dataframe tbody tr th {\n",
       "        vertical-align: top;\n",
       "    }\n",
       "\n",
       "    .dataframe thead th {\n",
       "        text-align: right;\n",
       "    }\n",
       "</style>\n",
       "<table border=\"1\" class=\"dataframe\">\n",
       "  <thead>\n",
       "    <tr style=\"text-align: right;\">\n",
       "      <th></th>\n",
       "      <th>Country</th>\n",
       "      <th>year</th>\n",
       "      <th>fertility_rate</th>\n",
       "      <th>Total population</th>\n",
       "    </tr>\n",
       "  </thead>\n",
       "  <tbody>\n",
       "    <tr>\n",
       "      <th>0</th>\n",
       "      <td>Abkhazia</td>\n",
       "      <td>1800</td>\n",
       "      <td>NaN</td>\n",
       "      <td>NaN</td>\n",
       "    </tr>\n",
       "    <tr>\n",
       "      <th>1</th>\n",
       "      <td>Afghanistan</td>\n",
       "      <td>1800</td>\n",
       "      <td>7.00</td>\n",
       "      <td>3280000.0</td>\n",
       "    </tr>\n",
       "    <tr>\n",
       "      <th>2</th>\n",
       "      <td>Akrotiri and Dhekelia</td>\n",
       "      <td>1800</td>\n",
       "      <td>NaN</td>\n",
       "      <td>NaN</td>\n",
       "    </tr>\n",
       "    <tr>\n",
       "      <th>3</th>\n",
       "      <td>Albania</td>\n",
       "      <td>1800</td>\n",
       "      <td>4.60</td>\n",
       "      <td>410445.0</td>\n",
       "    </tr>\n",
       "    <tr>\n",
       "      <th>4</th>\n",
       "      <td>Algeria</td>\n",
       "      <td>1800</td>\n",
       "      <td>6.99</td>\n",
       "      <td>2503218.0</td>\n",
       "    </tr>\n",
       "    <tr>\n",
       "      <th>...</th>\n",
       "      <td>...</td>\n",
       "      <td>...</td>\n",
       "      <td>...</td>\n",
       "      <td>...</td>\n",
       "    </tr>\n",
       "    <tr>\n",
       "      <th>20974</th>\n",
       "      <td>Yugoslavia</td>\n",
       "      <td>2015</td>\n",
       "      <td>NaN</td>\n",
       "      <td>NaN</td>\n",
       "    </tr>\n",
       "    <tr>\n",
       "      <th>20975</th>\n",
       "      <td>Zambia</td>\n",
       "      <td>2015</td>\n",
       "      <td>5.59</td>\n",
       "      <td>16211767.0</td>\n",
       "    </tr>\n",
       "    <tr>\n",
       "      <th>20976</th>\n",
       "      <td>Zimbabwe</td>\n",
       "      <td>2015</td>\n",
       "      <td>3.35</td>\n",
       "      <td>15602751.0</td>\n",
       "    </tr>\n",
       "    <tr>\n",
       "      <th>20977</th>\n",
       "      <td>Åland</td>\n",
       "      <td>2015</td>\n",
       "      <td>NaN</td>\n",
       "      <td>NaN</td>\n",
       "    </tr>\n",
       "    <tr>\n",
       "      <th>20978</th>\n",
       "      <td>Åland</td>\n",
       "      <td>2015</td>\n",
       "      <td>NaN</td>\n",
       "      <td>NaN</td>\n",
       "    </tr>\n",
       "  </tbody>\n",
       "</table>\n",
       "<p>20979 rows × 4 columns</p>\n",
       "</div>"
      ],
      "text/plain": [
       "                     Country  year  fertility_rate  Total population\n",
       "0                   Abkhazia  1800             NaN               NaN\n",
       "1                Afghanistan  1800            7.00         3280000.0\n",
       "2      Akrotiri and Dhekelia  1800             NaN               NaN\n",
       "3                    Albania  1800            4.60          410445.0\n",
       "4                    Algeria  1800            6.99         2503218.0\n",
       "...                      ...   ...             ...               ...\n",
       "20974             Yugoslavia  2015             NaN               NaN\n",
       "20975                 Zambia  2015            5.59        16211767.0\n",
       "20976               Zimbabwe  2015            3.35        15602751.0\n",
       "20977                  Åland  2015             NaN               NaN\n",
       "20978                  Åland  2015             NaN               NaN\n",
       "\n",
       "[20979 rows x 4 columns]"
      ]
     },
     "execution_count": 102,
     "metadata": {},
     "output_type": "execute_result"
    }
   ],
   "source": [
    "fert_pop"
   ]
  },
  {
   "cell_type": "markdown",
   "id": "0698bdee",
   "metadata": {},
   "source": [
    "Do a second merge (with the life expectancy data) so that in the end you have all the data in a single DataFrame."
   ]
  },
  {
   "cell_type": "code",
   "execution_count": 103,
   "id": "9fdd92be",
   "metadata": {
    "scrolled": true
   },
   "outputs": [
    {
     "data": {
      "text/html": [
       "<div>\n",
       "<style scoped>\n",
       "    .dataframe tbody tr th:only-of-type {\n",
       "        vertical-align: middle;\n",
       "    }\n",
       "\n",
       "    .dataframe tbody tr th {\n",
       "        vertical-align: top;\n",
       "    }\n",
       "\n",
       "    .dataframe thead th {\n",
       "        text-align: right;\n",
       "    }\n",
       "</style>\n",
       "<table border=\"1\" class=\"dataframe\">\n",
       "  <thead>\n",
       "    <tr style=\"text-align: right;\">\n",
       "      <th></th>\n",
       "      <th>Country</th>\n",
       "      <th>year</th>\n",
       "      <th>life_expectancy</th>\n",
       "    </tr>\n",
       "  </thead>\n",
       "  <tbody>\n",
       "    <tr>\n",
       "      <th>0</th>\n",
       "      <td>Abkhazia</td>\n",
       "      <td>1800</td>\n",
       "      <td>NaN</td>\n",
       "    </tr>\n",
       "    <tr>\n",
       "      <th>1</th>\n",
       "      <td>Afghanistan</td>\n",
       "      <td>1800</td>\n",
       "      <td>28.21</td>\n",
       "    </tr>\n",
       "    <tr>\n",
       "      <th>2</th>\n",
       "      <td>Akrotiri and Dhekelia</td>\n",
       "      <td>1800</td>\n",
       "      <td>NaN</td>\n",
       "    </tr>\n",
       "    <tr>\n",
       "      <th>3</th>\n",
       "      <td>Albania</td>\n",
       "      <td>1800</td>\n",
       "      <td>35.40</td>\n",
       "    </tr>\n",
       "    <tr>\n",
       "      <th>4</th>\n",
       "      <td>Algeria</td>\n",
       "      <td>1800</td>\n",
       "      <td>28.82</td>\n",
       "    </tr>\n",
       "    <tr>\n",
       "      <th>...</th>\n",
       "      <td>...</td>\n",
       "      <td>...</td>\n",
       "      <td>...</td>\n",
       "    </tr>\n",
       "    <tr>\n",
       "      <th>56415</th>\n",
       "      <td>Yugoslavia</td>\n",
       "      <td>2016</td>\n",
       "      <td>NaN</td>\n",
       "    </tr>\n",
       "    <tr>\n",
       "      <th>56416</th>\n",
       "      <td>Zambia</td>\n",
       "      <td>2016</td>\n",
       "      <td>57.10</td>\n",
       "    </tr>\n",
       "    <tr>\n",
       "      <th>56417</th>\n",
       "      <td>Zimbabwe</td>\n",
       "      <td>2016</td>\n",
       "      <td>61.69</td>\n",
       "    </tr>\n",
       "    <tr>\n",
       "      <th>56418</th>\n",
       "      <td>Åland</td>\n",
       "      <td>2016</td>\n",
       "      <td>NaN</td>\n",
       "    </tr>\n",
       "    <tr>\n",
       "      <th>56419</th>\n",
       "      <td>South Sudan</td>\n",
       "      <td>2016</td>\n",
       "      <td>56.10</td>\n",
       "    </tr>\n",
       "  </tbody>\n",
       "</table>\n",
       "<p>56420 rows × 3 columns</p>\n",
       "</div>"
      ],
      "text/plain": [
       "                     Country  year  life_expectancy\n",
       "0                   Abkhazia  1800              NaN\n",
       "1                Afghanistan  1800            28.21\n",
       "2      Akrotiri and Dhekelia  1800              NaN\n",
       "3                    Albania  1800            35.40\n",
       "4                    Algeria  1800            28.82\n",
       "...                      ...   ...              ...\n",
       "56415             Yugoslavia  2016              NaN\n",
       "56416                 Zambia  2016            57.10\n",
       "56417               Zimbabwe  2016            61.69\n",
       "56418                  Åland  2016              NaN\n",
       "56419            South Sudan  2016            56.10\n",
       "\n",
       "[56420 rows x 3 columns]"
      ]
     },
     "execution_count": 103,
     "metadata": {},
     "output_type": "execute_result"
    }
   ],
   "source": [
    "life"
   ]
  },
  {
   "cell_type": "code",
   "execution_count": 104,
   "id": "8950a1a1",
   "metadata": {},
   "outputs": [],
   "source": [
    "fert_pop_life = fert_pop.merge(life)"
   ]
  },
  {
   "cell_type": "markdown",
   "id": "5e4e711d",
   "metadata": {},
   "source": [
    "(Alternatively uncomment and try the following code.)"
   ]
  },
  {
   "cell_type": "code",
   "execution_count": 105,
   "id": "fa23df6f",
   "metadata": {},
   "outputs": [],
   "source": [
    "#fert_pop_life = pd.merge(life, fert_pop, how= \"inner\", on = [\"country\", \"year\"])"
   ]
  },
  {
   "cell_type": "code",
   "execution_count": 106,
   "id": "1bead3bf",
   "metadata": {},
   "outputs": [
    {
     "data": {
      "text/html": [
       "<div>\n",
       "<style scoped>\n",
       "    .dataframe tbody tr th:only-of-type {\n",
       "        vertical-align: middle;\n",
       "    }\n",
       "\n",
       "    .dataframe tbody tr th {\n",
       "        vertical-align: top;\n",
       "    }\n",
       "\n",
       "    .dataframe thead th {\n",
       "        text-align: right;\n",
       "    }\n",
       "</style>\n",
       "<table border=\"1\" class=\"dataframe\">\n",
       "  <thead>\n",
       "    <tr style=\"text-align: right;\">\n",
       "      <th></th>\n",
       "      <th>Country</th>\n",
       "      <th>year</th>\n",
       "      <th>fertility_rate</th>\n",
       "      <th>Total population</th>\n",
       "      <th>life_expectancy</th>\n",
       "    </tr>\n",
       "  </thead>\n",
       "  <tbody>\n",
       "    <tr>\n",
       "      <th>0</th>\n",
       "      <td>Abkhazia</td>\n",
       "      <td>1800</td>\n",
       "      <td>NaN</td>\n",
       "      <td>NaN</td>\n",
       "      <td>NaN</td>\n",
       "    </tr>\n",
       "    <tr>\n",
       "      <th>1</th>\n",
       "      <td>Afghanistan</td>\n",
       "      <td>1800</td>\n",
       "      <td>7.00</td>\n",
       "      <td>3280000.0</td>\n",
       "      <td>28.21</td>\n",
       "    </tr>\n",
       "    <tr>\n",
       "      <th>2</th>\n",
       "      <td>Akrotiri and Dhekelia</td>\n",
       "      <td>1800</td>\n",
       "      <td>NaN</td>\n",
       "      <td>NaN</td>\n",
       "      <td>NaN</td>\n",
       "    </tr>\n",
       "    <tr>\n",
       "      <th>3</th>\n",
       "      <td>Albania</td>\n",
       "      <td>1800</td>\n",
       "      <td>4.60</td>\n",
       "      <td>410445.0</td>\n",
       "      <td>35.40</td>\n",
       "    </tr>\n",
       "    <tr>\n",
       "      <th>4</th>\n",
       "      <td>Algeria</td>\n",
       "      <td>1800</td>\n",
       "      <td>6.99</td>\n",
       "      <td>2503218.0</td>\n",
       "      <td>28.82</td>\n",
       "    </tr>\n",
       "    <tr>\n",
       "      <th>...</th>\n",
       "      <td>...</td>\n",
       "      <td>...</td>\n",
       "      <td>...</td>\n",
       "      <td>...</td>\n",
       "      <td>...</td>\n",
       "    </tr>\n",
       "    <tr>\n",
       "      <th>20974</th>\n",
       "      <td>Yugoslavia</td>\n",
       "      <td>2015</td>\n",
       "      <td>NaN</td>\n",
       "      <td>NaN</td>\n",
       "      <td>NaN</td>\n",
       "    </tr>\n",
       "    <tr>\n",
       "      <th>20975</th>\n",
       "      <td>Zambia</td>\n",
       "      <td>2015</td>\n",
       "      <td>5.59</td>\n",
       "      <td>16211767.0</td>\n",
       "      <td>56.70</td>\n",
       "    </tr>\n",
       "    <tr>\n",
       "      <th>20976</th>\n",
       "      <td>Zimbabwe</td>\n",
       "      <td>2015</td>\n",
       "      <td>3.35</td>\n",
       "      <td>15602751.0</td>\n",
       "      <td>59.30</td>\n",
       "    </tr>\n",
       "    <tr>\n",
       "      <th>20977</th>\n",
       "      <td>Åland</td>\n",
       "      <td>2015</td>\n",
       "      <td>NaN</td>\n",
       "      <td>NaN</td>\n",
       "      <td>NaN</td>\n",
       "    </tr>\n",
       "    <tr>\n",
       "      <th>20978</th>\n",
       "      <td>Åland</td>\n",
       "      <td>2015</td>\n",
       "      <td>NaN</td>\n",
       "      <td>NaN</td>\n",
       "      <td>NaN</td>\n",
       "    </tr>\n",
       "  </tbody>\n",
       "</table>\n",
       "<p>20979 rows × 5 columns</p>\n",
       "</div>"
      ],
      "text/plain": [
       "                     Country  year  fertility_rate  Total population  \\\n",
       "0                   Abkhazia  1800             NaN               NaN   \n",
       "1                Afghanistan  1800            7.00         3280000.0   \n",
       "2      Akrotiri and Dhekelia  1800             NaN               NaN   \n",
       "3                    Albania  1800            4.60          410445.0   \n",
       "4                    Algeria  1800            6.99         2503218.0   \n",
       "...                      ...   ...             ...               ...   \n",
       "20974             Yugoslavia  2015             NaN               NaN   \n",
       "20975                 Zambia  2015            5.59        16211767.0   \n",
       "20976               Zimbabwe  2015            3.35        15602751.0   \n",
       "20977                  Åland  2015             NaN               NaN   \n",
       "20978                  Åland  2015             NaN               NaN   \n",
       "\n",
       "       life_expectancy  \n",
       "0                  NaN  \n",
       "1                28.21  \n",
       "2                  NaN  \n",
       "3                35.40  \n",
       "4                28.82  \n",
       "...                ...  \n",
       "20974              NaN  \n",
       "20975            56.70  \n",
       "20976            59.30  \n",
       "20977              NaN  \n",
       "20978              NaN  \n",
       "\n",
       "[20979 rows x 5 columns]"
      ]
     },
     "execution_count": 106,
     "metadata": {},
     "output_type": "execute_result"
    }
   ],
   "source": [
    "fert_pop_life"
   ]
  },
  {
   "cell_type": "markdown",
   "id": "0ef37112",
   "metadata": {},
   "source": [
    "# Merge the continents table with the final DataFrame"
   ]
  },
  {
   "cell_type": "markdown",
   "id": "d7ae47a7",
   "metadata": {},
   "source": [
    "Load the continents.csv file."
   ]
  },
  {
   "cell_type": "code",
   "execution_count": 107,
   "id": "96eac00f",
   "metadata": {},
   "outputs": [],
   "source": [
    "continents = pd.read_csv(\"data/continents.csv\", sep = \";\")"
   ]
  },
  {
   "cell_type": "code",
   "execution_count": 108,
   "id": "052fb984",
   "metadata": {},
   "outputs": [
    {
     "name": "stdout",
     "output_type": "stream",
     "text": [
      "  continent   country\n",
      "0    Africa   Algeria\n",
      "1    Africa    Angola\n",
      "2    Africa     Benin\n",
      "3    Africa  Botswana\n",
      "4    Africa   Burkina\n"
     ]
    }
   ],
   "source": [
    "print(continents.head())"
   ]
  },
  {
   "cell_type": "code",
   "execution_count": 109,
   "id": "49b9fee7",
   "metadata": {},
   "outputs": [
    {
     "data": {
      "text/plain": [
       "(194, 2)"
      ]
     },
     "execution_count": 109,
     "metadata": {},
     "output_type": "execute_result"
    }
   ],
   "source": [
    "continents.shape"
   ]
  },
  {
   "cell_type": "markdown",
   "id": "d75fad78",
   "metadata": {},
   "source": [
    "Rename continents' columns."
   ]
  },
  {
   "cell_type": "code",
   "execution_count": 110,
   "id": "a80bf807",
   "metadata": {},
   "outputs": [],
   "source": [
    "continents.rename(columns = {\"continent\": \"Continent\", \"country\": \"Country\"}, inplace = True)"
   ]
  },
  {
   "cell_type": "code",
   "execution_count": 111,
   "id": "ddedf962",
   "metadata": {},
   "outputs": [
    {
     "data": {
      "text/html": [
       "<div>\n",
       "<style scoped>\n",
       "    .dataframe tbody tr th:only-of-type {\n",
       "        vertical-align: middle;\n",
       "    }\n",
       "\n",
       "    .dataframe tbody tr th {\n",
       "        vertical-align: top;\n",
       "    }\n",
       "\n",
       "    .dataframe thead th {\n",
       "        text-align: right;\n",
       "    }\n",
       "</style>\n",
       "<table border=\"1\" class=\"dataframe\">\n",
       "  <thead>\n",
       "    <tr style=\"text-align: right;\">\n",
       "      <th></th>\n",
       "      <th>Continent</th>\n",
       "      <th>Country</th>\n",
       "    </tr>\n",
       "  </thead>\n",
       "  <tbody>\n",
       "    <tr>\n",
       "      <th>0</th>\n",
       "      <td>Africa</td>\n",
       "      <td>Algeria</td>\n",
       "    </tr>\n",
       "    <tr>\n",
       "      <th>1</th>\n",
       "      <td>Africa</td>\n",
       "      <td>Angola</td>\n",
       "    </tr>\n",
       "    <tr>\n",
       "      <th>2</th>\n",
       "      <td>Africa</td>\n",
       "      <td>Benin</td>\n",
       "    </tr>\n",
       "    <tr>\n",
       "      <th>3</th>\n",
       "      <td>Africa</td>\n",
       "      <td>Botswana</td>\n",
       "    </tr>\n",
       "    <tr>\n",
       "      <th>4</th>\n",
       "      <td>Africa</td>\n",
       "      <td>Burkina</td>\n",
       "    </tr>\n",
       "    <tr>\n",
       "      <th>...</th>\n",
       "      <td>...</td>\n",
       "      <td>...</td>\n",
       "    </tr>\n",
       "    <tr>\n",
       "      <th>189</th>\n",
       "      <td>South America</td>\n",
       "      <td>Paraguay</td>\n",
       "    </tr>\n",
       "    <tr>\n",
       "      <th>190</th>\n",
       "      <td>South America</td>\n",
       "      <td>Peru</td>\n",
       "    </tr>\n",
       "    <tr>\n",
       "      <th>191</th>\n",
       "      <td>South America</td>\n",
       "      <td>Suriname</td>\n",
       "    </tr>\n",
       "    <tr>\n",
       "      <th>192</th>\n",
       "      <td>South America</td>\n",
       "      <td>Uruguay</td>\n",
       "    </tr>\n",
       "    <tr>\n",
       "      <th>193</th>\n",
       "      <td>South America</td>\n",
       "      <td>Venezuela</td>\n",
       "    </tr>\n",
       "  </tbody>\n",
       "</table>\n",
       "<p>194 rows × 2 columns</p>\n",
       "</div>"
      ],
      "text/plain": [
       "         Continent    Country\n",
       "0           Africa    Algeria\n",
       "1           Africa     Angola\n",
       "2           Africa      Benin\n",
       "3           Africa   Botswana\n",
       "4           Africa    Burkina\n",
       "..             ...        ...\n",
       "189  South America   Paraguay\n",
       "190  South America       Peru\n",
       "191  South America   Suriname\n",
       "192  South America    Uruguay\n",
       "193  South America  Venezuela\n",
       "\n",
       "[194 rows x 2 columns]"
      ]
     },
     "execution_count": 111,
     "metadata": {},
     "output_type": "execute_result"
    }
   ],
   "source": [
    "continents"
   ]
  },
  {
   "cell_type": "markdown",
   "id": "9680dd59",
   "metadata": {},
   "source": [
    "Merge continents with the fert_pop_life table."
   ]
  },
  {
   "cell_type": "code",
   "execution_count": 112,
   "id": "ce2e7019",
   "metadata": {},
   "outputs": [],
   "source": [
    "fert_pop_life_cont = pd.merge(continents, fert_pop_life, how = \"left\", on = \"Country\")"
   ]
  },
  {
   "cell_type": "code",
   "execution_count": 113,
   "id": "5433e86e",
   "metadata": {},
   "outputs": [
    {
     "data": {
      "text/html": [
       "<div>\n",
       "<style scoped>\n",
       "    .dataframe tbody tr th:only-of-type {\n",
       "        vertical-align: middle;\n",
       "    }\n",
       "\n",
       "    .dataframe tbody tr th {\n",
       "        vertical-align: top;\n",
       "    }\n",
       "\n",
       "    .dataframe thead th {\n",
       "        text-align: right;\n",
       "    }\n",
       "</style>\n",
       "<table border=\"1\" class=\"dataframe\">\n",
       "  <thead>\n",
       "    <tr style=\"text-align: right;\">\n",
       "      <th></th>\n",
       "      <th>Continent</th>\n",
       "      <th>Country</th>\n",
       "      <th>year</th>\n",
       "      <th>fertility_rate</th>\n",
       "      <th>Total population</th>\n",
       "      <th>life_expectancy</th>\n",
       "    </tr>\n",
       "  </thead>\n",
       "  <tbody>\n",
       "    <tr>\n",
       "      <th>0</th>\n",
       "      <td>Africa</td>\n",
       "      <td>Algeria</td>\n",
       "      <td>1800</td>\n",
       "      <td>6.99</td>\n",
       "      <td>2503218.0</td>\n",
       "      <td>28.82</td>\n",
       "    </tr>\n",
       "    <tr>\n",
       "      <th>1</th>\n",
       "      <td>Africa</td>\n",
       "      <td>Algeria</td>\n",
       "      <td>1810</td>\n",
       "      <td>6.99</td>\n",
       "      <td>2595056.0</td>\n",
       "      <td>28.82</td>\n",
       "    </tr>\n",
       "    <tr>\n",
       "      <th>2</th>\n",
       "      <td>Africa</td>\n",
       "      <td>Algeria</td>\n",
       "      <td>1820</td>\n",
       "      <td>6.99</td>\n",
       "      <td>2713079.0</td>\n",
       "      <td>28.82</td>\n",
       "    </tr>\n",
       "    <tr>\n",
       "      <th>3</th>\n",
       "      <td>Africa</td>\n",
       "      <td>Algeria</td>\n",
       "      <td>1830</td>\n",
       "      <td>6.99</td>\n",
       "      <td>2880355.0</td>\n",
       "      <td>28.82</td>\n",
       "    </tr>\n",
       "    <tr>\n",
       "      <th>4</th>\n",
       "      <td>Africa</td>\n",
       "      <td>Algeria</td>\n",
       "      <td>1840</td>\n",
       "      <td>6.99</td>\n",
       "      <td>3082721.0</td>\n",
       "      <td>28.82</td>\n",
       "    </tr>\n",
       "    <tr>\n",
       "      <th>...</th>\n",
       "      <td>...</td>\n",
       "      <td>...</td>\n",
       "      <td>...</td>\n",
       "      <td>...</td>\n",
       "      <td>...</td>\n",
       "      <td>...</td>\n",
       "    </tr>\n",
       "    <tr>\n",
       "      <th>14189</th>\n",
       "      <td>South America</td>\n",
       "      <td>Venezuela</td>\n",
       "      <td>2011</td>\n",
       "      <td>2.44</td>\n",
       "      <td>29427631.0</td>\n",
       "      <td>74.80</td>\n",
       "    </tr>\n",
       "    <tr>\n",
       "      <th>14190</th>\n",
       "      <td>South America</td>\n",
       "      <td>Venezuela</td>\n",
       "      <td>2012</td>\n",
       "      <td>2.42</td>\n",
       "      <td>29854238.0</td>\n",
       "      <td>74.60</td>\n",
       "    </tr>\n",
       "    <tr>\n",
       "      <th>14191</th>\n",
       "      <td>South America</td>\n",
       "      <td>Venezuela</td>\n",
       "      <td>2013</td>\n",
       "      <td>2.39</td>\n",
       "      <td>30276045.0</td>\n",
       "      <td>74.70</td>\n",
       "    </tr>\n",
       "    <tr>\n",
       "      <th>14192</th>\n",
       "      <td>South America</td>\n",
       "      <td>Venezuela</td>\n",
       "      <td>2014</td>\n",
       "      <td>2.36</td>\n",
       "      <td>30693827.0</td>\n",
       "      <td>74.80</td>\n",
       "    </tr>\n",
       "    <tr>\n",
       "      <th>14193</th>\n",
       "      <td>South America</td>\n",
       "      <td>Venezuela</td>\n",
       "      <td>2015</td>\n",
       "      <td>2.34</td>\n",
       "      <td>31108083.0</td>\n",
       "      <td>74.80</td>\n",
       "    </tr>\n",
       "  </tbody>\n",
       "</table>\n",
       "<p>14194 rows × 6 columns</p>\n",
       "</div>"
      ],
      "text/plain": [
       "           Continent    Country  year  fertility_rate  Total population  \\\n",
       "0             Africa    Algeria  1800            6.99         2503218.0   \n",
       "1             Africa    Algeria  1810            6.99         2595056.0   \n",
       "2             Africa    Algeria  1820            6.99         2713079.0   \n",
       "3             Africa    Algeria  1830            6.99         2880355.0   \n",
       "4             Africa    Algeria  1840            6.99         3082721.0   \n",
       "...              ...        ...   ...             ...               ...   \n",
       "14189  South America  Venezuela  2011            2.44        29427631.0   \n",
       "14190  South America  Venezuela  2012            2.42        29854238.0   \n",
       "14191  South America  Venezuela  2013            2.39        30276045.0   \n",
       "14192  South America  Venezuela  2014            2.36        30693827.0   \n",
       "14193  South America  Venezuela  2015            2.34        31108083.0   \n",
       "\n",
       "       life_expectancy  \n",
       "0                28.82  \n",
       "1                28.82  \n",
       "2                28.82  \n",
       "3                28.82  \n",
       "4                28.82  \n",
       "...                ...  \n",
       "14189            74.80  \n",
       "14190            74.60  \n",
       "14191            74.70  \n",
       "14192            74.80  \n",
       "14193            74.80  \n",
       "\n",
       "[14194 rows x 6 columns]"
      ]
     },
     "execution_count": 113,
     "metadata": {},
     "output_type": "execute_result"
    }
   ],
   "source": [
    "fert_pop_life_cont"
   ]
  },
  {
   "cell_type": "code",
   "execution_count": 114,
   "id": "9d85978b",
   "metadata": {},
   "outputs": [
    {
     "data": {
      "text/plain": [
       "(14194, 6)"
      ]
     },
     "execution_count": 114,
     "metadata": {},
     "output_type": "execute_result"
    }
   ],
   "source": [
    "fert_pop_life_cont.shape"
   ]
  },
  {
   "cell_type": "markdown",
   "id": "aef880eb",
   "metadata": {},
   "source": [
    "# Scatterplots "
   ]
  },
  {
   "cell_type": "markdown",
   "id": "6542f1db",
   "metadata": {},
   "source": [
    "With all the data merged into a single object, you can now select specific columns and plot them. \n",
    "\n",
    "In current notebook, I will use plotly library for creating the animated scatterplot."
   ]
  },
  {
   "cell_type": "markdown",
   "id": "3f082f10",
   "metadata": {},
   "source": [
    "### Create a scatterplot for a subset of the dataframe *e.g.* for the year 2015."
   ]
  },
  {
   "cell_type": "code",
   "execution_count": 115,
   "id": "fc3832da",
   "metadata": {},
   "outputs": [],
   "source": [
    "fert_pop_life_cont_2015 = fert_pop_life_cont.loc[fert_pop_life_cont[\"year\"]== 2015]"
   ]
  },
  {
   "cell_type": "code",
   "execution_count": 116,
   "id": "492bfc2b",
   "metadata": {},
   "outputs": [
    {
     "data": {
      "text/html": [
       "<div>\n",
       "<style scoped>\n",
       "    .dataframe tbody tr th:only-of-type {\n",
       "        vertical-align: middle;\n",
       "    }\n",
       "\n",
       "    .dataframe tbody tr th {\n",
       "        vertical-align: top;\n",
       "    }\n",
       "\n",
       "    .dataframe thead th {\n",
       "        text-align: right;\n",
       "    }\n",
       "</style>\n",
       "<table border=\"1\" class=\"dataframe\">\n",
       "  <thead>\n",
       "    <tr style=\"text-align: right;\">\n",
       "      <th></th>\n",
       "      <th>Continent</th>\n",
       "      <th>Country</th>\n",
       "      <th>year</th>\n",
       "      <th>fertility_rate</th>\n",
       "      <th>Total population</th>\n",
       "      <th>life_expectancy</th>\n",
       "    </tr>\n",
       "  </thead>\n",
       "  <tbody>\n",
       "    <tr>\n",
       "      <th>80</th>\n",
       "      <td>Africa</td>\n",
       "      <td>Algeria</td>\n",
       "      <td>2015</td>\n",
       "      <td>2.71</td>\n",
       "      <td>39666519.0</td>\n",
       "      <td>76.4</td>\n",
       "    </tr>\n",
       "    <tr>\n",
       "      <th>161</th>\n",
       "      <td>Africa</td>\n",
       "      <td>Angola</td>\n",
       "      <td>2015</td>\n",
       "      <td>5.65</td>\n",
       "      <td>25021974.0</td>\n",
       "      <td>59.6</td>\n",
       "    </tr>\n",
       "    <tr>\n",
       "      <th>242</th>\n",
       "      <td>Africa</td>\n",
       "      <td>Benin</td>\n",
       "      <td>2015</td>\n",
       "      <td>4.69</td>\n",
       "      <td>10879829.0</td>\n",
       "      <td>62.3</td>\n",
       "    </tr>\n",
       "    <tr>\n",
       "      <th>323</th>\n",
       "      <td>Africa</td>\n",
       "      <td>Botswana</td>\n",
       "      <td>2015</td>\n",
       "      <td>2.54</td>\n",
       "      <td>2262485.0</td>\n",
       "      <td>58.7</td>\n",
       "    </tr>\n",
       "    <tr>\n",
       "      <th>405</th>\n",
       "      <td>Africa</td>\n",
       "      <td>Burundi</td>\n",
       "      <td>2015</td>\n",
       "      <td>5.85</td>\n",
       "      <td>11178921.0</td>\n",
       "      <td>61.4</td>\n",
       "    </tr>\n",
       "    <tr>\n",
       "      <th>...</th>\n",
       "      <td>...</td>\n",
       "      <td>...</td>\n",
       "      <td>...</td>\n",
       "      <td>...</td>\n",
       "      <td>...</td>\n",
       "      <td>...</td>\n",
       "    </tr>\n",
       "    <tr>\n",
       "      <th>13869</th>\n",
       "      <td>South America</td>\n",
       "      <td>Paraguay</td>\n",
       "      <td>2015</td>\n",
       "      <td>2.80</td>\n",
       "      <td>6639123.0</td>\n",
       "      <td>74.4</td>\n",
       "    </tr>\n",
       "    <tr>\n",
       "      <th>13950</th>\n",
       "      <td>South America</td>\n",
       "      <td>Peru</td>\n",
       "      <td>2015</td>\n",
       "      <td>2.36</td>\n",
       "      <td>31376670.0</td>\n",
       "      <td>79.5</td>\n",
       "    </tr>\n",
       "    <tr>\n",
       "      <th>14031</th>\n",
       "      <td>South America</td>\n",
       "      <td>Suriname</td>\n",
       "      <td>2015</td>\n",
       "      <td>2.22</td>\n",
       "      <td>542975.0</td>\n",
       "      <td>72.0</td>\n",
       "    </tr>\n",
       "    <tr>\n",
       "      <th>14112</th>\n",
       "      <td>South America</td>\n",
       "      <td>Uruguay</td>\n",
       "      <td>2015</td>\n",
       "      <td>2.03</td>\n",
       "      <td>3431555.0</td>\n",
       "      <td>76.8</td>\n",
       "    </tr>\n",
       "    <tr>\n",
       "      <th>14193</th>\n",
       "      <td>South America</td>\n",
       "      <td>Venezuela</td>\n",
       "      <td>2015</td>\n",
       "      <td>2.34</td>\n",
       "      <td>31108083.0</td>\n",
       "      <td>74.8</td>\n",
       "    </tr>\n",
       "  </tbody>\n",
       "</table>\n",
       "<p>175 rows × 6 columns</p>\n",
       "</div>"
      ],
      "text/plain": [
       "           Continent    Country  year  fertility_rate  Total population  \\\n",
       "80            Africa    Algeria  2015            2.71        39666519.0   \n",
       "161           Africa     Angola  2015            5.65        25021974.0   \n",
       "242           Africa      Benin  2015            4.69        10879829.0   \n",
       "323           Africa   Botswana  2015            2.54         2262485.0   \n",
       "405           Africa    Burundi  2015            5.85        11178921.0   \n",
       "...              ...        ...   ...             ...               ...   \n",
       "13869  South America   Paraguay  2015            2.80         6639123.0   \n",
       "13950  South America       Peru  2015            2.36        31376670.0   \n",
       "14031  South America   Suriname  2015            2.22          542975.0   \n",
       "14112  South America    Uruguay  2015            2.03         3431555.0   \n",
       "14193  South America  Venezuela  2015            2.34        31108083.0   \n",
       "\n",
       "       life_expectancy  \n",
       "80                76.4  \n",
       "161               59.6  \n",
       "242               62.3  \n",
       "323               58.7  \n",
       "405               61.4  \n",
       "...                ...  \n",
       "13869             74.4  \n",
       "13950             79.5  \n",
       "14031             72.0  \n",
       "14112             76.8  \n",
       "14193             74.8  \n",
       "\n",
       "[175 rows x 6 columns]"
      ]
     },
     "execution_count": 116,
     "metadata": {},
     "output_type": "execute_result"
    }
   ],
   "source": [
    "fert_pop_life_cont_2015"
   ]
  },
  {
   "cell_type": "markdown",
   "id": "786f1eb4",
   "metadata": {},
   "source": [
    "Assigning to a variable the colour palette and setting the grid to be used for the scatterplot."
   ]
  },
  {
   "cell_type": "code",
   "execution_count": 117,
   "id": "423f28ad",
   "metadata": {},
   "outputs": [
    {
     "data": {
      "application/vnd.plotly.v1+json": {
       "config": {
        "plotlyServerURL": "https://plot.ly"
       },
       "data": [
        {
         "customdata": [
          [
           "Algeria",
           39666519,
           "Africa"
          ],
          [
           "Angola",
           25021974,
           "Africa"
          ],
          [
           "Benin",
           10879829,
           "Africa"
          ],
          [
           "Botswana",
           2262485,
           "Africa"
          ],
          [
           "Burundi",
           11178921,
           "Africa"
          ],
          [
           "Cameroon",
           23344179,
           "Africa"
          ],
          [
           "Cape Verde",
           520502,
           "Africa"
          ],
          [
           "Central African Republic",
           4900274,
           "Africa"
          ],
          [
           "Chad",
           14037472,
           "Africa"
          ],
          [
           "Comoros",
           788474,
           "Africa"
          ],
          [
           "Djibouti",
           887861,
           "Africa"
          ],
          [
           "Egypt",
           91508084,
           "Africa"
          ],
          [
           "Equatorial Guinea",
           845060,
           "Africa"
          ],
          [
           "Eritrea",
           5227791,
           "Africa"
          ],
          [
           "Ethiopia",
           99390750,
           "Africa"
          ],
          [
           "Gabon",
           1725292,
           "Africa"
          ],
          [
           "Gambia",
           1990924,
           "Africa"
          ],
          [
           "Ghana",
           27409893,
           "Africa"
          ],
          [
           "Guinea",
           12608590,
           "Africa"
          ],
          [
           "Guinea-Bissau",
           1844325,
           "Africa"
          ],
          [
           "Kenya",
           46050302,
           "Africa"
          ],
          [
           "Lesotho",
           2135022,
           "Africa"
          ],
          [
           "Liberia",
           4503438,
           "Africa"
          ],
          [
           "Libya",
           6278438,
           "Africa"
          ],
          [
           "Madagascar",
           24235390,
           "Africa"
          ],
          [
           "Malawi",
           17215232,
           "Africa"
          ],
          [
           "Mali",
           17599694,
           "Africa"
          ],
          [
           "Mauritania",
           4067564,
           "Africa"
          ],
          [
           "Mauritius",
           1273212,
           "Africa"
          ],
          [
           "Morocco",
           34377511,
           "Africa"
          ],
          [
           "Mozambique",
           27977863,
           "Africa"
          ],
          [
           "Namibia",
           2458830,
           "Africa"
          ],
          [
           "Niger",
           19899120,
           "Africa"
          ],
          [
           "Nigeria",
           182201962,
           "Africa"
          ],
          [
           "Rwanda",
           11609666,
           "Africa"
          ],
          [
           "Sao Tome and Principe",
           190344,
           "Africa"
          ],
          [
           "Senegal",
           15129273,
           "Africa"
          ],
          [
           "Seychelles",
           96471,
           "Africa"
          ],
          [
           "Sierra Leone",
           6453184,
           "Africa"
          ],
          [
           "Somalia",
           10787104,
           "Africa"
          ],
          [
           "South Africa",
           54490406,
           "Africa"
          ],
          [
           "Sudan",
           40234882,
           "Africa"
          ],
          [
           "Swaziland",
           1286970,
           "Africa"
          ],
          [
           "Tanzania",
           53470420,
           "Africa"
          ],
          [
           "Togo",
           7304578,
           "Africa"
          ],
          [
           "Tunisia",
           11253554,
           "Africa"
          ],
          [
           "Uganda",
           39032383,
           "Africa"
          ],
          [
           "Zambia",
           16211767,
           "Africa"
          ],
          [
           "Zimbabwe",
           15602751,
           "Africa"
          ]
         ],
         "hovertemplate": "Country: %{customdata[0]} <br>Population: %{customdata[1]:,} <br>Fertility rate: %{x} <br>Life expectancy: %{y:.1f}<extra></extra>",
         "legendgroup": "Africa",
         "marker": {
          "color": "#636efa",
          "opacity": 0.6,
          "size": [
           39666519,
           25021974,
           10879829,
           2262485,
           11178921,
           23344179,
           520502,
           4900274,
           14037472,
           788474,
           887861,
           91508084,
           845060,
           5227791,
           99390750,
           1725292,
           1990924,
           27409893,
           12608590,
           1844325,
           46050302,
           2135022,
           4503438,
           6278438,
           24235390,
           17215232,
           17599694,
           4067564,
           1273212,
           34377511,
           27977863,
           2458830,
           19899120,
           182201962,
           11609666,
           190344,
           15129273,
           96471,
           6453184,
           10787104,
           54490406,
           40234882,
           1286970,
           53470420,
           7304578,
           11253554,
           39032383,
           16211767,
           15602751
          ],
          "sizemin": 5,
          "sizemode": "area",
          "sizeref": 95558.954375,
          "symbol": "circle"
         },
         "mode": "markers",
         "name": "Africa",
         "orientation": "v",
         "showlegend": true,
         "textposition": "top center",
         "type": "scatter",
         "x": [
          2.71,
          5.65,
          4.69,
          2.54,
          5.85,
          4.63,
          2.22,
          4.2,
          6.04,
          4.58,
          3.26,
          2.7,
          4.65,
          4.52,
          4.28,
          3.97,
          5.67,
          3.74,
          4.75,
          4.8,
          4.24,
          2.94,
          4.64,
          2.26,
          4.35,
          5.23,
          6.81,
          4.55,
          1.5,
          2.71,
          5.04,
          2.95,
          7.51,
          5.89,
          4.31,
          3.94,
          4.81,
          2.13,
          4.55,
          6.36,
          2.34,
          4.28,
          3.2,
          5.07,
          4.51,
          1.97,
          5.67,
          5.59,
          3.35
         ],
         "xaxis": "x",
         "y": [
          76.4,
          59.6,
          62.3,
          58.7,
          61.4,
          59.4,
          72.9,
          49.6,
          57.4,
          68.1,
          63.8,
          71.5,
          61,
          60.7,
          65.2,
          65.9,
          68.1,
          65.3,
          59.1,
          55.6,
          65.1,
          47.1,
          63.2,
          74.1,
          63.5,
          60.5,
          60.2,
          69.7,
          74.5,
          74.6,
          57.1,
          64.2,
          61,
          64.6,
          65.9,
          68,
          65.3,
          74.1,
          57.1,
          54.2,
          61.3,
          67.5,
          51.8,
          64.1,
          61.5,
          77.6,
          61.3,
          56.7,
          59.3
         ],
         "yaxis": "y"
        },
        {
         "customdata": [
          [
           "Afghanistan",
           32526562,
           "Asia"
          ],
          [
           "Bahrain",
           1377237,
           "Asia"
          ],
          [
           "Bangladesh",
           160995642,
           "Asia"
          ],
          [
           "Bhutan",
           774830,
           "Asia"
          ],
          [
           "Brunei",
           423188,
           "Asia"
          ],
          [
           "Cambodia",
           15577899,
           "Asia"
          ],
          [
           "China",
           1376048943,
           "Asia"
          ],
          [
           "India",
           1311050527,
           "Asia"
          ],
          [
           "Indonesia",
           257563815,
           "Asia"
          ],
          [
           "Iran",
           79109272,
           "Asia"
          ],
          [
           "Iraq",
           36423395,
           "Asia"
          ],
          [
           "Israel",
           8064036,
           "Asia"
          ],
          [
           "Japan",
           126573481,
           "Asia"
          ],
          [
           "Jordan",
           7594547,
           "Asia"
          ],
          [
           "Kazakhstan",
           17625226,
           "Asia"
          ],
          [
           "Kuwait",
           3892115,
           "Asia"
          ],
          [
           "Lebanon",
           5850743,
           "Asia"
          ],
          [
           "Malaysia",
           30331007,
           "Asia"
          ],
          [
           "Maldives",
           363657,
           "Asia"
          ],
          [
           "Mongolia",
           2959134,
           "Asia"
          ],
          [
           "Nepal",
           28513700,
           "Asia"
          ],
          [
           "Oman",
           4490541,
           "Asia"
          ],
          [
           "Pakistan",
           188924874,
           "Asia"
          ],
          [
           "Philippines",
           100699395,
           "Asia"
          ],
          [
           "Qatar",
           2235355,
           "Asia"
          ],
          [
           "Saudi Arabia",
           31540372,
           "Asia"
          ],
          [
           "Singapore",
           5603740,
           "Asia"
          ],
          [
           "Sri Lanka",
           20715010,
           "Asia"
          ],
          [
           "Syria",
           18502413,
           "Asia"
          ],
          [
           "Tajikistan",
           8481855,
           "Asia"
          ],
          [
           "Thailand",
           67959359,
           "Asia"
          ],
          [
           "Turkey",
           78665830,
           "Asia"
          ],
          [
           "Turkmenistan",
           5373502,
           "Asia"
          ],
          [
           "United Arab Emirates",
           9156963,
           "Asia"
          ],
          [
           "Uzbekistan",
           29893488,
           "Asia"
          ],
          [
           "Vietnam",
           93447601,
           "Asia"
          ],
          [
           "Yemen",
           26832215,
           "Asia"
          ]
         ],
         "hovertemplate": "Country: %{customdata[0]} <br>Population: %{customdata[1]:,} <br>Fertility rate: %{x} <br>Life expectancy: %{y:.1f}<extra></extra>",
         "legendgroup": "Asia",
         "marker": {
          "color": "#EF553B",
          "opacity": 0.6,
          "size": [
           32526562,
           1377237,
           160995642,
           774830,
           423188,
           15577899,
           1376048943,
           1311050527,
           257563815,
           79109272,
           36423395,
           8064036,
           126573481,
           7594547,
           17625226,
           3892115,
           5850743,
           30331007,
           363657,
           2959134,
           28513700,
           4490541,
           188924874,
           100699395,
           2235355,
           31540372,
           5603740,
           20715010,
           18502413,
           8481855,
           67959359,
           78665830,
           5373502,
           9156963,
           29893488,
           93447601,
           26832215
          ],
          "sizemin": 5,
          "sizemode": "area",
          "sizeref": 95558.954375,
          "symbol": "circle"
         },
         "mode": "markers",
         "name": "Asia",
         "orientation": "v",
         "showlegend": true,
         "textposition": "top center",
         "type": "scatter",
         "x": [
          4.47,
          2.03,
          2.12,
          2.15,
          1.96,
          2.8,
          1.57,
          2.43,
          2.28,
          1.91,
          3.91,
          2.86,
          1.45,
          3.12,
          2.4,
          2.55,
          1.49,
          1.94,
          2.18,
          2.4,
          2.18,
          2.75,
          3.04,
          2.98,
          1.98,
          2.54,
          1.3,
          2.31,
          2.88,
          3.75,
          1.38,
          2,
          2.27,
          1.77,
          2.25,
          1.7,
          3.83
         ],
         "xaxis": "x",
         "y": [
          53.8,
          79.1,
          70.4,
          72.7,
          77.1,
          69.4,
          76.2,
          67.2,
          71.1,
          74.6,
          67.4,
          82.1,
          83.2,
          78.5,
          70.2,
          80.3,
          78.9,
          75.3,
          80,
          67.1,
          69.7,
          77.2,
          65.9,
          71,
          79.7,
          79.5,
          82,
          77.6,
          68.2,
          72.4,
          74.7,
          79.2,
          70,
          75.4,
          71.8,
          75.4,
          66
         ],
         "yaxis": "y"
        },
        {
         "customdata": [
          [
           "Albania",
           2896679,
           "Europe"
          ],
          [
           "Andorra",
           70473,
           "Europe"
          ],
          [
           "Armenia",
           3017712,
           "Europe"
          ],
          [
           "Austria",
           8544586,
           "Europe"
          ],
          [
           "Azerbaijan",
           9753968,
           "Europe"
          ],
          [
           "Belarus",
           9495826,
           "Europe"
          ],
          [
           "Belgium",
           11299192,
           "Europe"
          ],
          [
           "Bosnia and Herzegovina",
           3810416,
           "Europe"
          ],
          [
           "Bulgaria",
           7149787,
           "Europe"
          ],
          [
           "Croatia",
           4240317,
           "Europe"
          ],
          [
           "Cyprus",
           1165300,
           "Europe"
          ],
          [
           "Czech Republic",
           10543186,
           "Europe"
          ],
          [
           "Denmark",
           5669081,
           "Europe"
          ],
          [
           "Estonia",
           1312558,
           "Europe"
          ],
          [
           "Finland",
           5503457,
           "Europe"
          ],
          [
           "France",
           64395345,
           "Europe"
          ],
          [
           "Georgia",
           3999812,
           "Europe"
          ],
          [
           "Germany",
           80688545,
           "Europe"
          ],
          [
           "Greece",
           10954617,
           "Europe"
          ],
          [
           "Hungary",
           9855023,
           "Europe"
          ],
          [
           "Iceland",
           329425,
           "Europe"
          ],
          [
           "Ireland",
           4688465,
           "Europe"
          ],
          [
           "Italy",
           59797685,
           "Europe"
          ],
          [
           "Latvia",
           1970503,
           "Europe"
          ],
          [
           "Liechtenstein",
           37531,
           "Europe"
          ],
          [
           "Lithuania",
           2878405,
           "Europe"
          ],
          [
           "Luxembourg",
           567110,
           "Europe"
          ],
          [
           "Malta",
           418670,
           "Europe"
          ],
          [
           "Moldova",
           4068897,
           "Europe"
          ],
          [
           "Monaco",
           37731,
           "Europe"
          ],
          [
           "Montenegro",
           625781,
           "Europe"
          ],
          [
           "Netherlands",
           16924929,
           "Europe"
          ],
          [
           "Norway",
           5210967,
           "Europe"
          ],
          [
           "Poland",
           38611794,
           "Europe"
          ],
          [
           "Portugal",
           10349803,
           "Europe"
          ],
          [
           "Romania",
           19511324,
           "Europe"
          ],
          [
           "San Marino",
           31781,
           "Europe"
          ],
          [
           "Serbia",
           8850975,
           "Europe"
          ],
          [
           "Slovenia",
           2067526,
           "Europe"
          ],
          [
           "Spain",
           46121699,
           "Europe"
          ],
          [
           "Sweden",
           9779426,
           "Europe"
          ],
          [
           "Switzerland",
           8298663,
           "Europe"
          ],
          [
           "Ukraine",
           44823765,
           "Europe"
          ],
          [
           "United Kingdom",
           64715810,
           "Europe"
          ]
         ],
         "hovertemplate": "Country: %{customdata[0]} <br>Population: %{customdata[1]:,} <br>Fertility rate: %{x} <br>Life expectancy: %{y:.1f}<extra></extra>",
         "legendgroup": "Europe",
         "marker": {
          "color": "#00cc96",
          "opacity": 0.6,
          "size": [
           2896679,
           70473,
           3017712,
           8544586,
           9753968,
           9495826,
           11299192,
           3810416,
           7149787,
           4240317,
           1165300,
           10543186,
           5669081,
           1312558,
           5503457,
           64395345,
           3999812,
           80688545,
           10954617,
           9855023,
           329425,
           4688465,
           59797685,
           1970503,
           37531,
           2878405,
           567110,
           418670,
           4068897,
           37731,
           625781,
           16924929,
           5210967,
           38611794,
           10349803,
           19511324,
           31781,
           8850975,
           2067526,
           46121699,
           9779426,
           8298663,
           44823765,
           64715810
          ],
          "sizemin": 5,
          "sizemode": "area",
          "sizeref": 95558.954375,
          "symbol": "circle"
         },
         "mode": "markers",
         "name": "Europe",
         "orientation": "v",
         "showlegend": true,
         "textposition": "top center",
         "type": "scatter",
         "x": [
          1.78,
          null,
          1.41,
          1.5,
          1.89,
          1.51,
          1.86,
          1.32,
          1.57,
          1.52,
          1.46,
          1.6,
          1.89,
          1.62,
          1.86,
          1.98,
          1.81,
          1.44,
          1.55,
          1.44,
          2.06,
          1.99,
          1.52,
          1.64,
          null,
          1.55,
          1.69,
          1.35,
          1.45,
          null,
          1.65,
          1.78,
          1.93,
          1.44,
          1.31,
          1.45,
          null,
          1.37,
          1.53,
          1.53,
          1.93,
          1.55,
          1.49,
          1.89
         ],
         "xaxis": "x",
         "y": [
          78,
          84.8,
          74.7,
          81.3,
          72.9,
          71,
          80.5,
          78.9,
          74.8,
          77.8,
          81.8,
          78.8,
          80.4,
          77.8,
          80.9,
          81.8,
          72.9,
          80.8,
          81,
          76.7,
          83.3,
          81.7,
          82.2,
          75.4,
          null,
          75.2,
          82.2,
          82.1,
          73.9,
          null,
          77.2,
          81.3,
          82,
          77.6,
          80.8,
          75.2,
          null,
          76.2,
          80.9,
          82.6,
          82.1,
          83,
          71.5,
          81
         ],
         "yaxis": "y"
        },
        {
         "customdata": [
          [
           "Antigua and Barbuda",
           91818,
           "North America"
          ],
          [
           "Bahamas",
           388019,
           "North America"
          ],
          [
           "Barbados",
           284215,
           "North America"
          ],
          [
           "Belize",
           359287,
           "North America"
          ],
          [
           "Canada",
           35939927,
           "North America"
          ],
          [
           "Costa Rica",
           4807850,
           "North America"
          ],
          [
           "Cuba",
           11389562,
           "North America"
          ],
          [
           "Dominica",
           72680,
           "North America"
          ],
          [
           "Dominican Republic",
           10528391,
           "North America"
          ],
          [
           "El Salvador",
           6126583,
           "North America"
          ],
          [
           "Grenada",
           106825,
           "North America"
          ],
          [
           "Guatemala",
           16342897,
           "North America"
          ],
          [
           "Haiti",
           10711067,
           "North America"
          ],
          [
           "Honduras",
           8075060,
           "North America"
          ],
          [
           "Jamaica",
           2793335,
           "North America"
          ],
          [
           "Mexico",
           127017224,
           "North America"
          ],
          [
           "Nicaragua",
           6082032,
           "North America"
          ],
          [
           "Panama",
           3929141,
           "North America"
          ],
          [
           "Trinidad and Tobago",
           1360088,
           "North America"
          ],
          [
           "United States",
           321773631,
           "North America"
          ]
         ],
         "hovertemplate": "Country: %{customdata[0]} <br>Population: %{customdata[1]:,} <br>Fertility rate: %{x} <br>Life expectancy: %{y:.1f}<extra></extra>",
         "legendgroup": "North America",
         "marker": {
          "color": "#ab63fa",
          "opacity": 0.6,
          "size": [
           91818,
           388019,
           284215,
           359287,
           35939927,
           4807850,
           11389562,
           72680,
           10528391,
           6126583,
           106825,
           16342897,
           10711067,
           8075060,
           2793335,
           127017224,
           6082032,
           3929141,
           1360088,
           321773631
          ],
          "sizemin": 5,
          "sizemode": "area",
          "sizeref": 95558.954375,
          "symbol": "circle"
         },
         "mode": "markers",
         "name": "North America",
         "orientation": "v",
         "showlegend": true,
         "textposition": "top center",
         "type": "scatter",
         "x": [
          2.06,
          1.88,
          1.86,
          2.6,
          1.68,
          1.77,
          1.45,
          null,
          2.42,
          2.14,
          2.13,
          3.66,
          3.03,
          2.91,
          2.21,
          2.13,
          2.42,
          2.42,
          1.79,
          1.97
         ],
         "xaxis": "x",
         "y": [
          76.4,
          73.7,
          75.7,
          71.7,
          81.7,
          80.3,
          78.2,
          73.1,
          75.3,
          74.9,
          71.5,
          72.6,
          64.3,
          73,
          75,
          75.9,
          78,
          78.2,
          72.4,
          79.1
         ],
         "yaxis": "y"
        },
        {
         "customdata": [
          [
           "Australia",
           23968973,
           "Australia and Oceania"
          ],
          [
           "Fiji",
           892145,
           "Australia and Oceania"
          ],
          [
           "Kiribati",
           112423,
           "Australia and Oceania"
          ],
          [
           "Marshall Islands",
           52993,
           "Australia and Oceania"
          ],
          [
           "Nauru",
           10222,
           "Australia and Oceania"
          ],
          [
           "New Zealand",
           4528526,
           "Australia and Oceania"
          ],
          [
           "Palau",
           21291,
           "Australia and Oceania"
          ],
          [
           "Papua New Guinea",
           7619321,
           "Australia and Oceania"
          ],
          [
           "Samoa",
           193228,
           "Australia and Oceania"
          ],
          [
           "Solomon Islands",
           583591,
           "Australia and Oceania"
          ],
          [
           "Tonga",
           106170,
           "Australia and Oceania"
          ],
          [
           "Tuvalu",
           9916,
           "Australia and Oceania"
          ],
          [
           "Vanuatu",
           264652,
           "Australia and Oceania"
          ]
         ],
         "hovertemplate": "Country: %{customdata[0]} <br>Population: %{customdata[1]:,} <br>Fertility rate: %{x} <br>Life expectancy: %{y:.1f}<extra></extra>",
         "legendgroup": "Australia and Oceania",
         "marker": {
          "color": "#FFA15A",
          "opacity": 0.6,
          "size": [
           23968973,
           892145,
           112423,
           52993,
           10222,
           4528526,
           21291,
           7619321,
           193228,
           583591,
           106170,
           9916,
           264652
          ],
          "sizemin": 5,
          "sizemode": "area",
          "sizeref": 95558.954375,
          "symbol": "circle"
         },
         "mode": "markers",
         "name": "Australia and Oceania",
         "orientation": "v",
         "showlegend": true,
         "textposition": "top center",
         "type": "scatter",
         "x": [
          1.88,
          2.54,
          2.89,
          null,
          null,
          2.02,
          null,
          3.67,
          4.03,
          3.91,
          3.68,
          null,
          3.31
         ],
         "xaxis": "x",
         "y": [
          82.3,
          65.8,
          63,
          66.9,
          null,
          81.4,
          null,
          60.9,
          73.2,
          64,
          71.5,
          null,
          64.9
         ],
         "yaxis": "y"
        },
        {
         "customdata": [
          [
           "Argentina",
           43416755,
           "South America"
          ],
          [
           "Bolivia",
           10724705,
           "South America"
          ],
          [
           "Brazil",
           207847528,
           "South America"
          ],
          [
           "Chile",
           17948141,
           "South America"
          ],
          [
           "Colombia",
           48228704,
           "South America"
          ],
          [
           "Ecuador",
           16144363,
           "South America"
          ],
          [
           "Guyana",
           767085,
           "South America"
          ],
          [
           "Paraguay",
           6639123,
           "South America"
          ],
          [
           "Peru",
           31376670,
           "South America"
          ],
          [
           "Suriname",
           542975,
           "South America"
          ],
          [
           "Uruguay",
           3431555,
           "South America"
          ],
          [
           "Venezuela",
           31108083,
           "South America"
          ]
         ],
         "hovertemplate": "Country: %{customdata[0]} <br>Population: %{customdata[1]:,} <br>Fertility rate: %{x} <br>Life expectancy: %{y:.1f}<extra></extra>",
         "legendgroup": "South America",
         "marker": {
          "color": "#19d3f3",
          "opacity": 0.6,
          "size": [
           43416755,
           10724705,
           207847528,
           17948141,
           48228704,
           16144363,
           767085,
           6639123,
           31376670,
           542975,
           3431555,
           31108083
          ],
          "sizemin": 5,
          "sizemode": "area",
          "sizeref": 95558.954375,
          "symbol": "circle"
         },
         "mode": "markers",
         "name": "South America",
         "orientation": "v",
         "showlegend": true,
         "textposition": "top center",
         "type": "scatter",
         "x": [
          2.15,
          3.14,
          1.78,
          1.8,
          2.23,
          2.5,
          2.47,
          2.8,
          2.36,
          2.22,
          2.03,
          2.34
         ],
         "xaxis": "x",
         "y": [
          76.5,
          73.2,
          74.4,
          79.4,
          78,
          75.9,
          66.8,
          74.4,
          79.5,
          72,
          76.8,
          74.8
         ],
         "yaxis": "y"
        }
       ],
       "layout": {
        "height": 900,
        "legend": {
         "itemsizing": "constant",
         "orientation": "h",
         "title": {
          "text": ""
         },
         "tracegroupgap": 0,
         "x": 1,
         "xanchor": "right",
         "y": 1.02,
         "yanchor": "bottom"
        },
        "template": {
         "data": {
          "bar": [
           {
            "error_x": {
             "color": "#2a3f5f"
            },
            "error_y": {
             "color": "#2a3f5f"
            },
            "marker": {
             "line": {
              "color": "#E5ECF6",
              "width": 0.5
             },
             "pattern": {
              "fillmode": "overlay",
              "size": 10,
              "solidity": 0.2
             }
            },
            "type": "bar"
           }
          ],
          "barpolar": [
           {
            "marker": {
             "line": {
              "color": "#E5ECF6",
              "width": 0.5
             },
             "pattern": {
              "fillmode": "overlay",
              "size": 10,
              "solidity": 0.2
             }
            },
            "type": "barpolar"
           }
          ],
          "carpet": [
           {
            "aaxis": {
             "endlinecolor": "#2a3f5f",
             "gridcolor": "white",
             "linecolor": "white",
             "minorgridcolor": "white",
             "startlinecolor": "#2a3f5f"
            },
            "baxis": {
             "endlinecolor": "#2a3f5f",
             "gridcolor": "white",
             "linecolor": "white",
             "minorgridcolor": "white",
             "startlinecolor": "#2a3f5f"
            },
            "type": "carpet"
           }
          ],
          "choropleth": [
           {
            "colorbar": {
             "outlinewidth": 0,
             "ticks": ""
            },
            "type": "choropleth"
           }
          ],
          "contour": [
           {
            "colorbar": {
             "outlinewidth": 0,
             "ticks": ""
            },
            "colorscale": [
             [
              0,
              "#0d0887"
             ],
             [
              0.1111111111111111,
              "#46039f"
             ],
             [
              0.2222222222222222,
              "#7201a8"
             ],
             [
              0.3333333333333333,
              "#9c179e"
             ],
             [
              0.4444444444444444,
              "#bd3786"
             ],
             [
              0.5555555555555556,
              "#d8576b"
             ],
             [
              0.6666666666666666,
              "#ed7953"
             ],
             [
              0.7777777777777778,
              "#fb9f3a"
             ],
             [
              0.8888888888888888,
              "#fdca26"
             ],
             [
              1,
              "#f0f921"
             ]
            ],
            "type": "contour"
           }
          ],
          "contourcarpet": [
           {
            "colorbar": {
             "outlinewidth": 0,
             "ticks": ""
            },
            "type": "contourcarpet"
           }
          ],
          "heatmap": [
           {
            "colorbar": {
             "outlinewidth": 0,
             "ticks": ""
            },
            "colorscale": [
             [
              0,
              "#0d0887"
             ],
             [
              0.1111111111111111,
              "#46039f"
             ],
             [
              0.2222222222222222,
              "#7201a8"
             ],
             [
              0.3333333333333333,
              "#9c179e"
             ],
             [
              0.4444444444444444,
              "#bd3786"
             ],
             [
              0.5555555555555556,
              "#d8576b"
             ],
             [
              0.6666666666666666,
              "#ed7953"
             ],
             [
              0.7777777777777778,
              "#fb9f3a"
             ],
             [
              0.8888888888888888,
              "#fdca26"
             ],
             [
              1,
              "#f0f921"
             ]
            ],
            "type": "heatmap"
           }
          ],
          "heatmapgl": [
           {
            "colorbar": {
             "outlinewidth": 0,
             "ticks": ""
            },
            "colorscale": [
             [
              0,
              "#0d0887"
             ],
             [
              0.1111111111111111,
              "#46039f"
             ],
             [
              0.2222222222222222,
              "#7201a8"
             ],
             [
              0.3333333333333333,
              "#9c179e"
             ],
             [
              0.4444444444444444,
              "#bd3786"
             ],
             [
              0.5555555555555556,
              "#d8576b"
             ],
             [
              0.6666666666666666,
              "#ed7953"
             ],
             [
              0.7777777777777778,
              "#fb9f3a"
             ],
             [
              0.8888888888888888,
              "#fdca26"
             ],
             [
              1,
              "#f0f921"
             ]
            ],
            "type": "heatmapgl"
           }
          ],
          "histogram": [
           {
            "marker": {
             "pattern": {
              "fillmode": "overlay",
              "size": 10,
              "solidity": 0.2
             }
            },
            "type": "histogram"
           }
          ],
          "histogram2d": [
           {
            "colorbar": {
             "outlinewidth": 0,
             "ticks": ""
            },
            "colorscale": [
             [
              0,
              "#0d0887"
             ],
             [
              0.1111111111111111,
              "#46039f"
             ],
             [
              0.2222222222222222,
              "#7201a8"
             ],
             [
              0.3333333333333333,
              "#9c179e"
             ],
             [
              0.4444444444444444,
              "#bd3786"
             ],
             [
              0.5555555555555556,
              "#d8576b"
             ],
             [
              0.6666666666666666,
              "#ed7953"
             ],
             [
              0.7777777777777778,
              "#fb9f3a"
             ],
             [
              0.8888888888888888,
              "#fdca26"
             ],
             [
              1,
              "#f0f921"
             ]
            ],
            "type": "histogram2d"
           }
          ],
          "histogram2dcontour": [
           {
            "colorbar": {
             "outlinewidth": 0,
             "ticks": ""
            },
            "colorscale": [
             [
              0,
              "#0d0887"
             ],
             [
              0.1111111111111111,
              "#46039f"
             ],
             [
              0.2222222222222222,
              "#7201a8"
             ],
             [
              0.3333333333333333,
              "#9c179e"
             ],
             [
              0.4444444444444444,
              "#bd3786"
             ],
             [
              0.5555555555555556,
              "#d8576b"
             ],
             [
              0.6666666666666666,
              "#ed7953"
             ],
             [
              0.7777777777777778,
              "#fb9f3a"
             ],
             [
              0.8888888888888888,
              "#fdca26"
             ],
             [
              1,
              "#f0f921"
             ]
            ],
            "type": "histogram2dcontour"
           }
          ],
          "mesh3d": [
           {
            "colorbar": {
             "outlinewidth": 0,
             "ticks": ""
            },
            "type": "mesh3d"
           }
          ],
          "parcoords": [
           {
            "line": {
             "colorbar": {
              "outlinewidth": 0,
              "ticks": ""
             }
            },
            "type": "parcoords"
           }
          ],
          "pie": [
           {
            "automargin": true,
            "type": "pie"
           }
          ],
          "scatter": [
           {
            "fillpattern": {
             "fillmode": "overlay",
             "size": 10,
             "solidity": 0.2
            },
            "type": "scatter"
           }
          ],
          "scatter3d": [
           {
            "line": {
             "colorbar": {
              "outlinewidth": 0,
              "ticks": ""
             }
            },
            "marker": {
             "colorbar": {
              "outlinewidth": 0,
              "ticks": ""
             }
            },
            "type": "scatter3d"
           }
          ],
          "scattercarpet": [
           {
            "marker": {
             "colorbar": {
              "outlinewidth": 0,
              "ticks": ""
             }
            },
            "type": "scattercarpet"
           }
          ],
          "scattergeo": [
           {
            "marker": {
             "colorbar": {
              "outlinewidth": 0,
              "ticks": ""
             }
            },
            "type": "scattergeo"
           }
          ],
          "scattergl": [
           {
            "marker": {
             "colorbar": {
              "outlinewidth": 0,
              "ticks": ""
             }
            },
            "type": "scattergl"
           }
          ],
          "scattermapbox": [
           {
            "marker": {
             "colorbar": {
              "outlinewidth": 0,
              "ticks": ""
             }
            },
            "type": "scattermapbox"
           }
          ],
          "scatterpolar": [
           {
            "marker": {
             "colorbar": {
              "outlinewidth": 0,
              "ticks": ""
             }
            },
            "type": "scatterpolar"
           }
          ],
          "scatterpolargl": [
           {
            "marker": {
             "colorbar": {
              "outlinewidth": 0,
              "ticks": ""
             }
            },
            "type": "scatterpolargl"
           }
          ],
          "scatterternary": [
           {
            "marker": {
             "colorbar": {
              "outlinewidth": 0,
              "ticks": ""
             }
            },
            "type": "scatterternary"
           }
          ],
          "surface": [
           {
            "colorbar": {
             "outlinewidth": 0,
             "ticks": ""
            },
            "colorscale": [
             [
              0,
              "#0d0887"
             ],
             [
              0.1111111111111111,
              "#46039f"
             ],
             [
              0.2222222222222222,
              "#7201a8"
             ],
             [
              0.3333333333333333,
              "#9c179e"
             ],
             [
              0.4444444444444444,
              "#bd3786"
             ],
             [
              0.5555555555555556,
              "#d8576b"
             ],
             [
              0.6666666666666666,
              "#ed7953"
             ],
             [
              0.7777777777777778,
              "#fb9f3a"
             ],
             [
              0.8888888888888888,
              "#fdca26"
             ],
             [
              1,
              "#f0f921"
             ]
            ],
            "type": "surface"
           }
          ],
          "table": [
           {
            "cells": {
             "fill": {
              "color": "#EBF0F8"
             },
             "line": {
              "color": "white"
             }
            },
            "header": {
             "fill": {
              "color": "#C8D4E3"
             },
             "line": {
              "color": "white"
             }
            },
            "type": "table"
           }
          ]
         },
         "layout": {
          "annotationdefaults": {
           "arrowcolor": "#2a3f5f",
           "arrowhead": 0,
           "arrowwidth": 1
          },
          "autotypenumbers": "strict",
          "coloraxis": {
           "colorbar": {
            "outlinewidth": 0,
            "ticks": ""
           }
          },
          "colorscale": {
           "diverging": [
            [
             0,
             "#8e0152"
            ],
            [
             0.1,
             "#c51b7d"
            ],
            [
             0.2,
             "#de77ae"
            ],
            [
             0.3,
             "#f1b6da"
            ],
            [
             0.4,
             "#fde0ef"
            ],
            [
             0.5,
             "#f7f7f7"
            ],
            [
             0.6,
             "#e6f5d0"
            ],
            [
             0.7,
             "#b8e186"
            ],
            [
             0.8,
             "#7fbc41"
            ],
            [
             0.9,
             "#4d9221"
            ],
            [
             1,
             "#276419"
            ]
           ],
           "sequential": [
            [
             0,
             "#0d0887"
            ],
            [
             0.1111111111111111,
             "#46039f"
            ],
            [
             0.2222222222222222,
             "#7201a8"
            ],
            [
             0.3333333333333333,
             "#9c179e"
            ],
            [
             0.4444444444444444,
             "#bd3786"
            ],
            [
             0.5555555555555556,
             "#d8576b"
            ],
            [
             0.6666666666666666,
             "#ed7953"
            ],
            [
             0.7777777777777778,
             "#fb9f3a"
            ],
            [
             0.8888888888888888,
             "#fdca26"
            ],
            [
             1,
             "#f0f921"
            ]
           ],
           "sequentialminus": [
            [
             0,
             "#0d0887"
            ],
            [
             0.1111111111111111,
             "#46039f"
            ],
            [
             0.2222222222222222,
             "#7201a8"
            ],
            [
             0.3333333333333333,
             "#9c179e"
            ],
            [
             0.4444444444444444,
             "#bd3786"
            ],
            [
             0.5555555555555556,
             "#d8576b"
            ],
            [
             0.6666666666666666,
             "#ed7953"
            ],
            [
             0.7777777777777778,
             "#fb9f3a"
            ],
            [
             0.8888888888888888,
             "#fdca26"
            ],
            [
             1,
             "#f0f921"
            ]
           ]
          },
          "colorway": [
           "#636efa",
           "#EF553B",
           "#00cc96",
           "#ab63fa",
           "#FFA15A",
           "#19d3f3",
           "#FF6692",
           "#B6E880",
           "#FF97FF",
           "#FECB52"
          ],
          "font": {
           "color": "#2a3f5f"
          },
          "geo": {
           "bgcolor": "white",
           "lakecolor": "white",
           "landcolor": "#E5ECF6",
           "showlakes": true,
           "showland": true,
           "subunitcolor": "white"
          },
          "hoverlabel": {
           "align": "left"
          },
          "hovermode": "closest",
          "mapbox": {
           "style": "light"
          },
          "paper_bgcolor": "white",
          "plot_bgcolor": "#E5ECF6",
          "polar": {
           "angularaxis": {
            "gridcolor": "white",
            "linecolor": "white",
            "ticks": ""
           },
           "bgcolor": "#E5ECF6",
           "radialaxis": {
            "gridcolor": "white",
            "linecolor": "white",
            "ticks": ""
           }
          },
          "scene": {
           "xaxis": {
            "backgroundcolor": "#E5ECF6",
            "gridcolor": "white",
            "gridwidth": 2,
            "linecolor": "white",
            "showbackground": true,
            "ticks": "",
            "zerolinecolor": "white"
           },
           "yaxis": {
            "backgroundcolor": "#E5ECF6",
            "gridcolor": "white",
            "gridwidth": 2,
            "linecolor": "white",
            "showbackground": true,
            "ticks": "",
            "zerolinecolor": "white"
           },
           "zaxis": {
            "backgroundcolor": "#E5ECF6",
            "gridcolor": "white",
            "gridwidth": 2,
            "linecolor": "white",
            "showbackground": true,
            "ticks": "",
            "zerolinecolor": "white"
           }
          },
          "shapedefaults": {
           "line": {
            "color": "#2a3f5f"
           }
          },
          "ternary": {
           "aaxis": {
            "gridcolor": "white",
            "linecolor": "white",
            "ticks": ""
           },
           "baxis": {
            "gridcolor": "white",
            "linecolor": "white",
            "ticks": ""
           },
           "bgcolor": "#E5ECF6",
           "caxis": {
            "gridcolor": "white",
            "linecolor": "white",
            "ticks": ""
           }
          },
          "title": {
           "x": 0.05
          },
          "xaxis": {
           "automargin": true,
           "gridcolor": "white",
           "linecolor": "white",
           "ticks": "",
           "title": {
            "standoff": 15
           },
           "zerolinecolor": "white",
           "zerolinewidth": 2
          },
          "yaxis": {
           "automargin": true,
           "gridcolor": "white",
           "linecolor": "white",
           "ticks": "",
           "title": {
            "standoff": 15
           },
           "zerolinecolor": "white",
           "zerolinewidth": 2
          }
         }
        },
        "title": {
         "text": "Population of countries in 2015"
        },
        "width": 1600,
        "xaxis": {
         "anchor": "y",
         "domain": [
          0,
          1
         ],
         "range": [
          0,
          8
         ],
         "title": {
          "text": "Fertility Rate"
         }
        },
        "yaxis": {
         "anchor": "x",
         "domain": [
          0,
          1
         ],
         "range": [
          40,
          90
         ],
         "title": {
          "text": "Life Expectancy"
         }
        }
       }
      }
     },
     "metadata": {},
     "output_type": "display_data"
    }
   ],
   "source": [
    "# creating the scatterplot for 1 selected year e.g. 2015\n",
    "fig = px.scatter(fert_pop_life_cont_2015,\n",
    "                x = fert_pop_life_cont_2015[\"fertility_rate\"], \n",
    "                y = fert_pop_life_cont_2015[\"life_expectancy\"], \n",
    "                color = fert_pop_life_cont_2015[\"Continent\"],    \n",
    "                size = fert_pop_life_cont_2015[\"Total population\"],\n",
    "                size_max = 120,\n",
    "                #text = \"Country\",\n",
    "                hover_data = {\"Continent\": False},\n",
    "                title = f\"Population of countries in 2015\",\n",
    "                custom_data = [\"Country\",\"Total population\"],\n",
    "                height = 900,\n",
    "                width = 1600,\n",
    "                opacity = 0.6\n",
    "                )\n",
    "fig.update_layout(xaxis_title = \"Fertility Rate\", yaxis_title = \"Life Expectancy\")\n",
    "fig.update_traces(textposition = \"top center\", marker_sizemin = 5, hovertemplate = \"Country: %{customdata[0]} <br>Population: %{customdata[1]:,} <br>Fertility rate: %{x} <br>Life expectancy: %{y:.1f}<extra></extra>\" )\n",
    "fig.update_layout(legend = dict(\n",
    "    orientation = \"h\",\n",
    "    yanchor = \"bottom\",\n",
    "    y = 1.02,\n",
    "    xanchor = \"right\",\n",
    "    x = 1\n",
    "), legend_title_text = \"\")\n",
    "fig.update_layout(legend = {\"itemsizing\": \"constant\"}) \n",
    "fig.update_layout(yaxis_range = [40, 90], xaxis_range = [0,8])\n",
    "#fig.update_traces(textposition='middle right')\n",
    "#fig.write_html(f\"lifeexp_{year}.html\")\n",
    "#fig.write_image(f'images/lifeexp_{year}.png', scale=1)\n",
    "fig.show()"
   ]
  },
  {
   "cell_type": "markdown",
   "id": "0d0b89f8",
   "metadata": {},
   "source": [
    "Note: Another dimension to the visualization was added by utilizing the population data, so that the size of the symbols represent the population from the gapminder dataset."
   ]
  },
  {
   "cell_type": "markdown",
   "id": "bcfc5fed",
   "metadata": {},
   "source": [
    "### Create scatterplots showing the correlation between life expectancy and fertility, by creating one plot for each year between 1960 and 2015."
   ]
  },
  {
   "cell_type": "markdown",
   "id": "e80fd6e8",
   "metadata": {},
   "source": [
    "Before that, the data contains too many gaps. Let's start from getting rid the NaNs."
   ]
  },
  {
   "cell_type": "code",
   "execution_count": 118,
   "id": "1448c9d0",
   "metadata": {},
   "outputs": [
    {
     "data": {
      "text/plain": [
       "True"
      ]
     },
     "execution_count": 118,
     "metadata": {},
     "output_type": "execute_result"
    }
   ],
   "source": [
    "fert_pop_life_cont.isnull().values.any()"
   ]
  },
  {
   "cell_type": "code",
   "execution_count": 119,
   "id": "e9bc21a6",
   "metadata": {},
   "outputs": [
    {
     "data": {
      "text/plain": [
       "1456"
      ]
     },
     "execution_count": 119,
     "metadata": {},
     "output_type": "execute_result"
    }
   ],
   "source": [
    "fert_pop_life_cont.isnull().sum().sum()"
   ]
  },
  {
   "cell_type": "code",
   "execution_count": 120,
   "id": "bab59b76",
   "metadata": {},
   "outputs": [],
   "source": [
    "fert_pop_life_cont.dropna(inplace = True)"
   ]
  },
  {
   "cell_type": "code",
   "execution_count": 121,
   "id": "73a050f1",
   "metadata": {},
   "outputs": [
    {
     "data": {
      "text/plain": [
       "False"
      ]
     },
     "execution_count": 121,
     "metadata": {},
     "output_type": "execute_result"
    }
   ],
   "source": [
    "fert_pop_life_cont.isnull().values.any()"
   ]
  },
  {
   "cell_type": "code",
   "execution_count": 122,
   "id": "9e6adbb7",
   "metadata": {},
   "outputs": [
    {
     "data": {
      "text/html": [
       "<div>\n",
       "<style scoped>\n",
       "    .dataframe tbody tr th:only-of-type {\n",
       "        vertical-align: middle;\n",
       "    }\n",
       "\n",
       "    .dataframe tbody tr th {\n",
       "        vertical-align: top;\n",
       "    }\n",
       "\n",
       "    .dataframe thead th {\n",
       "        text-align: right;\n",
       "    }\n",
       "</style>\n",
       "<table border=\"1\" class=\"dataframe\">\n",
       "  <thead>\n",
       "    <tr style=\"text-align: right;\">\n",
       "      <th></th>\n",
       "      <th>Continent</th>\n",
       "      <th>Country</th>\n",
       "      <th>year</th>\n",
       "      <th>fertility_rate</th>\n",
       "      <th>Total population</th>\n",
       "      <th>life_expectancy</th>\n",
       "    </tr>\n",
       "  </thead>\n",
       "  <tbody>\n",
       "    <tr>\n",
       "      <th>0</th>\n",
       "      <td>Africa</td>\n",
       "      <td>Algeria</td>\n",
       "      <td>1800</td>\n",
       "      <td>6.99</td>\n",
       "      <td>2503218.0</td>\n",
       "      <td>28.82</td>\n",
       "    </tr>\n",
       "    <tr>\n",
       "      <th>1</th>\n",
       "      <td>Africa</td>\n",
       "      <td>Algeria</td>\n",
       "      <td>1810</td>\n",
       "      <td>6.99</td>\n",
       "      <td>2595056.0</td>\n",
       "      <td>28.82</td>\n",
       "    </tr>\n",
       "    <tr>\n",
       "      <th>2</th>\n",
       "      <td>Africa</td>\n",
       "      <td>Algeria</td>\n",
       "      <td>1820</td>\n",
       "      <td>6.99</td>\n",
       "      <td>2713079.0</td>\n",
       "      <td>28.82</td>\n",
       "    </tr>\n",
       "    <tr>\n",
       "      <th>3</th>\n",
       "      <td>Africa</td>\n",
       "      <td>Algeria</td>\n",
       "      <td>1830</td>\n",
       "      <td>6.99</td>\n",
       "      <td>2880355.0</td>\n",
       "      <td>28.82</td>\n",
       "    </tr>\n",
       "    <tr>\n",
       "      <th>4</th>\n",
       "      <td>Africa</td>\n",
       "      <td>Algeria</td>\n",
       "      <td>1840</td>\n",
       "      <td>6.99</td>\n",
       "      <td>3082721.0</td>\n",
       "      <td>28.82</td>\n",
       "    </tr>\n",
       "    <tr>\n",
       "      <th>...</th>\n",
       "      <td>...</td>\n",
       "      <td>...</td>\n",
       "      <td>...</td>\n",
       "      <td>...</td>\n",
       "      <td>...</td>\n",
       "      <td>...</td>\n",
       "    </tr>\n",
       "    <tr>\n",
       "      <th>14189</th>\n",
       "      <td>South America</td>\n",
       "      <td>Venezuela</td>\n",
       "      <td>2011</td>\n",
       "      <td>2.44</td>\n",
       "      <td>29427631.0</td>\n",
       "      <td>74.80</td>\n",
       "    </tr>\n",
       "    <tr>\n",
       "      <th>14190</th>\n",
       "      <td>South America</td>\n",
       "      <td>Venezuela</td>\n",
       "      <td>2012</td>\n",
       "      <td>2.42</td>\n",
       "      <td>29854238.0</td>\n",
       "      <td>74.60</td>\n",
       "    </tr>\n",
       "    <tr>\n",
       "      <th>14191</th>\n",
       "      <td>South America</td>\n",
       "      <td>Venezuela</td>\n",
       "      <td>2013</td>\n",
       "      <td>2.39</td>\n",
       "      <td>30276045.0</td>\n",
       "      <td>74.70</td>\n",
       "    </tr>\n",
       "    <tr>\n",
       "      <th>14192</th>\n",
       "      <td>South America</td>\n",
       "      <td>Venezuela</td>\n",
       "      <td>2014</td>\n",
       "      <td>2.36</td>\n",
       "      <td>30693827.0</td>\n",
       "      <td>74.80</td>\n",
       "    </tr>\n",
       "    <tr>\n",
       "      <th>14193</th>\n",
       "      <td>South America</td>\n",
       "      <td>Venezuela</td>\n",
       "      <td>2015</td>\n",
       "      <td>2.34</td>\n",
       "      <td>31108083.0</td>\n",
       "      <td>74.80</td>\n",
       "    </tr>\n",
       "  </tbody>\n",
       "</table>\n",
       "<p>13446 rows × 6 columns</p>\n",
       "</div>"
      ],
      "text/plain": [
       "           Continent    Country  year  fertility_rate  Total population  \\\n",
       "0             Africa    Algeria  1800            6.99         2503218.0   \n",
       "1             Africa    Algeria  1810            6.99         2595056.0   \n",
       "2             Africa    Algeria  1820            6.99         2713079.0   \n",
       "3             Africa    Algeria  1830            6.99         2880355.0   \n",
       "4             Africa    Algeria  1840            6.99         3082721.0   \n",
       "...              ...        ...   ...             ...               ...   \n",
       "14189  South America  Venezuela  2011            2.44        29427631.0   \n",
       "14190  South America  Venezuela  2012            2.42        29854238.0   \n",
       "14191  South America  Venezuela  2013            2.39        30276045.0   \n",
       "14192  South America  Venezuela  2014            2.36        30693827.0   \n",
       "14193  South America  Venezuela  2015            2.34        31108083.0   \n",
       "\n",
       "       life_expectancy  \n",
       "0                28.82  \n",
       "1                28.82  \n",
       "2                28.82  \n",
       "3                28.82  \n",
       "4                28.82  \n",
       "...                ...  \n",
       "14189            74.80  \n",
       "14190            74.60  \n",
       "14191            74.70  \n",
       "14192            74.80  \n",
       "14193            74.80  \n",
       "\n",
       "[13446 rows x 6 columns]"
      ]
     },
     "execution_count": 122,
     "metadata": {},
     "output_type": "execute_result"
    }
   ],
   "source": [
    "fert_pop_life_cont"
   ]
  },
  {
   "cell_type": "markdown",
   "id": "113fcf41",
   "metadata": {},
   "source": [
    "Check the min and max for fertility rate and life expectancy columns in order to use properly the function plt.axis((xmin, xmax, ymin, ymax)) to fix respectively the coordinates of the plot. "
   ]
  },
  {
   "cell_type": "code",
   "execution_count": 123,
   "id": "1e3bc8c3",
   "metadata": {},
   "outputs": [
    {
     "data": {
      "text/html": [
       "<div>\n",
       "<style scoped>\n",
       "    .dataframe tbody tr th:only-of-type {\n",
       "        vertical-align: middle;\n",
       "    }\n",
       "\n",
       "    .dataframe tbody tr th {\n",
       "        vertical-align: top;\n",
       "    }\n",
       "\n",
       "    .dataframe thead th {\n",
       "        text-align: right;\n",
       "    }\n",
       "</style>\n",
       "<table border=\"1\" class=\"dataframe\">\n",
       "  <thead>\n",
       "    <tr style=\"text-align: right;\">\n",
       "      <th></th>\n",
       "      <th>life_expectancy</th>\n",
       "      <th>fertility_rate</th>\n",
       "    </tr>\n",
       "  </thead>\n",
       "  <tbody>\n",
       "    <tr>\n",
       "      <th>min</th>\n",
       "      <td>4.0</td>\n",
       "      <td>1.13</td>\n",
       "    </tr>\n",
       "    <tr>\n",
       "      <th>max</th>\n",
       "      <td>83.3</td>\n",
       "      <td>9.22</td>\n",
       "    </tr>\n",
       "  </tbody>\n",
       "</table>\n",
       "</div>"
      ],
      "text/plain": [
       "     life_expectancy  fertility_rate\n",
       "min              4.0            1.13\n",
       "max             83.3            9.22"
      ]
     },
     "execution_count": 123,
     "metadata": {},
     "output_type": "execute_result"
    }
   ],
   "source": [
    "fert_pop_life_cont.agg({\"life_expectancy\":[\"min\", \"max\"], \"fertility_rate\":[\"min\", \"max\"]})"
   ]
  },
  {
   "cell_type": "markdown",
   "id": "35ae93b4",
   "metadata": {},
   "source": [
    "Write a for loop that iterates through each year and produces a scatterplot.\n",
    "\n",
    "Save each scatterplot to a separate file containing the year in the filename, e.g. lifeexp_1999.png."
   ]
  },
  {
   "cell_type": "code",
   "execution_count": 124,
   "id": "7648c198",
   "metadata": {},
   "outputs": [],
   "source": [
    "#pip install -U kaleido"
   ]
  },
  {
   "cell_type": "code",
   "execution_count": 125,
   "id": "a42f7e8b",
   "metadata": {},
   "outputs": [],
   "source": [
    "for year in range(1960, 2016):\n",
    "    fert_pop_life_cont_subset = fert_pop_life_cont.loc[fert_pop_life_cont[\"year\"]== year]\n",
    "\n",
    "    fig = px.scatter(fert_pop_life_cont_subset,\n",
    "                x = fert_pop_life_cont_subset[\"fertility_rate\"], \n",
    "                y = fert_pop_life_cont_subset[\"life_expectancy\"], \n",
    "                color = fert_pop_life_cont_subset[\"Continent\"],    \n",
    "                size = fert_pop_life_cont_subset[\"Total population\"],\n",
    "                size_max = 120,\n",
    "                #text = \"Country\",\n",
    "                hover_data = {\"Continent\": False},\n",
    "                title = f\"Population of countries in 2015\",\n",
    "                custom_data = [\"Country\",\"Total population\"],\n",
    "                height = 900,\n",
    "                width = 1600,\n",
    "                opacity = 0.6\n",
    "                )\n",
    "    \n",
    "    fig.update_layout(xaxis_title = \"Fertility Rate\", yaxis_title = \"Life Expectancy\")\n",
    "    fig.update_traces(marker_sizemin = 5, hovertemplate = \"Country: %{customdata[0]} <br>Population: %{customdata[1]:,} <br>Fertility rate: %{x} <br>Life expectancy: %{y:.1f}<extra></extra>\" )\n",
    "    fig.update_layout(legend = dict(\n",
    "                                orientation = \"h\",\n",
    "                                yanchor = \"bottom\",\n",
    "                                y = 1.02,\n",
    "                                xanchor = \"right\",\n",
    "                                x = 1\n",
    "                                ), \n",
    "                      legend_title_text = \"\")\n",
    "    fig.update_layout(legend = {\"itemsizing\": \"constant\"})\n",
    "    fig.update_layout(yaxis_range = [0, 90], xaxis_range = [0, 10])\n",
    "    #fig.update_traces(textposition='middle right')\n",
    "    fig.write_image(f'images/lifeexp_{year}.png', scale = 1)\n",
    "    \n"
   ]
  },
  {
   "cell_type": "markdown",
   "id": "9a73cf8d",
   "metadata": {},
   "source": [
    "# Generate a gif file"
   ]
  },
  {
   "cell_type": "markdown",
   "id": "8b65b33e",
   "metadata": {},
   "source": [
    "To generate a gif file from the individual pictures create an empty list and write a for loop to iterate through the png images from previous step and append the images list."
   ]
  },
  {
   "cell_type": "code",
   "execution_count": 126,
   "id": "57e39dc1",
   "metadata": {},
   "outputs": [],
   "source": [
    "images = []"
   ]
  },
  {
   "cell_type": "markdown",
   "id": "8b8ec5b7",
   "metadata": {},
   "source": [
    "Generate a gif with a step of 10."
   ]
  },
  {
   "cell_type": "code",
   "execution_count": 127,
   "id": "db296b76",
   "metadata": {},
   "outputs": [],
   "source": [
    "for i in range(1960, 2016):\n",
    "    filename = \"images/lifeexp_{}.png\".format(i)\n",
    "    images.append(imageio.v3.imread(filename))\n",
    "\n",
    "imageio.mimsave(\"gif/animatedscatter_plotly_step_by_10.gif\", images, fps = 10)"
   ]
  },
  {
   "cell_type": "markdown",
   "id": "7176739f",
   "metadata": {},
   "source": [
    "Generate a gif with a step of 5."
   ]
  },
  {
   "cell_type": "code",
   "execution_count": 128,
   "id": "20fe7e16",
   "metadata": {},
   "outputs": [],
   "source": [
    "for i in range(1960, 2016):\n",
    "    filename = \"images/lifeexp_{}.png\".format(i)\n",
    "    images.append(imageio.v3.imread(filename))\n",
    "\n",
    "imageio.mimsave(\"gif/animatedscatter_plotly_step_by_5.gif\", images, fps = 5)"
   ]
  }
 ],
 "metadata": {
  "kernelspec": {
   "display_name": "Python 3 (ipykernel)",
   "language": "python",
   "name": "python3"
  },
  "language_info": {
   "codemirror_mode": {
    "name": "ipython",
    "version": 3
   },
   "file_extension": ".py",
   "mimetype": "text/x-python",
   "name": "python",
   "nbconvert_exporter": "python",
   "pygments_lexer": "ipython3",
   "version": "3.9.13"
  }
 },
 "nbformat": 4,
 "nbformat_minor": 5
}
